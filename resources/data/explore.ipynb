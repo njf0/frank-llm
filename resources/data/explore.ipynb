{
 "cells": [
  {
   "cell_type": "code",
   "execution_count": 48,
   "metadata": {},
   "outputs": [],
   "source": [
    "import json\n",
    "from pathlib import Path\n",
    "\n",
    "import pandas as pd"
   ]
  },
  {
   "cell_type": "code",
   "execution_count": 49,
   "metadata": {},
   "outputs": [
    {
     "name": "stdout",
     "output_type": "stream",
     "text": [
      "7405\n"
     ]
    }
   ],
   "source": [
    "file = Path(\"/app/resources/data/HotpotQA/hotpot_test_fullwiki_v1.jsonl\")\n",
    "df = pd.read_json(file, lines=True)\n",
    "print(len(df))"
   ]
  },
  {
   "cell_type": "code",
   "execution_count": 50,
   "metadata": {},
   "outputs": [],
   "source": [
    "max_len_decomp = max(df[\"context\"].apply(len))\n",
    "# get rows where len(df[\"decomposition\"]) equals max_len_decomp\n",
    "df = df[df[\"context\"].apply(len) == max_len_decomp]"
   ]
  },
  {
   "cell_type": "code",
   "execution_count": 51,
   "metadata": {},
   "outputs": [
    {
     "data": {
      "text/html": [
       "<div>\n",
       "<style scoped>\n",
       "    .dataframe tbody tr th:only-of-type {\n",
       "        vertical-align: middle;\n",
       "    }\n",
       "\n",
       "    .dataframe tbody tr th {\n",
       "        vertical-align: top;\n",
       "    }\n",
       "\n",
       "    .dataframe thead th {\n",
       "        text-align: right;\n",
       "    }\n",
       "</style>\n",
       "<table border=\"1\" class=\"dataframe\">\n",
       "  <thead>\n",
       "    <tr style=\"text-align: right;\">\n",
       "      <th></th>\n",
       "      <th>_id</th>\n",
       "      <th>question</th>\n",
       "      <th>context</th>\n",
       "    </tr>\n",
       "  </thead>\n",
       "  <tbody>\n",
       "    <tr>\n",
       "      <th>0</th>\n",
       "      <td>5adf9ba1554299025d62a2db</td>\n",
       "      <td>What position on the Billboard Top 100 did Ali...</td>\n",
       "      <td>[[The Other Side of Love, [\"The Other Side of ...</td>\n",
       "    </tr>\n",
       "    <tr>\n",
       "      <th>1</th>\n",
       "      <td>5a7befac5542996dd594b857</td>\n",
       "      <td>What year did the British politician born in 1...</td>\n",
       "      <td>[[Philip Cowley, [Philip Cowley is a British p...</td>\n",
       "    </tr>\n",
       "    <tr>\n",
       "      <th>2</th>\n",
       "      <td>5ab80e565542991d32223821</td>\n",
       "      <td>Which franchise was founded in 1978, Chuck E. ...</td>\n",
       "      <td>[[The Rock-afire Explosion, [The Rock-a-fire E...</td>\n",
       "    </tr>\n",
       "    <tr>\n",
       "      <th>3</th>\n",
       "      <td>5ae09e595542993d6555ebc0</td>\n",
       "      <td>Roden Cutler House is owned by an electricity ...</td>\n",
       "      <td>[[Askin–Cutler ministry (1965–68), [The Askin–...</td>\n",
       "    </tr>\n",
       "    <tr>\n",
       "      <th>4</th>\n",
       "      <td>5ae6094555429929b0807a96</td>\n",
       "      <td>What year was the inspiration for the 2009 dra...</td>\n",
       "      <td>[[Mick Fanning, [Michael Eugene \"Mick\" Fanning...</td>\n",
       "    </tr>\n",
       "    <tr>\n",
       "      <th>...</th>\n",
       "      <td>...</td>\n",
       "      <td>...</td>\n",
       "      <td>...</td>\n",
       "    </tr>\n",
       "    <tr>\n",
       "      <th>7400</th>\n",
       "      <td>5a79f76e5542996a35c17056</td>\n",
       "      <td>Which film was released first, Air Bud or Old ...</td>\n",
       "      <td>[[Space Buddies, [Space Buddies is a 2009 fami...</td>\n",
       "    </tr>\n",
       "    <tr>\n",
       "      <th>7401</th>\n",
       "      <td>5a85b91a5542994c784ddb66</td>\n",
       "      <td>What type of media does Coda and The Walking D...</td>\n",
       "      <td>[[The Walking Dead (video game), [The Walking ...</td>\n",
       "    </tr>\n",
       "    <tr>\n",
       "      <th>7402</th>\n",
       "      <td>5a822b1355429926c1cdae44</td>\n",
       "      <td>What original part of the namesake building in...</td>\n",
       "      <td>[[Greenloaning, [Greenloaning is a village in ...</td>\n",
       "    </tr>\n",
       "    <tr>\n",
       "      <th>7403</th>\n",
       "      <td>5a712afc5542994082a3e615</td>\n",
       "      <td>Which film was made earlier, Tonka or Meet the...</td>\n",
       "      <td>[[Israel Broadcasting Authority, [Israel Broad...</td>\n",
       "    </tr>\n",
       "    <tr>\n",
       "      <th>7404</th>\n",
       "      <td>5a8966395542993b751ca93b</td>\n",
       "      <td>What do you call those who were slaves but won...</td>\n",
       "      <td>[[National Children’s and Youth Law Centre, [T...</td>\n",
       "    </tr>\n",
       "  </tbody>\n",
       "</table>\n",
       "<p>7352 rows × 3 columns</p>\n",
       "</div>"
      ],
      "text/plain": [
       "                           _id  \\\n",
       "0     5adf9ba1554299025d62a2db   \n",
       "1     5a7befac5542996dd594b857   \n",
       "2     5ab80e565542991d32223821   \n",
       "3     5ae09e595542993d6555ebc0   \n",
       "4     5ae6094555429929b0807a96   \n",
       "...                        ...   \n",
       "7400  5a79f76e5542996a35c17056   \n",
       "7401  5a85b91a5542994c784ddb66   \n",
       "7402  5a822b1355429926c1cdae44   \n",
       "7403  5a712afc5542994082a3e615   \n",
       "7404  5a8966395542993b751ca93b   \n",
       "\n",
       "                                               question  \\\n",
       "0     What position on the Billboard Top 100 did Ali...   \n",
       "1     What year did the British politician born in 1...   \n",
       "2     Which franchise was founded in 1978, Chuck E. ...   \n",
       "3     Roden Cutler House is owned by an electricity ...   \n",
       "4     What year was the inspiration for the 2009 dra...   \n",
       "...                                                 ...   \n",
       "7400  Which film was released first, Air Bud or Old ...   \n",
       "7401  What type of media does Coda and The Walking D...   \n",
       "7402  What original part of the namesake building in...   \n",
       "7403  Which film was made earlier, Tonka or Meet the...   \n",
       "7404  What do you call those who were slaves but won...   \n",
       "\n",
       "                                                context  \n",
       "0     [[The Other Side of Love, [\"The Other Side of ...  \n",
       "1     [[Philip Cowley, [Philip Cowley is a British p...  \n",
       "2     [[The Rock-afire Explosion, [The Rock-a-fire E...  \n",
       "3     [[Askin–Cutler ministry (1965–68), [The Askin–...  \n",
       "4     [[Mick Fanning, [Michael Eugene \"Mick\" Fanning...  \n",
       "...                                                 ...  \n",
       "7400  [[Space Buddies, [Space Buddies is a 2009 fami...  \n",
       "7401  [[The Walking Dead (video game), [The Walking ...  \n",
       "7402  [[Greenloaning, [Greenloaning is a village in ...  \n",
       "7403  [[Israel Broadcasting Authority, [Israel Broad...  \n",
       "7404  [[National Children’s and Youth Law Centre, [T...  \n",
       "\n",
       "[7352 rows x 3 columns]"
      ]
     },
     "execution_count": 51,
     "metadata": {},
     "output_type": "execute_result"
    }
   ],
   "source": [
    "df"
   ]
  },
  {
   "cell_type": "code",
   "execution_count": 52,
   "metadata": {},
   "outputs": [],
   "source": [
    "df.to_json(\n",
    "    \"/app/resources/data/HotpotQA/hotpot_test_fullwiki_v1_max_context.jsonl\",\n",
    "    orient=\"records\",\n",
    "    lines=True,\n",
    ")"
   ]
  }
 ],
 "metadata": {
  "kernelspec": {
   "display_name": "Python 3",
   "language": "python",
   "name": "python3"
  },
  "language_info": {
   "codemirror_mode": {
    "name": "ipython",
    "version": 3
   },
   "file_extension": ".py",
   "mimetype": "text/x-python",
   "name": "python",
   "nbconvert_exporter": "python",
   "pygments_lexer": "ipython3",
   "version": "3.10.12"
  }
 },
 "nbformat": 4,
 "nbformat_minor": 2
}
