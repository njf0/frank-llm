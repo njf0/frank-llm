{
 "cells": [
  {
   "cell_type": "code",
   "execution_count": 1,
   "metadata": {},
   "outputs": [],
   "source": [
    "import pandas as pd\n",
    "import json"
   ]
  },
  {
   "cell_type": "code",
   "execution_count": 2,
   "metadata": {},
   "outputs": [],
   "source": [
    "iso3166 = pd.read_csv('iso-3166.csv')"
   ]
  },
  {
   "cell_type": "code",
   "execution_count": 5,
   "metadata": {},
   "outputs": [
    {
     "data": {
      "text/plain": [
       "{'Australasia',\n",
       " 'Central Asia',\n",
       " 'Eastern Asia',\n",
       " 'Eastern Europe',\n",
       " 'Latin America and the Caribbean',\n",
       " 'Micronesia',\n",
       " 'Northern Africa',\n",
       " 'Northern America',\n",
       " 'Northern Europe',\n",
       " 'Polynesia',\n",
       " 'South-eastern Asia',\n",
       " 'Southern Asia',\n",
       " 'Southern Europe',\n",
       " 'Sub-Saharan Africa',\n",
       " 'Western Asia',\n",
       " 'Western Europe'}"
      ]
     },
     "execution_count": 5,
     "metadata": {},
     "output_type": "execute_result"
    }
   ],
   "source": [
    "# number of unique values\n",
    "set(iso3166['sub-region'])"
   ]
  }
 ],
 "metadata": {
  "kernelspec": {
   "display_name": ".env",
   "language": "python",
   "name": "python3"
  },
  "language_info": {
   "codemirror_mode": {
    "name": "ipython",
    "version": 3
   },
   "file_extension": ".py",
   "mimetype": "text/x-python",
   "name": "python",
   "nbconvert_exporter": "python",
   "pygments_lexer": "ipython3",
   "version": "3.10.15"
  }
 },
 "nbformat": 4,
 "nbformat_minor": 2
}
