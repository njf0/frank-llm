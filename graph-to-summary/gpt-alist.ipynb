{
 "cells": [
  {
   "cell_type": "code",
   "execution_count": 1,
   "metadata": {},
   "outputs": [],
   "source": [
    "import json\n",
    "import os\n",
    "import sys\n",
    "\n",
    "import openai"
   ]
  },
  {
   "cell_type": "code",
   "execution_count": 2,
   "metadata": {},
   "outputs": [],
   "source": [
    "sys.path.append(os.path.abspath(os.path.join('..')))\n",
    "from private.keys import OPENAI_SECRET_KEY\n",
    "openai.api_key = OPENAI_SECRET_KEY"
   ]
  },
  {
   "cell_type": "code",
   "execution_count": 4,
   "metadata": {},
   "outputs": [],
   "source": [
    "with open('logs/2023-05-03T14:54:47.653594.json', 'r') as f:\n",
    "    data = json.load(f)\n",
    "nodes = []\n",
    "for i in data['graph']:\n",
    "    if i not in nodes:\n",
    "        nodes.append(i)"
   ]
  },
  {
   "cell_type": "code",
   "execution_count": 5,
   "metadata": {},
   "outputs": [],
   "source": [
    "node = {\n",
    "            \"inference_function\": \"linear_regression\",\n",
    "            \"subject\": \"France\",\n",
    "            \"property\": \"population\",\n",
    "            \"object\": 68647760.07142854,\n",
    "            \"uncertainty\": 0.025799356546467818,\n",
    "            \"time\": 2026,\n",
    "            \"function_parameters\": {\n",
    "                    \"0\": -320649080.5714287,\n",
    "                    \"1\": 192150.46428571435,\n",
    "                },\n",
    "            \"data\": [\n",
    "                {\n",
    "                    \"year\": 2021,\n",
    "                    \"value\": 67749632.0\n",
    "                },\n",
    "                {\n",
    "                    \"year\": 2020.0,\n",
    "                    \"value\": 67317405.0\n",
    "                },\n",
    "                {\n",
    "                    \"year\": 2019.0,\n",
    "                    \"value\": 67388001.0\n",
    "                },\n",
    "                {\n",
    "                    \"year\": 2018.0,\n",
    "                    \"value\": 67158348.0\n",
    "                },\n",
    "                {\n",
    "                    \"year\": 2017.0, \n",
    "                    \"value\": 66918020.0\n",
    "                },\n",
    "                {\n",
    "                    \"year\": 2016.0,\n",
    "                    \"value\": 66724104.0\n",
    "                },\n",
    "                {\n",
    "                    \"year\": 2015.0,\n",
    "                    \"value\": 66548272.0\n",
    "                },\n",
    "                {\n",
    "                    \"year\": 2014.0,\n",
    "                    \"value\": 66312067.0\n",
    "                }\n",
    "            ],\n",
    "            \"data_sources\": [\n",
    "                    \"wikidata\",\n",
    "                    \"worldbank\"\n",
    "            ],\n",
    "        }\n"
   ]
  },
  {
   "cell_type": "code",
   "execution_count": 6,
   "metadata": {},
   "outputs": [],
   "source": [
    "comp = openai.ChatCompletion.create(\n",
    "    model = 'gpt-3.5-turbo',\n",
    "    messages = [\n",
    "        {'role': 'system', 'content': 'You are a question answering system explaining the reasoning behind the methodology chosen to generate an answer. The system works by breaking down questions into sub-problems and using mathematical operations to combine data sourced from the web to infer an answer. The following structured representation encodes the answer that has been inferred. Create a summarisation of its content in natural language. The original question was \"What will be the population of France in 2026?\"'},\n",
    "        {'role': 'user', 'content': f'{node}'},\n",
    "    ]\n",
    ")"
   ]
  },
  {
   "cell_type": "code",
   "execution_count": 8,
   "metadata": {},
   "outputs": [
    {
     "data": {
      "text/plain": [
       "'According to the linear regression model used, the population of France in 2026 is estimated to be approximately 68,647,760.07142854, with an uncertainty of 0.025799356546467818. This estimation is based on historical population data from the years 2014 to 2021, sourced from Wikidata and World Bank. The model parameters, derived from the regression analysis, indicate a linear relationship between time and population. The population values for previous years were used to train the model and predict the population for the year 2026.'"
      ]
     },
     "execution_count": 8,
     "metadata": {},
     "output_type": "execute_result"
    }
   ],
   "source": [
    "comp.choices[0].message.content"
   ]
  },
  {
   "cell_type": "code",
   "execution_count": null,
   "metadata": {},
   "outputs": [],
   "source": [
    "{'prompt': 'You are a question answering system explaining the reasoning behind the methodology chosen to generate an answer. The following structured representation encodes the answer that has been inferred. Create a summarisation of its content in natural language. The original question was \"What will be the population of France in 2026?\"', 'response': 'According to the linear regression model used, the estimated population of France in 2026 is 68,647,760.07142854, with an uncertainty of 0.025799356546467818. The model is based on historical data from 2014 to 2021, where the population values were obtained from sources such as Wikidata and the World Bank. The population values from previous years were used to derive the parameters of the linear regression model.'}"
   ]
  },
  {
   "cell_type": "code",
   "execution_count": 5,
   "metadata": {},
   "outputs": [
    {
     "data": {
      "text/plain": [
       "'According to the linear regression model used, the estimated population of France in 2026 is 68,647,760.07142854, with an uncertainty of 0.025799356546467818. The model is based on historical data from 2014 to 2021, where the population values were obtained from sources such as Wikidata and the World Bank. The population values from previous years were used to derive the parameters of the linear regression model.'"
      ]
     },
     "execution_count": 5,
     "metadata": {},
     "output_type": "execute_result"
    }
   ],
   "source": [
    "{'complex_prompt': 'You are a question answering system explaining the reasoning behind the methodology chosen to generate an answer. The system works by breaking down questions into sub-problems and using mathematical operations to combine data sourced from the web to infer an answer. The following structured representation encodes the answer that has been inferred. Create a summarisation of its content in natural language. The original question was \"What will be the population of France in 2026?\"', 'response': 'According to the linear regression model used, the population of France in 2026 is estimated to be approximately 68,647,760.07142854, with an uncertainty of 0.025799356546467818. This estimation is based on historical population data from the years 2014 to 2021, sourced from Wikidata and World Bank. The model parameters, derived from the regression analysis, indicate a linear relationship between time and population. The population values for previous years were used to train the model and predict the population for the year 2026.'}"
   ]
  },
  {
   "cell_type": "code",
   "execution_count": 17,
   "metadata": {},
   "outputs": [],
   "source": [
    "data = [{\"year\": 2021, \"value\": 67749632.0}, {\"year\": 2020, \"value\": 67317405.0}, {\"year\": 2019, \"value\": 67388001.0}, {\"year\": 2018, \"value\": 67158348.0}, {\"year\": 2017, \"value\": 66918020.0}, {\"year\": 2016, \"value\": 66724104.0}, {\"year\": 2015, \"value\": 66548272.0}, {\"year\": 2014, \"value\": 66312067.0}]"
   ]
  },
  {
   "cell_type": "code",
   "execution_count": 18,
   "metadata": {},
   "outputs": [],
   "source": [
    "data_comp = openai.ChatCompletion.create(\n",
    "    model = 'gpt-3.5-turbo',\n",
    "    messages = [\n",
    "        {'role': 'system', 'content': 'You are a question answering system explaining the reasoning behind the methodology chosen to generate an answer. The system works by breaking down questions into sub-problems and using mathematical operations to combine data sourced from the web to infer an answer. The following structured representation encodes the data was used in a linear regression model. Create a summarisation of its content in natural language. The original question was \"What will be the population of France in 2026?\"'},\n",
    "        {'role': 'user', 'content': f'{data}'},\n",
    "    ]\n",
    ")"
   ]
  },
  {
   "cell_type": "code",
   "execution_count": 19,
   "metadata": {},
   "outputs": [
    {
     "data": {
      "text/plain": [
       "'The provided data represents the population of France in previous years. Here are the population values for the years 2014 to 2021: \\n\\n- In 2014, the population was 66,312,067.\\n- In 2015, the population was 66,548,272.\\n- In 2016, the population was 66,724,104.\\n- In 2017, the population was 66,918,020.\\n- In 2018, the population was 67,158,348.\\n- In 2019, the population was 67,388,001.\\n- In 2020, the population was 67,317,405.\\n- In 2021, the population was 67,749,632.\\n\\nBased on this historical data, we can analyze the population trend over the years and make predictions for future populations.'"
      ]
     },
     "execution_count": 19,
     "metadata": {},
     "output_type": "execute_result"
    }
   ],
   "source": [
    "data_comp.choices[0].message.content"
   ]
  },
  {
   "cell_type": "code",
   "execution_count": 20,
   "metadata": {},
   "outputs": [],
   "source": [
    "data_comp_2 = openai.ChatCompletion.create(\n",
    "    model = 'gpt-3.5-turbo',\n",
    "    messages = [\n",
    "        {'role': 'system', 'content': 'Create a summarisation of the following structured representation in natural language. It contains population values for different years.\"'},\n",
    "        {'role': 'user', 'content': f'{data}'},\n",
    "    ]\n",
    ")"
   ]
  },
  {
   "cell_type": "code",
   "execution_count": 21,
   "metadata": {},
   "outputs": [
    {
     "data": {
      "text/plain": [
       "'The population values for different years are as follows: \\n\\n- In 2021, the population was 67,749,632.0.\\n- In 2020, the population was 67,317,405.0.\\n- In 2019, the population was 67,388,001.0.\\n- In 2018, the population was 67,158,348.0.\\n- In 2017, the population was 66,918,020.0.\\n- In 2016, the population was 66,724,104.0.\\n- In 2015, the population was 66,548,272.0.\\n- In 2014, the population was 66,312,067.0.'"
      ]
     },
     "execution_count": 21,
     "metadata": {},
     "output_type": "execute_result"
    }
   ],
   "source": [
    "data_comp_2.choices[0].message.content"
   ]
  },
  {
   "cell_type": "markdown",
   "metadata": {},
   "source": [
    "Nested query error: can't decode json containing alists as part of \"what\" explanations due to presence of \"{\""
   ]
  },
  {
   "cell_type": "code",
   "execution_count": 6,
   "metadata": {},
   "outputs": [],
   "source": [
    "nested_node = {\n",
    "    \"operation\": \"value\",\n",
    "    \"subject\": \"$x3\",\n",
    "    \"property\": \"population\",\n",
    "    \"object\": \"?y0\",\n",
    "    \"value\": \"?y0\",\n",
    "    \"uncertainty\": 0.025206801324697572,\n",
    "    \"time\": \"2025\",\n",
    "    \"data_sources\": [\n",
    "        \"wikidata\",\n",
    "        \"worldbank\"\n",
    "    ],\n",
    "    \"$x3\": {\n",
    "        \"operation\": \"max\",\n",
    "        \"subject\": \"?x4\",\n",
    "        \"property\": \"gdp\",\n",
    "        \"object\": \"$y0\",\n",
    "        \"value\": \"$y0\",\n",
    "        \"time\": \"2010\",\n",
    "        \"?x4\": {\n",
    "            \"$filter\": [\n",
    "                {\n",
    "                    \"property\": \"type\",\n",
    "                    \"object\": \"country\"\n",
    "                },\n",
    "                {\n",
    "                    \"property\": \"location\",\n",
    "                    \"object\": \"Europe\"\n",
    "                }\n",
    "            ]\n",
    "        }\n",
    "    },\n",
    "    \"?y0\": 68488255.08333331\n",
    "}\n",
    "question = \"What will be the population in 2025 of the country in Europe with the highest gdp in 2010?\""
   ]
  },
  {
   "cell_type": "code",
   "execution_count": 10,
   "metadata": {},
   "outputs": [],
   "source": [
    "nested_comp = openai.ChatCompletion.create(\n",
    "    model = 'gpt-3.5-turbo',\n",
    "    messages = [\n",
    "        {'role': 'system', 'content': 'You are a question answering system explaining the reasoning behind the methodology chosen to generate an answer. The system works by breaking down questions into sub-problems and using mathematical operations to combine data sourced from the web to infer an answer. The following structured representation encodes the answer that has been inferred. Create a summarisation of its content in natural language. The original question was \"What will be the population in 2025 of the country in Europe with the highest gdp in 2010?\"'},\n",
    "        {'role': 'user', 'content': f'{nested_node}'},\n",
    "    ]\n",
    ")"
   ]
  },
  {
   "cell_type": "code",
   "execution_count": 11,
   "metadata": {},
   "outputs": [
    {
     "data": {
      "text/plain": [
       "'The population in 2025 of the country in Europe with the highest GDP in 2010 is projected to be approximately 68,488,255.083.'"
      ]
     },
     "execution_count": 11,
     "metadata": {},
     "output_type": "execute_result"
    }
   ],
   "source": [
    "nested_comp.choices[0].message.content"
   ]
  },
  {
   "cell_type": "markdown",
   "metadata": {},
   "source": [
    "Multiple alist prompting"
   ]
  },
  {
   "cell_type": "code",
   "execution_count": 1,
   "metadata": {},
   "outputs": [],
   "source": [
    "series = [{'inference_function': 'value',\n",
    "  'subject': 'France',\n",
    "  'predicate': 'population',\n",
    "  'object': 67935660,\n",
    "  'value': '?y0',\n",
    "  'uncertainty': 0.02,\n",
    "  'time': '2022',\n",
    "  'meta': {'data_sources': ['worldbank']}},\n",
    " {'inference_function': 'value',\n",
    "  'subject': 'France',\n",
    "  'predicate': 'population',\n",
    "  'object': '67749632',\n",
    "  'value': '?y0',\n",
    "  'uncertainty': 0.05,\n",
    "  'time': '2021',\n",
    "  'meta': {'data_sources': ['wikidata']}},\n",
    " {'inference_function': 'value',\n",
    "  'subject': 'France',\n",
    "  'predicate': 'population',\n",
    "  'object': 67749632,\n",
    "  'value': '?y0',\n",
    "  'uncertainty': 0.02,\n",
    "  'time': '2021',\n",
    "  'meta': {'data_sources': ['worldbank']}},\n",
    " {'inference_function': 'value',\n",
    "  'subject': 'France',\n",
    "  'predicate': 'population',\n",
    "  'object': '67063703',\n",
    "  'value': '?y0',\n",
    "  'uncertainty': 0.05,\n",
    "  'time': '2020',\n",
    "  'meta': {'data_sources': ['wikidata']}},\n",
    " {'inference_function': 'value',\n",
    "  'subject': 'France',\n",
    "  'predicate': 'population',\n",
    "  'object': 67571107,\n",
    "  'value': '?y0',\n",
    "  'uncertainty': 0.02,\n",
    "  'time': '2020',\n",
    "  'meta': {'data_sources': ['worldbank']}},\n",
    " {'inference_function': 'value',\n",
    "  'subject': 'France',\n",
    "  'predicate': 'population',\n",
    "  'object': 67388001,\n",
    "  'value': '?y0',\n",
    "  'uncertainty': 0.02,\n",
    "  'time': '2019',\n",
    "  'meta': {'data_sources': ['worldbank']}},\n",
    " {'inference_function': 'value',\n",
    "  'subject': 'France',\n",
    "  'predicate': 'population',\n",
    "  'object': 67158348,\n",
    "  'value': '?y0',\n",
    "  'uncertainty': 0.02,\n",
    "  'time': '2018',\n",
    "  'meta': {'data_sources': ['worldbank']}},\n",
    " {'inference_function': 'value',\n",
    "  'subject': 'France',\n",
    "  'predicate': 'population',\n",
    "  'object': 66918020,\n",
    "  'value': '?y0',\n",
    "  'uncertainty': 0.02,\n",
    "  'time': '2017',\n",
    "  'meta': {'data_sources': ['worldbank']}},\n",
    " {'inference_function': 'value',\n",
    "  'subject': 'France',\n",
    "  'predicate': 'population',\n",
    "  'object': 66724104,\n",
    "  'value': '?y0',\n",
    "  'uncertainty': 0.02,\n",
    "  'time': '2016',\n",
    "  'meta': {'data_sources': ['worldbank']}},\n",
    " {'inference_function': 'value',\n",
    "  'subject': 'France',\n",
    "  'predicate': 'population',\n",
    "  'object': 66548272,\n",
    "  'value': '?y0',\n",
    "  'uncertainty': 0.02,\n",
    "  'time': '2015',\n",
    "  'meta': {'data_sources': ['worldbank']}},\n",
    " {'inference_function': 'value',\n",
    "  'subject': 'France',\n",
    "  'predicate': 'population',\n",
    "  'object': 66312067,\n",
    "  'value': '?y0',\n",
    "  'uncertainty': 0.02,\n",
    "  'time': '2014',\n",
    "  'meta': {'data_sources': ['worldbank']}}\n",
    "]"
   ]
  },
  {
   "cell_type": "code",
   "execution_count": 10,
   "metadata": {},
   "outputs": [],
   "source": [
    "nested_comp = openai.ChatCompletion.create(\n",
    "    model = 'gpt-3.5-turbo',\n",
    "    messages = [\n",
    "        {'role': 'system', 'content': 'Convert the following content into natural language, making sure to describe each key-value pair.'},\n",
    "        {'role': 'user', 'content': f'{series}'},\n",
    "    ]\n",
    ")"
   ]
  },
  {
   "cell_type": "code",
   "execution_count": 11,
   "metadata": {},
   "outputs": [
    {
     "data": {
      "text/plain": [
       "\"The content consists of a list of dictionaries, where each dictionary represents a piece of information about the population of France at a specific time.\\n\\n1. The first dictionary has the following key-value pairs:\\n    - inference_function: 'value'\\n    - subject: 'France'\\n    - predicate: 'population'\\n    - object: 67935660\\n    - value: '?y0'\\n    - uncertainty: 0.02\\n    - time: '2022'\\n    - meta: {'data_sources': ['worldbank']}\\n\\n2. The second dictionary has the following key-value pairs:\\n    - inference_function: 'value'\\n    - subject: 'France'\\n    - predicate: 'population'\\n    - object: '67749632'\\n    - value: '?y0'\\n    - uncertainty: 0.05\\n    - time: '2021'\\n    - meta: {'data_sources': ['wikidata']}\\n\\n3. The third dictionary has the following key-value pairs:\\n    - inference_function: 'value'\\n    - subject: 'France'\\n    - predicate: 'population'\\n    - object: 67749632\\n    - value: '?y0'\\n    - uncertainty: 0.02\\n    - time: '2021'\\n    - meta: {'data_sources': ['worldbank']}\\n\\n4. The fourth dictionary has the following key-value pairs:\\n    - inference_function: 'value'\\n    - subject: 'France'\\n    - predicate: 'population'\\n    - object: '67063703'\\n    - value: '?y0'\\n    - uncertainty: 0.05\\n    - time: '2020'\\n    - meta: {'data_sources': ['wikidata']}\\n\\n5. The fifth dictionary has the following key-value pairs:\\n    - inference_function: 'value'\\n    - subject: 'France'\\n    - predicate: 'population'\\n    - object: 67571107\\n    - value: '?y0'\\n    - uncertainty: 0.02\\n    - time: '2020'\\n    - meta: {'data_sources': ['worldbank']}\\n\\n6. The sixth dictionary has the following key-value pairs:\\n    - inference_function: 'value'\\n    - subject: 'France'\\n    - predicate: 'population'\\n    - object: 67388001\\n    - value: '?y0'\\n    - uncertainty: 0.02\\n    - time: '2019'\\n    - meta: {'data_sources': ['worldbank']}\\n\\n7. The seventh dictionary has the following key-value pairs:\\n    - inference_function: 'value'\\n    - subject: 'France'\\n    - predicate: 'population'\\n    - object: 67158348\\n    - value: '?y0'\\n    - uncertainty: 0.02\\n    - time: '2018'\\n    - meta: {'data_sources': ['worldbank']}\\n\\n8. The eighth dictionary has the following key-value pairs:\\n    - inference_function: 'value'\\n    - subject: 'France'\\n    - predicate: 'population'\\n    - object: 66918020\\n    - value: '?y0'\\n    - uncertainty: 0.02\\n    - time: '2017'\\n    - meta: {'data_sources': ['worldbank']}\\n\\n9. The ninth dictionary has the following key-value pairs:\\n    - inference_function: 'value'\\n    - subject: 'France'\\n    - predicate: 'population'\\n    - object: 66724104\\n    - value: '?y0'\\n    - uncertainty: 0.02\\n    - time: '2016'\\n    - meta: {'data_sources': ['worldbank']}\\n\\n10. The tenth dictionary has the following key-value pairs:\\n    - inference_function: 'value'\\n    - subject: 'France'\\n    - predicate: 'population'\\n    - object: 66548272\\n    - value: '?y0'\\n    - uncertainty: 0.02\\n    - time: '2015'\\n    - meta: {'data_sources': ['worldbank']}\\n\\n11. The eleventh dictionary has the following key-value pairs:\\n    - inference_function: 'value'\\n    - subject: 'France'\\n    - predicate: 'population'\\n    - object: 66312067\\n    - value: '?y0'\\n    - uncertainty: 0.02\\n    - time: '2014'\\n    - meta: {'data_sources': ['worldbank']}\""
      ]
     },
     "execution_count": 11,
     "metadata": {},
     "output_type": "execute_result"
    }
   ],
   "source": [
    "nested_comp.choices[0].message.content"
   ]
  }
 ],
 "metadata": {
  "kernelspec": {
   "display_name": ".mac-env_3.10",
   "language": "python",
   "name": "python3"
  },
  "language_info": {
   "codemirror_mode": {
    "name": "ipython",
    "version": 3
   },
   "file_extension": ".py",
   "mimetype": "text/x-python",
   "name": "python",
   "nbconvert_exporter": "python",
   "pygments_lexer": "ipython3",
   "version": "3.11.6"
  },
  "orig_nbformat": 4
 },
 "nbformat": 4,
 "nbformat_minor": 2
}
