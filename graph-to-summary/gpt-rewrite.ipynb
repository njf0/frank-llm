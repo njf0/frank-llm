{
 "cells": [
  {
   "cell_type": "code",
   "execution_count": 1,
   "metadata": {},
   "outputs": [],
   "source": [
    "import os\n",
    "import sys\n",
    "\n",
    "import openai"
   ]
  },
  {
   "cell_type": "code",
   "execution_count": null,
   "metadata": {},
   "outputs": [],
   "source": [
    "sys.path.append(os.path.abspath(os.path.join('..')))\n",
    "import api_keys"
   ]
  },
  {
   "cell_type": "code",
   "execution_count": 2,
   "metadata": {},
   "outputs": [],
   "source": [
    "openai.api_key = api_keys.OPENAI_SECRET_KEY"
   ]
  },
  {
   "cell_type": "code",
   "execution_count": 12,
   "metadata": {},
   "outputs": [],
   "source": [
    "comp = openai.ChatCompletion.create(\n",
    "    model = 'gpt-3.5-turbo',\n",
    "    messages = [\n",
    "        {'role': 'system', 'content': 'You are a query answering system explaining the reasoning behind the methodology chosen to generate an answer. Summarise the following explanation while using formal language and reducing redundancy. Round population figures two three significant figures - for example, 69112701.18 rounds to 69.1 million, 65343184.0 rounds to 65.3 million. The original question was \"What will the population of France be in 2026?\"'},\n",
    "        {'role': 'user', 'content': 'The predicted value of the population of France in 2026 is 69112701.18. Generated a regression function from times between 2018 and 2018. WHY: Could not find the population of France in 2026. Attempted to infer the required value in 2026 by finding the population of France at other times between 2010 and 2018. The value of the population of France in 2018 is 66987244.0. The value of the population of France in 2017 is 66991896.0. The value of the population of France in 2015 is 66486984.0. The value of the population of France in 2014 is 66316100.0. The value of the population of France in 2012 is 65654689.5. The value of the population of France in 2011 is 65343184.0. Retrieved fact(s) from the wikidata and worldbank knowledge sources.'},\n",
    "    ]\n",
    ")"
   ]
  },
  {
   "cell_type": "code",
   "execution_count": 14,
   "metadata": {},
   "outputs": [
    {
     "data": {
      "text/plain": [
       "'The methodology chosen to generate an answer for the population of France in 2026 involved using a regression function based on population data from 2010 to 2018. Since the population of France in 2026 was not available, the system inferred the value by examining population figures for other years. The population of France in 2018 was found to be 66.99 million, in 2017 it was 66.99 million, in 2015 it was 66.49 million, in 2014 it was 66.32 million, in 2012 it was 65.65 million, and in 2011 it was 65.34 million. The system retrieved this information from the wikidata and worldbank knowledge sources. Based on these data points, the system predicted that the population of France in 2026 would be approximately 69.1 million.'"
      ]
     },
     "execution_count": 14,
     "metadata": {},
     "output_type": "execute_result"
    }
   ],
   "source": [
    "comp.choices[0].message.content"
   ]
  },
  {
   "cell_type": "code",
   "execution_count": 15,
   "metadata": {},
   "outputs": [],
   "source": [
    "comp = openai.ChatCompletion.create(\n",
    "    model = 'gpt-3.5-turbo',\n",
    "    messages = [\n",
    "        {'role': 'system', 'content': 'You are a query answering system explaining the reasoning behind the methodology chosen to generate an answer. Summarise the following explanation while using formal language and reducing redundancy. Format population figures to three significant figures - for example, 47880.0 rounds to 47,900. The original question was \"Country in Africa with the lowest urban population in 2010?\"'},\n",
    "        {'role': 'user', 'content': 'The entity whose urban population in 2010 has the minimum value of 47880.0 is Seychelles. HOW: The country values found for the sub-query include: Botswana, Algeria, Cameroon, Angola, Benin, Burundi, Cape Verde, etc. Re- trieved fact(s) from the World Bank and Wikidata knowledge sources. Had to solve the sub-queries before determining the urban population in 2010.'},\n",
    "    ]\n",
    ")"
   ]
  },
  {
   "cell_type": "code",
   "execution_count": 16,
   "metadata": {},
   "outputs": [
    {
     "data": {
      "text/plain": [
       "'The country in Africa with the lowest urban population in 2010 is Seychelles, with a population figure of 47,900. This information was obtained from the World Bank and Wikidata knowledge sources, after solving multiple sub-queries involving countries such as Botswana, Algeria, Cameroon, Angola, Benin, Burundi, and Cape Verde.'"
      ]
     },
     "execution_count": 16,
     "metadata": {},
     "output_type": "execute_result"
    }
   ],
   "source": [
    "comp.choices[0].message.content"
   ]
  },
  {
   "cell_type": "code",
   "execution_count": 19,
   "metadata": {},
   "outputs": [],
   "source": [
    "comp = openai.ChatCompletion.create(\n",
    "    model = 'gpt-3.5-turbo',\n",
    "    messages = [\n",
    "        {'role': 'system', 'content': 'You are a query answering system explaining the reasoning behind the methodology chosen to generate an answer. Summarise the following explanation while using formal language and reducing redundancy. Format gdp and population figures to three significant figures - for example, 85632039.0 rounds to 85.6 million and 3.42 billion. The original question was \"What will be the population in 2025 of the country in Europe with the highest gdp in 2010?\"'},\n",
    "        {'role': 'user', 'content': 'The value of the population of Germany in 2025 is 85632039.0. HOW: The entity whose gdp in 2010 has the maximum value of 3417094562648.95 is Germany. The entity whose gdp in 2010 has the maximum value of 3417094562648.95 is Germany. The value of the population of Germany in 2025 is 85632039. Gen- erated a regression function from times between 2010 and 2018.The predicted value of the population of Germany in 2025 is 85632039.0. Retrieved fact(s) from the World Bank and Wikidata knowledge sources. Had to solve the sub- queries before determining the population in 2025.'},\n",
    "    ]\n",
    ")"
   ]
  },
  {
   "cell_type": "code",
   "execution_count": 20,
   "metadata": {},
   "outputs": [
    {
     "data": {
      "text/plain": [
       "'The population of the country in Europe with the highest GDP in 2010 is Germany, with a GDP of 3.42 billion. The predicted population of Germany in 2025 is 85.6 million. This information was obtained from the World Bank and Wikidata knowledge sources. To determine the population in 2025, a regression function was generated using data from 2010 to 2018. The estimated population of Germany in 2025 is 85.6 million. The sub-queries were solved before determining the population in 2025.'"
      ]
     },
     "execution_count": 20,
     "metadata": {},
     "output_type": "execute_result"
    }
   ],
   "source": [
    "comp.choices[0].message.content"
   ]
  },
  {
   "cell_type": "code",
   "execution_count": 21,
   "metadata": {},
   "outputs": [],
   "source": [
    "comp = openai.ChatCompletion.create(\n",
    "    model = 'gpt-3.5-turbo',\n",
    "    messages = [\n",
    "        {'role': 'system', 'content': 'You are a query answering system explaining the reasoning behind the methodology chosen to generate an answer. Summarise the following explanation while using formal language and reducing redundancy. Format population figures to three significant figures - for example, 31890697 rounds to 31.9 million and 12224774 rounds to 12.2 million. The original question was \"Will the population of Ghana in 2022 be greater than the population of Belgium in 2030?\"'},\n",
    "        {'role': 'user', 'content': 'Inferred value is \"true\". Did a comparison to determine if 31890697 is greater than 12224774. WHY: Need to solve the sub-queries to determine the items to compare. HOW: An input value for operation is 31890697.399999857. An input value for operation is 12224774.890931368. Retrieved fact(s) from the World Bank and Wikidata knowledge sources.'},\n",
    "    ]\n",
    ")"
   ]
  },
  {
   "cell_type": "code",
   "execution_count": 23,
   "metadata": {},
   "outputs": [
    {
     "data": {
      "text/plain": [
       "[<OpenAIObject at 0x1119302c0> JSON: {\n",
       "   \"index\": 0,\n",
       "   \"message\": {\n",
       "     \"role\": \"assistant\",\n",
       "     \"content\": \"The answer to the question \\\"Will the population of Ghana in 2022 be greater than the population of Belgium in 2030?\\\" is inferred as \\\"true\\\". To determine this, a comparison was made between the population figures of Ghana in 2022 and Belgium in 2030. \\n\\nTo solve the sub-queries, the population figures were rounded to three significant figures. The population of Ghana in 2022, which was retrieved from the World Bank and Wikidata knowledge sources, is approximately 31.9 million. The population of Belgium in 2030 is approximately 12.2 million.\\n\\nBy comparing the rounded figures, it can be concluded that the population of Ghana in 2022 (31.9 million) is indeed greater than the population of Belgium in 2030 (12.2 million).\"\n",
       "   },\n",
       "   \"finish_reason\": \"stop\"\n",
       " }]"
      ]
     },
     "execution_count": 23,
     "metadata": {},
     "output_type": "execute_result"
    }
   ],
   "source": [
    "comp.choices"
   ]
  },
  {
   "cell_type": "code",
   "execution_count": 24,
   "metadata": {},
   "outputs": [],
   "source": [
    "comp = openai.ChatCompletion.create(\n",
    "    model = 'gpt-3.5-turbo',\n",
    "    messages = [\n",
    "        {'role': 'system', 'content': 'You are a query answering system explaining the reasoning behind the methodology chosen to generate an answer. Summarise the following explanation while using formal language and reducing redundancy. Format population figures to three significant figures - for example, 31890697 rounds to 31.9 million and 12214670 rounds to 12.2 million. The original question was \"Will the population of Ghana in 2022 be greater than the population of Belgium in 2030?\"'},\n",
    "        {'role': 'user', 'content': 'Inferred value is \"true\". Did a comparison to determine if 31890697 is greater than 12214670. WHY: Need to solve the sub-queries to determine the items to compare. HOW: The value of the population of Ghana in 2022 is 31890697. Generated a regression function from times between 2010 and 2018. The predicted value of the population of Ghana in 2022 is 31890697. An input value for operation is 12214670. The value of the population of Belgium in 2030 is 12214670. Generated a regression function from times between 2010 and 2018. The predicted value of the population of Belgium in 2030 is 12214670. Retrieved fact(s) from the World Bank and Wikidata knowledge sources.'},\n",
    "    ]\n",
    ")"
   ]
  },
  {
   "cell_type": "code",
   "execution_count": 27,
   "metadata": {},
   "outputs": [
    {
     "data": {
      "text/plain": [
       "\"The reasoning behind the methodology chosen to generate the answer is as follows:\\n\\nTo determine if the population of Ghana in 2022 will be greater than the population of Belgium in 2030, a comparison was made between the population figures of both countries.\\n\\nTo obtain the population figure for Ghana in 2022, a regression function was generated from data between 2010 and 2018. This function predicted a population of 31.9 million for Ghana in 2022.\\n\\nFor Belgium's population in 2030, a similar approach was taken. A regression function was generated using data from 2010 to 2018, and it predicted a population of 12.2 million for Belgium in 2030.\\n\\nThe comparison was then made between the predicted population of Ghana in 2022 (31.9 million) and the predicted population of Belgium in 2030 (12.2 million).\\n\\nTo ensure accuracy, population figures were obtained from reliable sources such as the World Bank and Wikidata.\\n\\nBased on this comparison, the inferred result is that the population of Ghana in 2022 will be greater than the population of Belgium in 2030.\""
      ]
     },
     "execution_count": 27,
     "metadata": {},
     "output_type": "execute_result"
    }
   ],
   "source": [
    "comp.choices[0].message.content"
   ]
  }
 ],
 "metadata": {
  "kernelspec": {
   "display_name": ".mac-env_3.10",
   "language": "python",
   "name": "python3"
  },
  "language_info": {
   "codemirror_mode": {
    "name": "ipython",
    "version": 3
   },
   "file_extension": ".py",
   "mimetype": "text/x-python",
   "name": "python",
   "nbconvert_exporter": "python",
   "pygments_lexer": "ipython3",
   "version": "3.10.12"
  },
  "orig_nbformat": 4
 },
 "nbformat": 4,
 "nbformat_minor": 2
}
