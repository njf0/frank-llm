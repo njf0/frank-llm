{
 "cells": [
  {
   "cell_type": "code",
   "execution_count": 1,
   "metadata": {},
   "outputs": [],
   "source": [
    "import json\n",
    "from pathlib import Path\n",
    "import pickle\n",
    "import sys\n",
    "import networkx as nx\n",
    "from frank.graph import InferenceGraph\n",
    "\n",
    "import os\n",
    "import sys\n",
    "module_path = os.path.abspath(os.path.join('..'))\n",
    "if module_path not in sys.path:\n",
    "    sys.path.append(module_path)\n",
    "\n",
    "from src.traverse import Traverse\n",
    "from src import utils"
   ]
  },
  {
   "cell_type": "code",
   "execution_count": 2,
   "metadata": {},
   "outputs": [],
   "source": [
    "with open(\"../resources/frank_query_pickles/unsorted/2024-05-17T12:43:05.553797.pkl\", 'rb') as f:\n",
    "    G = pickle.load(f)['graph']"
   ]
  },
  {
   "cell_type": "code",
   "execution_count": 3,
   "metadata": {},
   "outputs": [],
   "source": [
    "T = Traverse(G, remove_post_lookup=False)\n",
    "dec = T.traverse('dec')\n",
    "agg = T.traverse('agg')\n",
    "full_graph = [*dec, *agg]"
   ]
  },
  {
   "cell_type": "code",
   "execution_count": 4,
   "metadata": {},
   "outputs": [],
   "source": [
    "system_content = \"You are an explainer for a query answering system. You are given a query and a graph. You need to provide a natural language explanation for the process used to achieve the answer. The system uses planning to solve any sub-goals required by the query, before inferring the final answer.\""
   ]
  },
  {
   "cell_type": "code",
   "execution_count": 20,
   "metadata": {},
   "outputs": [],
   "source": [
    "alist_layers = []\n",
    "for layer in full_graph:\n",
    "    for label, edges in layer.items():\n",
    "        alist_layer = []\n",
    "        u = utils.format_alist(T.G.alist(edges[0][0]))\n",
    "        data = edges[0][2]\n",
    "        V = [utils.format_alist(T.G.alist(v)) for _, v, _ in edges]\n",
    "        alist_layers.append((u, data, V))\n"
   ]
  },
  {
   "cell_type": "code",
   "execution_count": 27,
   "metadata": {},
   "outputs": [],
   "source": [
    "user_contents = []\n",
    "for u, data, V in alist_layers:\n",
    "    user_contents.append(f\"The node with data {u} is the current node. The data associated with the node is {data}. The node has the following children nodes: {V}. Explain the relationship between the current node and its children nodes.\")"
   ]
  },
  {
   "cell_type": "code",
   "execution_count": 33,
   "metadata": {},
   "outputs": [
    {
     "data": {
      "text/plain": [
       "\"The node with data {'id': '0', 'function': 'min', 'subject': '?x3', 'property': 'urban population', 'object': '$y0', 'value': '$y0', 'uncertainty': '0.249', 'time': '2010', 'meta': {'depth': 0, 'data_sources': ['World Bank Open Data', 'Wikidata']}, '$y0': 47880.0, '?x3': 'Seychelles'} is the current node. The data associated with the node is {'label': 'normalize', 'dir': 'dec', 'depth': 0}. The node has the following children nodes: [{'id': '101', 'function': 'comp', 'subject': '?x3', 'property': 'urban population', 'object': '$y0', 'value': '?x3', 'uncertainty': '0.0', 'time': '2010', 'meta': {'depth': 1, 'data_sources': ['World Bank Open Data', 'Wikidata']}}]. Explain the relationship between the current node and its children nodes.\""
      ]
     },
     "execution_count": 33,
     "metadata": {},
     "output_type": "execute_result"
    }
   ],
   "source": [
    "user_contents[0]"
   ]
  },
  {
   "cell_type": "code",
   "execution_count": null,
   "metadata": {},
   "outputs": [],
   "source": []
  }
 ],
 "metadata": {
  "kernelspec": {
   "display_name": ".env",
   "language": "python",
   "name": "python3"
  },
  "language_info": {
   "codemirror_mode": {
    "name": "ipython",
    "version": 3
   },
   "file_extension": ".py",
   "mimetype": "text/x-python",
   "name": "python",
   "nbconvert_exporter": "python",
   "pygments_lexer": "ipython3",
   "version": "3.10.14"
  }
 },
 "nbformat": 4,
 "nbformat_minor": 2
}
