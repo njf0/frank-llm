{
 "cells": [
  {
   "cell_type": "code",
   "execution_count": 2,
   "metadata": {},
   "outputs": [],
   "source": [
    "from pathlib import Path\n",
    "import json"
   ]
  },
  {
   "cell_type": "code",
   "execution_count": 10,
   "metadata": {},
   "outputs": [],
   "source": [
    "DIR = Path('outputs/select').iterdir()\n",
    "files = list(filter(lambda x: x.stem != 'log', DIR))\n",
    "\n",
    "for file in files:\n",
    "\n",
    "    with open(file, 'r') as f:\n",
    "        data = json.load(f)\n",
    "\n",
    "    stem = file.stem\n",
    "    config = data['config']\n",
    "\n",
    "    with open('outputs/select/log.json', 'r') as f:\n",
    "        log = json.load(f)\n",
    "\n",
    "    log[stem] = config\n",
    "    # sort dict based on keys\n",
    "    log = dict(sorted(log.items()))\n",
    "\n",
    "    with open('outputs/select/log.json', 'w') as f:\n",
    "        json.dump(log, f, indent=4)"
   ]
  },
  {
   "cell_type": "code",
   "execution_count": null,
   "metadata": {},
   "outputs": [],
   "source": []
  }
 ],
 "metadata": {
  "kernelspec": {
   "display_name": ".env",
   "language": "python",
   "name": "python3"
  },
  "language_info": {
   "codemirror_mode": {
    "name": "ipython",
    "version": 3
   },
   "file_extension": ".py",
   "mimetype": "text/x-python",
   "name": "python",
   "nbconvert_exporter": "python",
   "pygments_lexer": "ipython3",
   "version": "3.10.12"
  }
 },
 "nbformat": 4,
 "nbformat_minor": 2
}
