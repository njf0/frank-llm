{
 "cells": [
  {
   "cell_type": "code",
   "execution_count": 3,
   "metadata": {},
   "outputs": [],
   "source": [
    "from pathlib import Path\n",
    "import json\n",
    "import itertools"
   ]
  },
  {
   "cell_type": "code",
   "execution_count": 2,
   "metadata": {},
   "outputs": [],
   "source": [
    "model = [\n",
    "    '/nfs/public/hf/models/meta-llama/Meta-Llama-3-8B-Instruct',\n",
    "    'mistralai/Mistral-7B-Instruct-v0.3',\n",
    "    'google/gemma-7b',\n",
    "\n",
    "]\n",
    "\n",
    "system_prompts = [\n",
    "    \"Your role is to select, from a list the steps, those that are most important for inclusion in a summary explanation of that process. Format your output as a list, for example {EXAMPLE}. Output only this list and nothing else.\",\n",
    "    \"Select from the list of steps those that are most important for inclusion in a summary explanation of the process. Format your output as a list, for example {EXAMPLE}. Output only this list and nothing else.\",\n",
    "    \"Select two steps from the following list that are most important for inclusion in a summary explanation of the process. Format your output as a list, for example {EXAMPLE}. Output only this list and nothing else.\",\n",
    "    \"Select four steps from the following list that are most important for inclusion in a summary explanation of the process. Format your output as a list, for example {EXAMPLE}. Output only this list and nothing else.\",\n",
    "]\n",
    "\n",
    "examples = [\n",
    "    \"[1, 2, 3]\",\n",
    "    \"[1, 2, 3, 4, 5]\",\n",
    "    \"[7, 3, 1, 9, 4]\",\n",
    "    \"[2, 9, 8, 4, 1]\"\n",
    "]\n",
    "\n",
    "temperature = [\n",
    "    0.3,\n",
    "    0.5,\n",
    "    0.7,\n",
    "]\n",
    "\n"
   ]
  },
  {
   "cell_type": "code",
   "execution_count": 4,
   "metadata": {},
   "outputs": [
    {
     "data": {
      "text/plain": [
       "['', 'nfs', 'public', 'hf', 'models', 'meta-llama', 'Meta-Llama-3-8B-Instruct']"
      ]
     },
     "execution_count": 4,
     "metadata": {},
     "output_type": "execute_result"
    }
   ],
   "source": [
    "'/nfs/public/hf/models/meta-llama/Meta-Llama-3-8B-Instruct'.split('/')"
   ]
  },
  {
   "cell_type": "code",
   "execution_count": null,
   "metadata": {},
   "outputs": [],
   "source": []
  },
  {
   "cell_type": "code",
   "execution_count": null,
   "metadata": {},
   "outputs": [],
   "source": [
    "config = {\n",
    "    \"MODEL\": MODEL,\n",
    "    \"TEMPERATURE\": TEMPERATURE,\n",
    "    \"BATCH_SIZE\": BATCH_SIZE,\n",
    "    \"EXAMPLE\": EXAMPLE,\n",
    "    \"FORMAT_VERSION\": FORMAT_VERSION,\n",
    "    \"SYSTEM_CONTENT\": SYSTEM_CONTENT,\n",
    "    \"INPUTS\": INPUTS,\n",
    "    \"DESCRIPTION\": DESCRIPTION\n",
    "}"
   ]
  }
 ],
 "metadata": {
  "kernelspec": {
   "display_name": "Python 3",
   "language": "python",
   "name": "python3"
  },
  "language_info": {
   "codemirror_mode": {
    "name": "ipython",
    "version": 3
   },
   "file_extension": ".py",
   "mimetype": "text/x-python",
   "name": "python",
   "nbconvert_exporter": "python",
   "pygments_lexer": "ipython3",
   "version": "3.10.12"
  }
 },
 "nbformat": 4,
 "nbformat_minor": 2
}
