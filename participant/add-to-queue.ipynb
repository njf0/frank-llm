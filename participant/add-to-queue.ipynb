{
 "cells": [
  {
   "cell_type": "code",
   "execution_count": 7,
   "metadata": {},
   "outputs": [],
   "source": [
    "from pathlib import Path\n",
    "import json\n",
    "import itertools\n",
    "import random"
   ]
  },
  {
   "cell_type": "code",
   "execution_count": 4,
   "metadata": {},
   "outputs": [],
   "source": [
    "model = [\n",
    "    '/nfs/public/hf/models/meta-llama/Meta-Llama-3-8B-Instruct',\n",
    "    'mistralai/Mistral-7B-Instruct-v0.3',\n",
    "    'google/gemma-7b',\n",
    "    'microsoft/Phi-3-mini-128k-instruct'\n",
    "    'microsoft/Phi-3-small-128k-instruct',\n",
    "]\n",
    "\n",
    "shots = [\n",
    "    0,\n",
    "    1,\n",
    "    3\n",
    "]\n",
    "\n",
    "shot_examples = [\n",
    "    'Question: In 2027, what will be the GDP of Zambia? Process: 1. Needed to use historic data to predict the GDP of Zambia in 2027 2. Data was found on the GDP of Zambia between 2010 and 2022 3. A predictive model was fit to this data 4. The answer was estimated using this predictive model. Selection: [1, 4]',\n",
    "    'Question: Which country in Western Europe had the lowest energy consumption in 2017? Process: 1. An answer using historic data on energy consumption was estimated. 2. 9 countries in Western Europe, including Netherlands, Monaco and Belgium, were found. 3. The energy consumption for each of these countries in 2017 was found. 4. The answer was estimated by comparing the data on energy consumption. Selection [1, 2]',\n",
    "    'Question: In 2029, what will be the GDP of the country in South-eastern Asia which had the highest GDP in 2014? Process: The country in South-eastern Asia that had the highest GDP in 2014 had to be found first. 2. To find this, a list of countries located in South-eastern Asia was needed. 3. 11 countries that are in South-eastern Asia were found, including Brunei Darussalam, Cambodia and Myanmar. 4. For each of these countries, the GDP in 2014 had to be found. 5. Data on the GDP of these 11 countries in 2014 was found. 6. The country with the highest GDP in 2014 was found by comparing these values, and was Singapore. 7. Next, the GDP of Singapore in 2029 needed to be estimated. 8. Found data on the GDP of Singapore between 2009 and 2022. 9. A linear regression model was fit to this data. 10. The linear regression model was used to predict the GDP of Singapore in 2029.',\n",
    "]\n",
    "\n",
    "system_prompts = [\n",
    "    \"Your role is to select, from a list the steps, those that are most important for inclusion in a summary explanation of that process. Format your selection as a list, for example {EXAMPLE}. Output only this list and nothing else.\",\n",
    "    # \"Your role is to select, from a list the steps, those that are most important for inclusion in a summary explanation of that process. Format your output as a list, for example {EXAMPLE}. Output only this list and nothing else. List of selections: [\",\n",
    "    # \"Select from the list of steps those that are most important for inclusion in a summary explanation of the process. Format your output as a list, for example {EXAMPLE}. Output only this list and nothing else.\",\n",
    "    # \"Select from the list of steps those that are most important for inclusion in a summary explanation of the process. Format your output as a list, for example {EXAMPLE}. Output only this list and nothing else. List of selections: [\",\n",
    "    # \"Select the two steps from the following list that are most important for inclusion in a summary explanation of the process. Format your output as a list, for example {EXAMPLE}. Output only this list and nothing else.\",\n",
    "    # \"Select four steps from the following list that are most important for inclusion in a summary explanation of the process. Format your output as a list, for example {EXAMPLE}. Output only this list and nothing else.\",\n",
    "]\n",
    "\n",
    "examples = [\n",
    "    \"[1, 2, 3]\",\n",
    "    \"[1, 2, 3, 4, 5]\",\n",
    "    \"[7, 3, 1, 9, 4]\",\n",
    "    \"[2, 9, 8, 4, 1]\"\n",
    "]\n",
    "\n",
    "temperature = [\n",
    "    0.3,\n",
    "    0.5,\n",
    "    0.7,\n",
    "]"
   ]
  },
  {
   "cell_type": "code",
   "execution_count": null,
   "metadata": {},
   "outputs": [],
   "source": [
    "for shot in shots:\n",
    "    if shot == 0:\n",
    "        EXAMPLE = random.choice(examples)\n",
    "\n",
    "    elif shot == 1:\n",
    "        EXAMPLE = random.choice(shot_examples)\n",
    "\n",
    "    elif shot == 3:\n",
    "        EXAMPLE = random.sample(shot_examples, 3)\n",
    "\n",
    "    for model, temperature, system_prompt, shot, example in itertools.product(model, temperature, system_prompts, shots, EXAMPLE):\n",
    "        config = {\n",
    "            \"MODEL\": model,\n",
    "            \"TEMPERATURE\": temperature,\n",
    "            \"BATCH_SIZE\": 20,\n",
    "            \"SYSTEM_CONTENT\": system_prompt,\n",
    "            \"EXAMPLE\": EXAMPLE,\n",
    "            \"SHOTS\": shot,\n",
    "            \"INPUTS\": 'resources/data/select.json',\n",
    "            \"DESCRIPTION\": DESCRIPTION,\n",
    "            \"RUN_ID\": RUN_ID,\n",
    "            \"FORMAT_VERSION\": FORMAT_VERSION,\n",
    "        }"
   ]
  },
  {
   "cell_type": "code",
   "execution_count": null,
   "metadata": {},
   "outputs": [],
   "source": [
    "config = {\n",
    "    \"MODEL\": MODEL,\n",
    "    \"TEMPERATURE\": TEMPERATURE,\n",
    "    \"BATCH_SIZE\": BATCH_SIZE,\n",
    "    \"SYSTEM_CONTENT\": SYSTEM_CONTENT,\n",
    "    \"EXAMPLE\": EXAMPLE,\n",
    "    \"SHOTS\": SHOTS,\n",
    "    \"INPUTS\": INPUTS,\n",
    "    \"DESCRIPTION\": DESCRIPTION,\n",
    "    \"RUN_ID\": RUN_ID,\n",
    "    \"FORMAT_VERSION\": FORMAT_VERSION,\n",
    "}"
   ]
  }
 ],
 "metadata": {
  "kernelspec": {
   "display_name": "Python 3",
   "language": "python",
   "name": "python3"
  },
  "language_info": {
   "codemirror_mode": {
    "name": "ipython",
    "version": 3
   },
   "file_extension": ".py",
   "mimetype": "text/x-python",
   "name": "python",
   "nbconvert_exporter": "python",
   "pygments_lexer": "ipython3",
   "version": "3.10.12"
  }
 },
 "nbformat": 4,
 "nbformat_minor": 2
}
