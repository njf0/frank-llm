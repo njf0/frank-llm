{
 "cells": [
  {
   "cell_type": "code",
   "execution_count": 21,
   "metadata": {},
   "outputs": [],
   "source": [
    "from pathlib import Path\n",
    "import json\n",
    "import itertools\n",
    "import random\n",
    "from uuid import uuid4"
   ]
  },
  {
   "cell_type": "code",
   "execution_count": 22,
   "metadata": {},
   "outputs": [],
   "source": [
    "model = [\n",
    "    '/nfs/public/hf/models/meta-llama/Meta-Llama-3-8B-Instruct',\n",
    "    'mistralai/Mistral-7B-Instruct-v0.3',\n",
    "    'google/gemma-7b',\n",
    "    'microsoft/Phi-3-mini-128k-instruct',\n",
    "    'microsoft/Phi-3-small-128k-instruct',\n",
    "]\n",
    "\n",
    "shots = [\n",
    "    0,\n",
    "    1,\n",
    "    3\n",
    "]\n",
    "\n",
    "shot_examples = [\n",
    "    'Question: In 2027, what will be the GDP of Zambia? Process: 1. Needed to use historic data to predict the GDP of Zambia in 2027 2. Data was found on the GDP of Zambia between 2010 and 2022 3. A predictive model was fit to this data 4. The answer was estimated using this predictive model. Selection: [1, 4]',\n",
    "    'Question: Which country in Western Europe had the lowest energy consumption in 2017? Process: 1. An answer using historic data on energy consumption was estimated. 2. 9 countries in Western Europe, including Netherlands, Monaco and Belgium, were found. 3. The energy consumption for each of these countries in 2017 was found. 4. The answer was estimated by comparing the data on energy consumption. Selection: [1, 2]',\n",
    "    'Question: In 2029, what will be the GDP of the country in South-eastern Asia which had the highest GDP in 2014? Process: The country in South-eastern Asia that had the highest GDP in 2014 had to be found first. 2. To find this, a list of countries located in South-eastern Asia was needed. 3. 11 countries that are in South-eastern Asia were found, including Brunei Darussalam, Cambodia and Myanmar. 4. For each of these countries, the GDP in 2014 had to be found. 5. Data on the GDP of these 11 countries in 2014 was found. 6. The country with the highest GDP in 2014 was found by comparing these values, and was Singapore. 7. Next, the GDP of Singapore in 2029 needed to be estimated. 8. Found data on the GDP of Singapore between 2009 and 2022. 9. A linear regression model was fit to this data. 10. The linear regression model was used to predict the GDP of Singapore in 2029. Selection: [1, 4, 7, 10]',\n",
    "]\n",
    "\n",
    "system_prompts = [\n",
    "    \"Your role is to select, from a list of steps, those that are most important for inclusion in a summary explanation of that process. Format your selection as a list. Use the following example to understand your task: {EXAMPLE}. Only output your selection in the form of a list and nothing else.\",\n",
    "    # \"Your role is to select, from a list the steps, those that are most important for inclusion in a summary explanation of that process. Format your output as a list, for example {EXAMPLE}. Output only your selection in the form of a list and nothing else.. List of selections: [\",\n",
    "    # \"Select from the list of steps those that are most important for inclusion in a summary explanation of the process. Format your output as a list, for example {EXAMPLE}. Output only your selection in the form of a list and nothing else..\",\n",
    "    # \"Select from the list of steps those that are most important for inclusion in a summary explanation of the process. Format your output as a list, for example {EXAMPLE}. Output only your selection in the form of a list and nothing else.. List of selections: [\",\n",
    "    # \"Select the two steps from the following list that are most important for inclusion in a summary explanation of the process. Format your output as a list, for example {EXAMPLE}. Output only your selection in the form of a list and nothing else..\",\n",
    "    # \"Select four steps from the following list that are most important for inclusion in a summary explanation of the process. Format your output as a list, for example {EXAMPLE}. Output only your selection in the form of a list and nothing else..\",\n",
    "]\n",
    "\n",
    "examples = [\n",
    "    # \"[1, 2, 3]\",\n",
    "    # \"[1, 2, 3, 4, 5]\",\n",
    "    \"[7, 3, 1, 9, 4]\",\n",
    "    # \"[2, 9, 8, 4, 1]\"\n",
    "]\n",
    "\n",
    "temperatures = [\n",
    "    0.3,\n",
    "    0.5,\n",
    "    0.7\n",
    "]"
   ]
  },
  {
   "cell_type": "code",
   "execution_count": 23,
   "metadata": {},
   "outputs": [],
   "source": [
    "queue = {}\n",
    "\n",
    "for shot in shots:\n",
    "    if shot == 0:\n",
    "        EXAMPLE = random.choice(examples)\n",
    "\n",
    "    elif shot == 1:\n",
    "        EXAMPLE = random.choice(shot_examples)\n",
    "\n",
    "    elif shot == 3:\n",
    "        EXAMPLE = shot_examples\n",
    "\n",
    "    for m in model:\n",
    "        for t in temperatures:\n",
    "            for s in system_prompts:\n",
    "                if shot == 3:\n",
    "                    formatted_example = '; '.join(EXAMPLE)\n",
    "                else:\n",
    "                    formatted_example = EXAMPLE\n",
    "\n",
    "                system_prompt = s.format(EXAMPLE=formatted_example)\n",
    "\n",
    "                queue[f\"{m.split('/')[-1]}:shot={shot}:temp={t}\"] = {\n",
    "                    \"MODEL\": m,\n",
    "                    \"TEMPERATURE\": t,\n",
    "                    \"BATCH_SIZE\": 20,\n",
    "                    \"SYSTEM_CONTENT\": system_prompt,\n",
    "                    \"EXAMPLE\": EXAMPLE,\n",
    "                    \"SHOT\": shot,\n",
    "                    \"INPUT\": 'resources/data/select.json',\n",
    "                    \"DESCRIPTION\": f\"{m.split('/')[-1]}:shot={shot}:temp={t}\",\n",
    "                    \"RUN_ID\": uuid4().hex,\n",
    "                    \"FORMAT_VERSION\": 2,\n",
    "                }"
   ]
  },
  {
   "cell_type": "code",
   "execution_count": 24,
   "metadata": {},
   "outputs": [],
   "source": [
    "# queue.json is a file with a dict which contains config dicts. open the file and add to the queue dict\n",
    "queue_path = Path('queue.json')\n",
    "if queue_path.exists():\n",
    "    with queue_path.open('r') as f:\n",
    "        queue_dict = json.load(f)\n",
    "        queue_dict.update(queue)\n",
    "\n",
    "    with queue_path.open('w') as f:\n",
    "        json.dump(queue_dict, f, indent=4)\n"
   ]
  }
 ],
 "metadata": {
  "kernelspec": {
   "display_name": "Python 3",
   "language": "python",
   "name": "python3"
  },
  "language_info": {
   "codemirror_mode": {
    "name": "ipython",
    "version": 3
   },
   "file_extension": ".py",
   "mimetype": "text/x-python",
   "name": "python",
   "nbconvert_exporter": "python",
   "pygments_lexer": "ipython3",
   "version": "3.10.12"
  }
 },
 "nbformat": 4,
 "nbformat_minor": 2
}
