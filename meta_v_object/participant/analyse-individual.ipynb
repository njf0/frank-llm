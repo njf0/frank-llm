{
 "cells": [
  {
   "cell_type": "code",
   "execution_count": 1,
   "metadata": {},
   "outputs": [
    {
     "name": "stderr",
     "output_type": "stream",
     "text": [
      "/Users/njf/code/frank-llm/.env/lib/python3.10/site-packages/tqdm/auto.py:21: TqdmWarning: IProgress not found. Please update jupyter and ipywidgets. See https://ipywidgets.readthedocs.io/en/stable/user_install.html\n",
      "  from .autonotebook import tqdm as notebook_tqdm\n"
     ]
    }
   ],
   "source": [
    "import json\n",
    "import random\n",
    "import re\n",
    "from collections import Counter\n",
    "from pathlib import Path\n",
    "\n",
    "from participant import AnalyseLLMParticipant\n",
    "\n",
    "import pandas as pd"
   ]
  },
  {
   "cell_type": "code",
   "execution_count": 15,
   "metadata": {},
   "outputs": [
    {
     "name": "stdout",
     "output_type": "stream",
     "text": [
      "MODEL: microsoft/Phi-3-small-128k-instruct\n",
      "TEMPERATURE: 0.7\n",
      "BATCH_SIZE: 20\n",
      "SYSTEM_CONTENT: Your role is to select, from a list of steps, those that are most important for inclusion in a summary explanation of that process. Format your selection as a list. Use the following example to understand your task: [7, 3, 1, 9, 4]. Only output your selection in the form of a list and nothing else.\n",
      "EXAMPLE: [7, 3, 1, 9, 4]\n",
      "SHOT: 0\n",
      "INPUT: resources/data/select.json\n",
      "DESCRIPTION: Phi-3-small-128k-instruct:shot=0:temp=0.7\n",
      "RUN_ID: c194c9d115724600aa7b68da9ed848b7\n",
      "FORMAT_VERSION: 2\n"
     ]
    }
   ],
   "source": [
    "outputs = Path('outputs/select/zero').iterdir()\n",
    "output = sorted(outputs)[-1]\n",
    "with output.open() as f:\n",
    "    data = json.load(f)\n",
    "\n",
    "config = data['config']\n",
    "for k, v in config.items():\n",
    "    print(f'{k}: {v}')\n",
    "\n",
    "T = AnalyseLLMParticipant(output)\n",
    "T.df = T.df[T.df['template'] == 'C1']"
   ]
  },
  {
   "cell_type": "code",
   "execution_count": 16,
   "metadata": {},
   "outputs": [
    {
     "data": {
      "text/html": [
       "<div>\n",
       "<style scoped>\n",
       "    .dataframe tbody tr th:only-of-type {\n",
       "        vertical-align: middle;\n",
       "    }\n",
       "\n",
       "    .dataframe tbody tr th {\n",
       "        vertical-align: top;\n",
       "    }\n",
       "\n",
       "    .dataframe thead th {\n",
       "        text-align: right;\n",
       "    }\n",
       "</style>\n",
       "<table border=\"1\" class=\"dataframe\">\n",
       "  <thead>\n",
       "    <tr style=\"text-align: right;\">\n",
       "      <th></th>\n",
       "      <th>qid</th>\n",
       "      <th>template</th>\n",
       "      <th>num_steps</th>\n",
       "      <th>system</th>\n",
       "      <th>user</th>\n",
       "      <th>generation</th>\n",
       "      <th>matches_format</th>\n",
       "      <th>valid_generation</th>\n",
       "      <th>response_eq_example</th>\n",
       "      <th>response_length_gt_steps</th>\n",
       "      <th>response_eq_all_steps</th>\n",
       "      <th>proportion_of_all_steps</th>\n",
       "      <th>meta_selections</th>\n",
       "      <th>meta_selections_pc</th>\n",
       "      <th>object_selections</th>\n",
       "      <th>object_selections_pc</th>\n",
       "    </tr>\n",
       "  </thead>\n",
       "  <tbody>\n",
       "    <tr>\n",
       "      <th>300</th>\n",
       "      <td>8f58e5b8e08148c6</td>\n",
       "      <td>C1</td>\n",
       "      <td>10</td>\n",
       "      <td>None</td>\n",
       "      <td>\\nYour role is to select, from a list of steps...</td>\n",
       "      <td>. Question: What will be the life expectancy i...</td>\n",
       "      <td>[1, 6, 7, 8, 9]</td>\n",
       "      <td>[1, 6, 7, 8, 9]</td>\n",
       "      <td>False</td>\n",
       "      <td>False</td>\n",
       "      <td>False</td>\n",
       "      <td>0.5</td>\n",
       "      <td>[1]</td>\n",
       "      <td>0.333333</td>\n",
       "      <td>[]</td>\n",
       "      <td>0.0</td>\n",
       "    </tr>\n",
       "    <tr>\n",
       "      <th>301</th>\n",
       "      <td>06912b44ca4349f3</td>\n",
       "      <td>C1</td>\n",
       "      <td>10</td>\n",
       "      <td>None</td>\n",
       "      <td>\\nYour role is to select, from a list of steps...</td>\n",
       "      <td>. Question: In 2030, what will be the populati...</td>\n",
       "      <td>[1, 3, 5, 7, 8, 9, 10]</td>\n",
       "      <td>[1, 3, 5, 7, 8, 9, 10]</td>\n",
       "      <td>False</td>\n",
       "      <td>False</td>\n",
       "      <td>False</td>\n",
       "      <td>0.7</td>\n",
       "      <td>[1, 3, 5]</td>\n",
       "      <td>1.000000</td>\n",
       "      <td>[]</td>\n",
       "      <td>0.0</td>\n",
       "    </tr>\n",
       "    <tr>\n",
       "      <th>302</th>\n",
       "      <td>81f657eccd4940f2</td>\n",
       "      <td>C1</td>\n",
       "      <td>10</td>\n",
       "      <td>None</td>\n",
       "      <td>\\nYour role is to select, from a list of steps...</td>\n",
       "      <td>. Question: What will be the energy consumptio...</td>\n",
       "      <td>[1, 6, 7, 8, 9]</td>\n",
       "      <td>[1, 6, 7, 8, 9]</td>\n",
       "      <td>False</td>\n",
       "      <td>False</td>\n",
       "      <td>False</td>\n",
       "      <td>0.5</td>\n",
       "      <td>[1]</td>\n",
       "      <td>0.333333</td>\n",
       "      <td>[]</td>\n",
       "      <td>0.0</td>\n",
       "    </tr>\n",
       "    <tr>\n",
       "      <th>303</th>\n",
       "      <td>885da3aa1c124fa6</td>\n",
       "      <td>C1</td>\n",
       "      <td>10</td>\n",
       "      <td>None</td>\n",
       "      <td>\\nYour role is to select, from a list of steps...</td>\n",
       "      <td>. Question: In 2026, what will be the energy c...</td>\n",
       "      <td>[1, 3, 5, 6, 7, 9]</td>\n",
       "      <td>[1, 3, 5, 6, 7, 9]</td>\n",
       "      <td>False</td>\n",
       "      <td>False</td>\n",
       "      <td>False</td>\n",
       "      <td>0.6</td>\n",
       "      <td>[1, 3, 5]</td>\n",
       "      <td>1.000000</td>\n",
       "      <td>[]</td>\n",
       "      <td>0.0</td>\n",
       "    </tr>\n",
       "    <tr>\n",
       "      <th>304</th>\n",
       "      <td>bf1a680acd224df3</td>\n",
       "      <td>C1</td>\n",
       "      <td>10</td>\n",
       "      <td>None</td>\n",
       "      <td>\\nYour role is to select, from a list of steps...</td>\n",
       "      <td>. Question: What will be the rural population ...</td>\n",
       "      <td>[1, 3, 6, 7, 8, 9]</td>\n",
       "      <td>[1, 3, 6, 7, 8, 9]</td>\n",
       "      <td>False</td>\n",
       "      <td>False</td>\n",
       "      <td>False</td>\n",
       "      <td>0.6</td>\n",
       "      <td>[1, 3]</td>\n",
       "      <td>0.666667</td>\n",
       "      <td>[]</td>\n",
       "      <td>0.0</td>\n",
       "    </tr>\n",
       "    <tr>\n",
       "      <th>...</th>\n",
       "      <td>...</td>\n",
       "      <td>...</td>\n",
       "      <td>...</td>\n",
       "      <td>...</td>\n",
       "      <td>...</td>\n",
       "      <td>...</td>\n",
       "      <td>...</td>\n",
       "      <td>...</td>\n",
       "      <td>...</td>\n",
       "      <td>...</td>\n",
       "      <td>...</td>\n",
       "      <td>...</td>\n",
       "      <td>...</td>\n",
       "      <td>...</td>\n",
       "      <td>...</td>\n",
       "      <td>...</td>\n",
       "    </tr>\n",
       "    <tr>\n",
       "      <th>395</th>\n",
       "      <td>f4b62e05b8bc4f1e</td>\n",
       "      <td>C1</td>\n",
       "      <td>10</td>\n",
       "      <td>None</td>\n",
       "      <td>\\nYour role is to select, from a list of steps...</td>\n",
       "      <td>. Question: What will be the birth rate in 202...</td>\n",
       "      <td>[1, 3, 4, 6, 7, 9]</td>\n",
       "      <td>[1, 3, 4, 6, 7, 9]</td>\n",
       "      <td>False</td>\n",
       "      <td>False</td>\n",
       "      <td>False</td>\n",
       "      <td>0.6</td>\n",
       "      <td>[1, 3]</td>\n",
       "      <td>0.666667</td>\n",
       "      <td>[4]</td>\n",
       "      <td>0.5</td>\n",
       "    </tr>\n",
       "    <tr>\n",
       "      <th>396</th>\n",
       "      <td>c74a7f331d1b47bb</td>\n",
       "      <td>C1</td>\n",
       "      <td>10</td>\n",
       "      <td>None</td>\n",
       "      <td>\\nYour role is to select, from a list of steps...</td>\n",
       "      <td>. Question: For the country in Eastern Europe ...</td>\n",
       "      <td>[1, 6, 7, 8, 9]</td>\n",
       "      <td>[1, 6, 7, 8, 9]</td>\n",
       "      <td>False</td>\n",
       "      <td>False</td>\n",
       "      <td>False</td>\n",
       "      <td>0.5</td>\n",
       "      <td>[1]</td>\n",
       "      <td>0.333333</td>\n",
       "      <td>[]</td>\n",
       "      <td>0.0</td>\n",
       "    </tr>\n",
       "    <tr>\n",
       "      <th>397</th>\n",
       "      <td>3d0b6bb28d244c29</td>\n",
       "      <td>C1</td>\n",
       "      <td>10</td>\n",
       "      <td>None</td>\n",
       "      <td>\\nYour role is to select, from a list of steps...</td>\n",
       "      <td>. Question: For the country in Northern Africa...</td>\n",
       "      <td>[1, 4, 6, 7, 9]</td>\n",
       "      <td>[1, 4, 6, 7, 9]</td>\n",
       "      <td>False</td>\n",
       "      <td>False</td>\n",
       "      <td>False</td>\n",
       "      <td>0.5</td>\n",
       "      <td>[1]</td>\n",
       "      <td>0.333333</td>\n",
       "      <td>[4]</td>\n",
       "      <td>0.5</td>\n",
       "    </tr>\n",
       "    <tr>\n",
       "      <th>398</th>\n",
       "      <td>91c9d3a53be745f9</td>\n",
       "      <td>C1</td>\n",
       "      <td>10</td>\n",
       "      <td>None</td>\n",
       "      <td>\\nYour role is to select, from a list of steps...</td>\n",
       "      <td>. Question: In 2028, what will be the life exp...</td>\n",
       "      <td>[1, 4, 6, 8, 9]</td>\n",
       "      <td>[1, 4, 6, 8, 9]</td>\n",
       "      <td>False</td>\n",
       "      <td>False</td>\n",
       "      <td>False</td>\n",
       "      <td>0.5</td>\n",
       "      <td>[1]</td>\n",
       "      <td>0.333333</td>\n",
       "      <td>[4]</td>\n",
       "      <td>0.5</td>\n",
       "    </tr>\n",
       "    <tr>\n",
       "      <th>399</th>\n",
       "      <td>8d8da007edff4a58</td>\n",
       "      <td>C1</td>\n",
       "      <td>10</td>\n",
       "      <td>None</td>\n",
       "      <td>\\nYour role is to select, from a list of steps...</td>\n",
       "      <td>. Question: What will be the GDP in 2030 of th...</td>\n",
       "      <td>[1, 6, 7, 9]</td>\n",
       "      <td>[1, 6, 7, 9]</td>\n",
       "      <td>False</td>\n",
       "      <td>False</td>\n",
       "      <td>False</td>\n",
       "      <td>0.4</td>\n",
       "      <td>[1]</td>\n",
       "      <td>0.333333</td>\n",
       "      <td>[]</td>\n",
       "      <td>0.0</td>\n",
       "    </tr>\n",
       "  </tbody>\n",
       "</table>\n",
       "<p>100 rows × 16 columns</p>\n",
       "</div>"
      ],
      "text/plain": [
       "                  qid template  num_steps system  \\\n",
       "300  8f58e5b8e08148c6       C1         10   None   \n",
       "301  06912b44ca4349f3       C1         10   None   \n",
       "302  81f657eccd4940f2       C1         10   None   \n",
       "303  885da3aa1c124fa6       C1         10   None   \n",
       "304  bf1a680acd224df3       C1         10   None   \n",
       "..                ...      ...        ...    ...   \n",
       "395  f4b62e05b8bc4f1e       C1         10   None   \n",
       "396  c74a7f331d1b47bb       C1         10   None   \n",
       "397  3d0b6bb28d244c29       C1         10   None   \n",
       "398  91c9d3a53be745f9       C1         10   None   \n",
       "399  8d8da007edff4a58       C1         10   None   \n",
       "\n",
       "                                                  user  \\\n",
       "300  \\nYour role is to select, from a list of steps...   \n",
       "301  \\nYour role is to select, from a list of steps...   \n",
       "302  \\nYour role is to select, from a list of steps...   \n",
       "303  \\nYour role is to select, from a list of steps...   \n",
       "304  \\nYour role is to select, from a list of steps...   \n",
       "..                                                 ...   \n",
       "395  \\nYour role is to select, from a list of steps...   \n",
       "396  \\nYour role is to select, from a list of steps...   \n",
       "397  \\nYour role is to select, from a list of steps...   \n",
       "398  \\nYour role is to select, from a list of steps...   \n",
       "399  \\nYour role is to select, from a list of steps...   \n",
       "\n",
       "                                            generation  \\\n",
       "300  . Question: What will be the life expectancy i...   \n",
       "301  . Question: In 2030, what will be the populati...   \n",
       "302  . Question: What will be the energy consumptio...   \n",
       "303  . Question: In 2026, what will be the energy c...   \n",
       "304  . Question: What will be the rural population ...   \n",
       "..                                                 ...   \n",
       "395  . Question: What will be the birth rate in 202...   \n",
       "396  . Question: For the country in Eastern Europe ...   \n",
       "397  . Question: For the country in Northern Africa...   \n",
       "398  . Question: In 2028, what will be the life exp...   \n",
       "399  . Question: What will be the GDP in 2030 of th...   \n",
       "\n",
       "             matches_format        valid_generation  response_eq_example  \\\n",
       "300         [1, 6, 7, 8, 9]         [1, 6, 7, 8, 9]                False   \n",
       "301  [1, 3, 5, 7, 8, 9, 10]  [1, 3, 5, 7, 8, 9, 10]                False   \n",
       "302         [1, 6, 7, 8, 9]         [1, 6, 7, 8, 9]                False   \n",
       "303      [1, 3, 5, 6, 7, 9]      [1, 3, 5, 6, 7, 9]                False   \n",
       "304      [1, 3, 6, 7, 8, 9]      [1, 3, 6, 7, 8, 9]                False   \n",
       "..                      ...                     ...                  ...   \n",
       "395      [1, 3, 4, 6, 7, 9]      [1, 3, 4, 6, 7, 9]                False   \n",
       "396         [1, 6, 7, 8, 9]         [1, 6, 7, 8, 9]                False   \n",
       "397         [1, 4, 6, 7, 9]         [1, 4, 6, 7, 9]                False   \n",
       "398         [1, 4, 6, 8, 9]         [1, 4, 6, 8, 9]                False   \n",
       "399            [1, 6, 7, 9]            [1, 6, 7, 9]                False   \n",
       "\n",
       "     response_length_gt_steps  response_eq_all_steps  proportion_of_all_steps  \\\n",
       "300                     False                  False                      0.5   \n",
       "301                     False                  False                      0.7   \n",
       "302                     False                  False                      0.5   \n",
       "303                     False                  False                      0.6   \n",
       "304                     False                  False                      0.6   \n",
       "..                        ...                    ...                      ...   \n",
       "395                     False                  False                      0.6   \n",
       "396                     False                  False                      0.5   \n",
       "397                     False                  False                      0.5   \n",
       "398                     False                  False                      0.5   \n",
       "399                     False                  False                      0.4   \n",
       "\n",
       "    meta_selections  meta_selections_pc object_selections  \\\n",
       "300             [1]            0.333333                []   \n",
       "301       [1, 3, 5]            1.000000                []   \n",
       "302             [1]            0.333333                []   \n",
       "303       [1, 3, 5]            1.000000                []   \n",
       "304          [1, 3]            0.666667                []   \n",
       "..              ...                 ...               ...   \n",
       "395          [1, 3]            0.666667               [4]   \n",
       "396             [1]            0.333333                []   \n",
       "397             [1]            0.333333               [4]   \n",
       "398             [1]            0.333333               [4]   \n",
       "399             [1]            0.333333                []   \n",
       "\n",
       "     object_selections_pc  \n",
       "300                   0.0  \n",
       "301                   0.0  \n",
       "302                   0.0  \n",
       "303                   0.0  \n",
       "304                   0.0  \n",
       "..                    ...  \n",
       "395                   0.5  \n",
       "396                   0.0  \n",
       "397                   0.5  \n",
       "398                   0.5  \n",
       "399                   0.0  \n",
       "\n",
       "[100 rows x 16 columns]"
      ]
     },
     "execution_count": 16,
     "metadata": {},
     "output_type": "execute_result"
    }
   ],
   "source": [
    "T.df"
   ]
  },
  {
   "cell_type": "code",
   "execution_count": 17,
   "metadata": {},
   "outputs": [
    {
     "data": {
      "text/plain": [
       "[1, 6, 7, 9]                 21\n",
       "[1, 6, 7, 8, 9]              14\n",
       "[1, 3, 5, 6, 7, 9]            8\n",
       "[1, 3, 5, 6, 9]               5\n",
       "[1, 3, 6, 7, 9]               4\n",
       "[1, 3, 5, 7, 9]               4\n",
       "[1, 3, 4, 5, 6, 9]            3\n",
       "[1, 3, 4, 6, 7, 9]            3\n",
       "[1, 3, 5, 6, 7, 8, 9, 10]     2\n",
       "[1, 3, 5, 7, 8, 9]            2\n",
       "[1, 3, 4, 5, 7, 8, 9, 10]     2\n",
       "[1, 2, 4, 5, 6, 7, 9]         2\n",
       "[1, 3, 6, 7, 8, 9]            2\n",
       "[1, 3, 5, 7, 8, 9, 10]        2\n",
       "[1, 4, 6, 7, 8, 9]            2\n",
       "[1, 3, 5, 6, 8, 9, 10]        2\n",
       "[1, 6, 7, 8, 9, 10]           2\n",
       "[1, 3, 4, 6, 7, 9, 10]        2\n",
       "[1, 3, 6, 7, 8, 9, 10]        2\n",
       "[1, 3, 5, 7]                  1\n",
       "[1, 2, 6, 7, 9]               1\n",
       "[1, 3, 4, 5, 6, 8, 9]         1\n",
       "[1, 3, 5, 6, 8, 9]            1\n",
       "[1, 3, 4, 6, 8, 9]            1\n",
       "[1, 4, 6, 7, 9]               1\n",
       "[1, 4, 5, 6, 7, 9]            1\n",
       "[1, 3, 6, 9]                  1\n",
       "[1, 3, 6, 7, 9, 10]           1\n",
       "[1, 3, 5, 6, 7, 8, 9]         1\n",
       "[1, 3, 4, 5, 8, 9]            1\n",
       "[1, 6, 9, 10]                 1\n",
       "[1, 3, 4, 5, 6, 8, 9, 10]     1\n",
       "[1, 3, 4, 6, 8, 9, 10]        1\n",
       "[1, 3, 4, 6, 7, 8, 9]         1\n",
       "[1, 4, 6, 8, 9]               1\n",
       "Name: matches_format, dtype: int64"
      ]
     },
     "execution_count": 17,
     "metadata": {},
     "output_type": "execute_result"
    }
   ],
   "source": [
    "T.df['matches_format'].value_counts()"
   ]
  },
  {
   "cell_type": "code",
   "execution_count": 18,
   "metadata": {},
   "outputs": [
    {
     "data": {
      "text/plain": [
       "[1, 6, 7, 9]                 21\n",
       "[1, 6, 7, 8, 9]              14\n",
       "[1, 3, 5, 6, 7, 9]            8\n",
       "[1, 3, 5, 6, 9]               5\n",
       "[1, 3, 6, 7, 9]               4\n",
       "[1, 3, 5, 7, 9]               4\n",
       "[1, 3, 4, 5, 6, 9]            3\n",
       "[1, 3, 4, 6, 7, 9]            3\n",
       "[1, 3, 5, 6, 7, 8, 9, 10]     2\n",
       "[1, 3, 5, 7, 8, 9]            2\n",
       "[1, 3, 4, 5, 7, 8, 9, 10]     2\n",
       "[1, 2, 4, 5, 6, 7, 9]         2\n",
       "[1, 3, 6, 7, 8, 9]            2\n",
       "[1, 3, 5, 7, 8, 9, 10]        2\n",
       "[1, 4, 6, 7, 8, 9]            2\n",
       "[1, 3, 5, 6, 8, 9, 10]        2\n",
       "[1, 6, 7, 8, 9, 10]           2\n",
       "[1, 3, 4, 6, 7, 9, 10]        2\n",
       "[1, 3, 6, 7, 8, 9, 10]        2\n",
       "[1, 3, 5, 7]                  1\n",
       "[1, 2, 6, 7, 9]               1\n",
       "[1, 3, 4, 5, 6, 8, 9]         1\n",
       "[1, 3, 5, 6, 8, 9]            1\n",
       "[1, 3, 4, 6, 8, 9]            1\n",
       "[1, 4, 6, 7, 9]               1\n",
       "[1, 4, 5, 6, 7, 9]            1\n",
       "[1, 3, 6, 9]                  1\n",
       "[1, 3, 6, 7, 9, 10]           1\n",
       "[1, 3, 5, 6, 7, 8, 9]         1\n",
       "[1, 3, 4, 5, 8, 9]            1\n",
       "[1, 6, 9, 10]                 1\n",
       "[1, 3, 4, 5, 6, 8, 9, 10]     1\n",
       "[1, 3, 4, 6, 8, 9, 10]        1\n",
       "[1, 3, 4, 6, 7, 8, 9]         1\n",
       "[1, 4, 6, 8, 9]               1\n",
       "Name: valid_generation, dtype: int64"
      ]
     },
     "execution_count": 18,
     "metadata": {},
     "output_type": "execute_result"
    }
   ],
   "source": [
    "T.df['valid_generation'].value_counts()"
   ]
  },
  {
   "cell_type": "code",
   "execution_count": 19,
   "metadata": {},
   "outputs": [
    {
     "data": {
      "text/plain": [
       "False    100\n",
       "Name: response_eq_example, dtype: int64"
      ]
     },
     "execution_count": 19,
     "metadata": {},
     "output_type": "execute_result"
    }
   ],
   "source": [
    "T.df['response_eq_example'].value_counts()"
   ]
  },
  {
   "cell_type": "code",
   "execution_count": 20,
   "metadata": {},
   "outputs": [
    {
     "data": {
      "text/plain": [
       "False    100\n",
       "Name: response_length_gt_steps, dtype: int64"
      ]
     },
     "execution_count": 20,
     "metadata": {},
     "output_type": "execute_result"
    }
   ],
   "source": [
    "T.df['response_length_gt_steps'].value_counts()"
   ]
  },
  {
   "cell_type": "code",
   "execution_count": 21,
   "metadata": {},
   "outputs": [
    {
     "data": {
      "text/plain": [
       "False    100\n",
       "Name: response_eq_all_steps, dtype: int64"
      ]
     },
     "execution_count": 21,
     "metadata": {},
     "output_type": "execute_result"
    }
   ],
   "source": [
    "T.df['response_eq_all_steps'].value_counts()"
   ]
  },
  {
   "cell_type": "code",
   "execution_count": 22,
   "metadata": {},
   "outputs": [
    {
     "data": {
      "text/plain": [
       "0.5    30\n",
       "0.6    27\n",
       "0.4    24\n",
       "0.7    14\n",
       "0.8     5\n",
       "Name: proportion_of_all_steps, dtype: int64"
      ]
     },
     "execution_count": 22,
     "metadata": {},
     "output_type": "execute_result"
    }
   ],
   "source": [
    "T.df['proportion_of_all_steps'].value_counts()"
   ]
  },
  {
   "cell_type": "code",
   "execution_count": 23,
   "metadata": {},
   "outputs": [
    {
     "data": {
      "text/plain": [
       "[1]          43\n",
       "[1, 3, 5]    36\n",
       "[1, 3]       18\n",
       "[1, 5]        3\n",
       "Name: meta_selections, dtype: int64"
      ]
     },
     "execution_count": 23,
     "metadata": {},
     "output_type": "execute_result"
    }
   ],
   "source": [
    "T.df['meta_selections'].value_counts()"
   ]
  },
  {
   "cell_type": "code",
   "execution_count": 24,
   "metadata": {},
   "outputs": [
    {
     "data": {
      "text/plain": [
       "0.333333    43\n",
       "0.666667    21\n",
       "1.000000    36\n",
       "Name: meta_selections_pc, dtype: int64"
      ]
     },
     "execution_count": 24,
     "metadata": {},
     "output_type": "execute_result"
    }
   ],
   "source": [
    "T.df['meta_selections_pc'].value_counts().sort_index()"
   ]
  },
  {
   "cell_type": "code",
   "execution_count": 25,
   "metadata": {},
   "outputs": [
    {
     "data": {
      "text/plain": [
       "[]        76\n",
       "[4]       21\n",
       "[2, 4]     2\n",
       "[2]        1\n",
       "Name: object_selections, dtype: int64"
      ]
     },
     "execution_count": 25,
     "metadata": {},
     "output_type": "execute_result"
    }
   ],
   "source": [
    "T.df['object_selections'].value_counts()"
   ]
  },
  {
   "cell_type": "code",
   "execution_count": 26,
   "metadata": {},
   "outputs": [
    {
     "data": {
      "text/plain": [
       "0.0    76\n",
       "0.5    22\n",
       "1.0     2\n",
       "Name: object_selections_pc, dtype: int64"
      ]
     },
     "execution_count": 26,
     "metadata": {},
     "output_type": "execute_result"
    }
   ],
   "source": [
    "T.df['object_selections_pc'].value_counts().sort_index()"
   ]
  },
  {
   "cell_type": "code",
   "execution_count": 27,
   "metadata": {},
   "outputs": [],
   "source": [
    "# templates = ['A1', 'B1', 'C1', 'D1']\n",
    "\n",
    "# output = Path('outputs/2024-05-24T16:16:02.060434.json')\n",
    "# output = Path('outputs/2024-05-24T16:16:02.061578.json')\n",
    "# # output = Path('outputs/2024-05-24T16:16:02.062049.json')\n",
    "# with output.open() as f:\n",
    "#     data = json.load(f)\n",
    "\n",
    "\n",
    "# eq_example = []\n",
    "# length_gt_steps = []\n",
    "# eq_steps = []\n",
    "# for t in templates:\n",
    "#     T = PromptParticipant(output, t)\n",
    "#     # count occurences != none\n",
    "#     eq_example.append(sum(T.df['response_eq_example']))\n",
    "#     length_gt_steps.append(sum(T.df['response_length_gt_steps']))\n",
    "#     eq_steps.append(sum(T.df['response_eq_all_steps']))\n",
    "\n",
    "# # create dataframe from results\n",
    "# comp_df = pd.DataFrame({\n",
    "#     'template': templates,\n",
    "#     'num_steps': STEP_NUM.values(),\n",
    "#     'eq_example': eq_example,\n",
    "#     'length_gt_steps': length_gt_steps,\n",
    "#     'eq_steps': eq_steps\n",
    "# })\n",
    "\n",
    "# print(comp_df)"
   ]
  }
 ],
 "metadata": {
  "kernelspec": {
   "display_name": ".env",
   "language": "python",
   "name": "python3"
  },
  "language_info": {
   "codemirror_mode": {
    "name": "ipython",
    "version": 3
   },
   "file_extension": ".py",
   "mimetype": "text/x-python",
   "name": "python",
   "nbconvert_exporter": "python",
   "pygments_lexer": "ipython3",
   "version": "3.10.14"
  }
 },
 "nbformat": 4,
 "nbformat_minor": 2
}
