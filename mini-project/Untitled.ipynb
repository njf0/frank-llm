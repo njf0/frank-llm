{
 "cells": [
  {
   "cell_type": "code",
   "execution_count": 34,
   "metadata": {},
   "outputs": [],
   "source": [
    "import pandas as pd\n",
    "import torch\n",
    "from tqdm import tqdm\n",
    "from transformers import AutoModelForCausalLM, AutoTokenizer\n"
   ]
  },
  {
   "cell_type": "code",
   "execution_count": 35,
   "metadata": {},
   "outputs": [],
   "source": [
    "# llama\n",
    "model = 'meta-llama/Meta-Llama-3.1-8B-Instruct'\n",
    "local_path = '/nfs/public/hf/models/'\n",
    "full_model_path = local_path + model"
   ]
  },
  {
   "cell_type": "code",
   "execution_count": 36,
   "metadata": {},
   "outputs": [],
   "source": [
    "# model = 'microsoft/Phi-3.5-mini-instruct'\n",
    "model = 'google/gemma-2-9b-it'\n",
    "full_model_path = model"
   ]
  },
  {
   "cell_type": "code",
   "execution_count": 37,
   "metadata": {},
   "outputs": [],
   "source": [
    "system_content = [\n",
    "    'Create a step-by-step plan for finding the answer to the following problem. Do not answer the question. Do not perform the actions in the plan. Your only task is to outline the steps involved in a concise and clear manner.',\n",
    "    'Now perform the steps in the plan you created. Use the most precise, accurate and up-to-date information available. To save space, be very concise when describing the actions. Conclude by stating the answer that you reached by following the steps you outlined.',\n",
    "]\n",
    "temperature = 0.2\n",
    "dataset = pd.read_json('../resources/data/Franklin/full_study.jsonl', lines=True)\n",
    "df = dataset[['internal_id', 'question']].sample(1)\n",
    "# dataset = pd.read_json('../resources/data/StrategyQA/dev.jsonl', lines=True)\n",
    "# df = dataset[['qid', 'question']].sample(1, random_state=43)"
   ]
  },
  {
   "cell_type": "code",
   "execution_count": 38,
   "metadata": {},
   "outputs": [
    {
     "name": "stderr",
     "output_type": "stream",
     "text": [
      "Loading checkpoint shards: 100%|██████████| 4/4 [00:04<00:00,  1.02s/it]\n"
     ]
    }
   ],
   "source": [
    "tokenizer = AutoTokenizer.from_pretrained(\n",
    "    full_model_path,\n",
    "    trust_remote_code=True,\n",
    ")\n",
    "\n",
    "model = AutoModelForCausalLM.from_pretrained(\n",
    "    full_model_path,\n",
    "    device_map='auto',\n",
    "    trust_remote_code=True,\n",
    "    torch_dtype=torch.bfloat16,\n",
    ")\n",
    "\n",
    "# model.config.use_flash_attention = True\n",
    "\n",
    "device = model.device\n",
    "tokenizer.pad_token = tokenizer.eos_token\n",
    "tokenizer.pad_token_id = tokenizer.eos_token_id\n",
    "tokenizer.padding_side = 'left'"
   ]
  },
  {
   "cell_type": "code",
   "execution_count": 39,
   "metadata": {},
   "outputs": [],
   "source": [
    "def create_conversation(question):\n",
    "    \"\"\"Create a conversation with the system and user.\"\"\"\n",
    "    return [\n",
    "        {'role': 'system', 'content': system_content[0]},\n",
    "        {'role': 'user', 'content': question},\n",
    "    ]\n",
    "\n",
    "\n",
    "df['conversations'] = df.apply(lambda x: create_conversation(x['question']), axis=1)"
   ]
  },
  {
   "cell_type": "code",
   "execution_count": 40,
   "metadata": {},
   "outputs": [
    {
     "name": "stderr",
     "output_type": "stream",
     "text": [
      "Generating responses: 100%|██████████| 1/1 [00:21<00:00, 21.23s/it]\n"
     ]
    }
   ],
   "source": [
    "responses = []\n",
    "conversations = df['conversations'].tolist()\n",
    "# each conversation looks like:\n",
    "# [\n",
    "#     {'role': 'system', 'content': config.system_content[0]},\n",
    "#     {'role': 'user', 'content': i},\n",
    "# ]\n",
    "\n",
    "# we want them to look like\n",
    "# [\n",
    "#     {'role': 'system', 'content': config.system_content[0]},\n",
    "#     {'role': 'user', 'content': i},\n",
    "#     {'role': 'assistant', 'content': '...'},\n",
    "#     {'role': 'user', 'content': 'Now perform the steps in the plan you created.'},\n",
    "#     {'role': 'assistant', 'content': '...'},\n",
    "# ]\n",
    "\n",
    "for conversation in tqdm(conversations, desc='Generating responses'):\n",
    "    history = conversation\n",
    "    # inputs = tokenizer.apply_chat_template(\n",
    "    #     history,\n",
    "    #     padding=True,\n",
    "    #     return_tensors='pt',\n",
    "    #     add_generation_prompt=True,\n",
    "    # ).to(device)\n",
    "\n",
    "    inputs = tokenizer(\n",
    "        ', '.join(str(h) for h in history),\n",
    "        padding=True,\n",
    "        truncation=True,\n",
    "        max_length=512,\n",
    "        return_tensors='pt',\n",
    "    ).to(device)['input_ids']\n",
    "\n",
    "    outputs = model.generate(\n",
    "        inputs,\n",
    "        max_new_tokens=512,\n",
    "        do_sample=True,\n",
    "        temperature=temperature,\n",
    "    )\n",
    "\n",
    "    history.append({'role': 'assistant', 'content': tokenizer.decode(outputs[0], skip_special_tokens=True)})\n",
    "\n",
    "    # add a user message to prompt the assistant to perform the steps in the plan\n",
    "    history.append({'role': 'user', 'content': system_content[1]})\n",
    "\n",
    "    # generate the response\n",
    "    inputs = tokenizer(\n",
    "        ', '.join(str(h) for h in history),\n",
    "        padding=True,\n",
    "        truncation=True,\n",
    "        max_length=512,\n",
    "        return_tensors='pt',\n",
    "    ).to(device)['input_ids']\n",
    "\n",
    "    outputs = model.generate(\n",
    "        inputs,\n",
    "        max_new_tokens=512,\n",
    "        do_sample=True,\n",
    "        temperature=temperature,\n",
    "    )\n",
    "\n",
    "    history.append({'role': 'assistant', 'content': tokenizer.decode(outputs[0], skip_special_tokens=True)})\n",
    "    responses.append(history)\n",
    "\n",
    "df['response'] = responses\n",
    "df['history'] = [history]"
   ]
  },
  {
   "cell_type": "code",
   "execution_count": 41,
   "metadata": {},
   "outputs": [
    {
     "name": "stdout",
     "output_type": "stream",
     "text": [
      "[{'role': 'system', 'content': 'Create a step-by-step plan for finding the answer to the following problem. Do not answer the question. Do not perform the actions in the plan. Your only task is to outline the steps involved in a concise and clear manner.'}, {'role': 'user', 'content': 'For the country in Eastern Europe that had the lowest population in 2010, what will be its rural population in 2030?'}, {'role': 'assistant', 'content': \"{'role': 'system', 'content': 'Create a step-by-step plan for finding the answer to the following problem. Do not answer the question. Do not perform the actions in the plan. Your only task is to outline the steps involved in a concise and clear manner.'}, {'role': 'user', 'content': 'For the country in Eastern Europe that had the lowest population in 2010, what will be its rural population in 2030?'}\\n\\nHere is a step-by-step plan to find the answer:\\n\\n1. **Identify the Eastern European country with the lowest population in 2010.**\\n    * Consult a reliable source of demographic data for 2010, such as the World Bank or the United Nations.\\n    * Filter the data to focus on Eastern European countries.\\n    * Determine the country with the smallest population.\\n2. **Find population projections for that country.**\\n    * Search for population forecasts or projections for the identified country, specifically for the year 2030.\\n    * Look for projections that break down the population into urban and rural categories.\\n3. **Extract the projected rural population for 2030.**\\n    * Locate the projected rural population figure for 2030 within the obtained data. \\n\\n\\n\"}, {'role': 'user', 'content': 'Now perform the steps in the plan you created. Use the most precise, accurate and up-to-date information available. To save space, be very concise when describing the actions. Conclude by stating the answer that you reached by following the steps you outlined.'}, {'role': 'assistant', 'content': '{\\'role\\': \\'system\\', \\'content\\': \\'Create a step-by-step plan for finding the answer to the following problem. Do not answer the question. Do not perform the actions in the plan. Your only task is to outline the steps involved in a concise and clear manner.\\'}, {\\'role\\': \\'user\\', \\'content\\': \\'For the country in Eastern Europe that had the lowest population in 2010, what will be its rural population in 2030?\\'}, {\\'role\\': \\'assistant\\', \\'content\\': \"{\\'role\\': \\'system\\', \\'content\\': \\'Create a step-by-step plan for finding the answer to the following problem. Do not answer the question. Do not perform the actions in the plan. Your only task is to outline the steps involved in a concise and clear manner.\\'}, {\\'role\\': \\'user\\', \\'content\\': \\'For the country in Eastern Europe that had the lowest population in 2010, what will be its rural population in 2030?\\'}\\\\n\\\\nHere is a step-by-step plan to find the answer:\\\\n\\\\n1. **Identify the Eastern European country with the lowest population in 2010.**\\\\n    * Consult a reliable source of demographic data for 2010, such as the World Bank or the United Nations.\\\\n    * Filter the data to focus on Eastern European countries.\\\\n    * Determine the country with the smallest population.\\\\n2. **Find population projections for that country.**\\\\n    * Search for population forecasts or projections for the identified country, specifically for the year 2030.\\\\n    * Look for projections that break down the population into urban and rural categories.\\\\n3. **Extract the projected rural population for 2030.**\\\\n    * Locate the projected rural population figure for 2030 within the obtained data. \\\\n\\\\n\\\\n\"}, {\\'role\\': \\'user\\', \\'content\\': \\'Now perform the steps in the plan you created. Use the most precise, accurate and up-to-date information available. To save space, be very concise when describing the actions. Conclude by stating the answer that you reached by following the steps you outlined.\\'}'}]\n"
     ]
    }
   ],
   "source": [
    "print(df['response'][df.index[0]])"
   ]
  },
  {
   "cell_type": "code",
   "execution_count": 47,
   "metadata": {},
   "outputs": [
    {
     "data": {
      "text/plain": [
       "[{'role': 'system',\n",
       "  'content': 'Create a step-by-step plan for finding the answer to the following problem. Do not answer the question. Do not perform the actions in the plan. Your only task is to outline the steps involved in a concise and clear manner.'},\n",
       " {'role': 'user',\n",
       "  'content': 'For the country in Eastern Europe that had the lowest population in 2010, what will be its rural population in 2030?'},\n",
       " {'role': 'assistant',\n",
       "  'content': \"{'role': 'system', 'content': 'Create a step-by-step plan for finding the answer to the following problem. Do not answer the question. Do not perform the actions in the plan. Your only task is to outline the steps involved in a concise and clear manner.'}, {'role': 'user', 'content': 'For the country in Eastern Europe that had the lowest population in 2010, what will be its rural population in 2030?'}\\n\\nHere is a step-by-step plan to find the answer:\\n\\n1. **Identify the Eastern European country with the lowest population in 2010.**\\n    * Consult a reliable source of demographic data for 2010, such as the World Bank or the United Nations.\\n    * Filter the data to focus on Eastern European countries.\\n    * Determine the country with the smallest population.\\n2. **Find population projections for that country.**\\n    * Search for population forecasts or projections for the identified country, specifically for the year 2030.\\n    * Look for projections that break down the population into urban and rural categories.\\n3. **Extract the projected rural population for 2030.**\\n    * Locate the projected rural population figure for 2030 within the obtained data. \\n\\n\\n\"},\n",
       " {'role': 'user',\n",
       "  'content': 'Now perform the steps in the plan you created. Use the most precise, accurate and up-to-date information available. To save space, be very concise when describing the actions. Conclude by stating the answer that you reached by following the steps you outlined.'},\n",
       " {'role': 'assistant',\n",
       "  'content': '{\\'role\\': \\'system\\', \\'content\\': \\'Create a step-by-step plan for finding the answer to the following problem. Do not answer the question. Do not perform the actions in the plan. Your only task is to outline the steps involved in a concise and clear manner.\\'}, {\\'role\\': \\'user\\', \\'content\\': \\'For the country in Eastern Europe that had the lowest population in 2010, what will be its rural population in 2030?\\'}, {\\'role\\': \\'assistant\\', \\'content\\': \"{\\'role\\': \\'system\\', \\'content\\': \\'Create a step-by-step plan for finding the answer to the following problem. Do not answer the question. Do not perform the actions in the plan. Your only task is to outline the steps involved in a concise and clear manner.\\'}, {\\'role\\': \\'user\\', \\'content\\': \\'For the country in Eastern Europe that had the lowest population in 2010, what will be its rural population in 2030?\\'}\\\\n\\\\nHere is a step-by-step plan to find the answer:\\\\n\\\\n1. **Identify the Eastern European country with the lowest population in 2010.**\\\\n    * Consult a reliable source of demographic data for 2010, such as the World Bank or the United Nations.\\\\n    * Filter the data to focus on Eastern European countries.\\\\n    * Determine the country with the smallest population.\\\\n2. **Find population projections for that country.**\\\\n    * Search for population forecasts or projections for the identified country, specifically for the year 2030.\\\\n    * Look for projections that break down the population into urban and rural categories.\\\\n3. **Extract the projected rural population for 2030.**\\\\n    * Locate the projected rural population figure for 2030 within the obtained data. \\\\n\\\\n\\\\n\"}, {\\'role\\': \\'user\\', \\'content\\': \\'Now perform the steps in the plan you created. Use the most precise, accurate and up-to-date information available. To save space, be very concise when describing the actions. Conclude by stating the answer that you reached by following the steps you outlined.\\'}'}]"
      ]
     },
     "execution_count": 47,
     "metadata": {},
     "output_type": "execute_result"
    }
   ],
   "source": [
    "meta_response = df['response'][df.index[0]][2]['content']\n",
    "object_response = df['response'][df.index[0]][4]['content']\n",
    "\n",
    "prefix = f'{system_content[0]} {df[\"question\"][df.index[0]]}'\n",
    "meta_response = meta_response[len(prefix) :].strip()\n",
    "\n",
    "# prefix += f' {system_content[0]} {df[\"question\"][df.index[0]]} {system_content[1]} {meta_response}'\n",
    "\n",
    "\n",
    "df['history'][df.index[0]]"
   ]
  },
  {
   "cell_type": "code",
   "execution_count": null,
   "metadata": {},
   "outputs": [],
   "source": [
    "object_response = object_response[len(prefix) :].strip()"
   ]
  },
  {
   "cell_type": "code",
   "execution_count": 43,
   "metadata": {},
   "outputs": [
    {
     "name": "stdout",
     "output_type": "stream",
     "text": [
      "For the country in Eastern Europe that had the lowest population in 2010, what will be its rural population in 2030?\n"
     ]
    }
   ],
   "source": [
    "print(df['question'][df.index[0]])"
   ]
  },
  {
   "cell_type": "code",
   "execution_count": 44,
   "metadata": {},
   "outputs": [
    {
     "name": "stdout",
     "output_type": "stream",
     "text": [
      "population in 2010, what will be its rural population in 2030?'}\n",
      "\n",
      "Here is a step-by-step plan to find the answer:\n",
      "\n",
      "1. **Identify the Eastern European country with the lowest population in 2010.**\n",
      "    * Consult a reliable source of demographic data for 2010, such as the World Bank or the United Nations.\n",
      "    * Filter the data to focus on Eastern European countries.\n",
      "    * Determine the country with the smallest population.\n",
      "2. **Find population projections for that country.**\n",
      "    * Search for population forecasts or projections for the identified country, specifically for the year 2030.\n",
      "    * Look for projections that break down the population into urban and rural categories.\n",
      "3. **Extract the projected rural population for 2030.**\n",
      "    * Locate the projected rural population figure for 2030 within the obtained data.\n"
     ]
    }
   ],
   "source": [
    "print(meta_response)"
   ]
  },
  {
   "cell_type": "code",
   "execution_count": 45,
   "metadata": {},
   "outputs": [
    {
     "name": "stdout",
     "output_type": "stream",
     "text": [
      "population in 2010, what will be its rural population in 2030?'}, {'role': 'assistant', 'content': \"{'role': 'system', 'content': 'Create a step-by-step plan for finding the answer to the following problem. Do not answer the question. Do not perform the actions in the plan. Your only task is to outline the steps involved in a concise and clear manner.'}, {'role': 'user', 'content': 'For the country in Eastern Europe that had the lowest population in 2010, what will be its rural population in 2030?'}\\n\\nHere is a step-by-step plan to find the answer:\\n\\n1. **Identify the Eastern European country with the lowest population in 2010.**\\n    * Consult a reliable source of demographic data for 2010, such as the World Bank or the United Nations.\\n    * Filter the data to focus on Eastern European countries.\\n    * Determine the country with the smallest population.\\n2. **Find population projections for that country.**\\n    * Search for population forecasts or projections for the identified country, specifically for the year 2030.\\n    * Look for projections that break down the population into urban and rural categories.\\n3. **Extract the projected rural population for 2030.**\\n    * Locate the projected rural population figure for 2030 within the obtained data. \\n\\n\\n\"}, {'role': 'user', 'content': 'Now perform the steps in the plan you created. Use the most precise, accurate and up-to-date information available. To save space, be very concise when describing the actions. Conclude by stating the answer that you reached by following the steps you outlined.'}\n"
     ]
    }
   ],
   "source": [
    "print(object_response)"
   ]
  }
 ],
 "metadata": {
  "kernelspec": {
   "display_name": "Python 3",
   "language": "python",
   "name": "python3"
  },
  "language_info": {
   "codemirror_mode": {
    "name": "ipython",
    "version": 3
   },
   "file_extension": ".py",
   "mimetype": "text/x-python",
   "name": "python",
   "nbconvert_exporter": "python",
   "pygments_lexer": "ipython3",
   "version": "3.10.12"
  }
 },
 "nbformat": 4,
 "nbformat_minor": 2
}
