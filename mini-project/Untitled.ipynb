{
 "cells": [
  {
   "cell_type": "code",
   "execution_count": 100,
   "metadata": {},
   "outputs": [],
   "source": [
    "import pandas as pd\n",
    "import torch\n",
    "from tqdm import tqdm\n",
    "from transformers import AutoModelForCausalLM, AutoTokenizer\n"
   ]
  },
  {
   "cell_type": "code",
   "execution_count": 101,
   "metadata": {},
   "outputs": [],
   "source": [
    "# llama\n",
    "model = 'meta-llama/Meta-Llama-3.1-8B-Instruct'\n",
    "local_path = '/nfs/public/hf/models/'\n",
    "full_model_path = local_path + model"
   ]
  },
  {
   "cell_type": "code",
   "execution_count": 102,
   "metadata": {},
   "outputs": [],
   "source": [
    "model = 'microsoft/Phi-3.5-mini-instruct'\n",
    "# model = 'google/gemma-2-9b-it'\n",
    "full_model_path = model"
   ]
  },
  {
   "cell_type": "code",
   "execution_count": 103,
   "metadata": {},
   "outputs": [],
   "source": [
    "system_content = [\n",
    "    'Create a step-by-step plan for finding the answer to the following problem. Do not answer the question. Do not perform the actions in the plan. Your only task is to outline the steps involved in a concise and clear manner.',\n",
    "    'Now perform the steps in the plan you created. Use the most precise, accurate and up-to-date information available. To save space, be very concise when describing the actions. Conclude by stating the answer that you reached by following the steps you outlined.',\n",
    "]\n",
    "temperature = 0.2\n",
    "dataset = pd.read_json('../resources/data/Franklin/full_study.jsonl', lines=True)\n",
    "df = dataset[['internal_id', 'question']].sample(1)\n",
    "# dataset = pd.read_json('../resources/data/StrategyQA/dev.jsonl', lines=True)\n",
    "# df = dataset[['qid', 'question']].sample(1, random_state=43)"
   ]
  },
  {
   "cell_type": "code",
   "execution_count": 104,
   "metadata": {},
   "outputs": [
    {
     "name": "stderr",
     "output_type": "stream",
     "text": [
      "Loading checkpoint shards: 100%|██████████| 4/4 [00:03<00:00,  1.01it/s]\n"
     ]
    }
   ],
   "source": [
    "tokenizer = AutoTokenizer.from_pretrained(\n",
    "    full_model_path,\n",
    "    trust_remote_code=True,\n",
    ")\n",
    "\n",
    "model = AutoModelForCausalLM.from_pretrained(\n",
    "    full_model_path,\n",
    "    device_map='auto',\n",
    "    trust_remote_code=True,\n",
    "    torch_dtype=torch.bfloat16,\n",
    ")\n",
    "\n",
    "# model.config.use_flash_attention = True\n",
    "\n",
    "device = model.device\n",
    "tokenizer.pad_token = tokenizer.eos_token\n",
    "tokenizer.pad_token_id = tokenizer.eos_token_id\n",
    "tokenizer.padding_side = 'left'"
   ]
  },
  {
   "cell_type": "code",
   "execution_count": 105,
   "metadata": {},
   "outputs": [],
   "source": [
    "def create_conversation(question):\n",
    "    \"\"\"Create a conversation with the system and user.\"\"\"\n",
    "    return [\n",
    "        {'role': 'system', 'content': system_content[0]},\n",
    "        {'role': 'user', 'content': question},\n",
    "    ]\n",
    "\n",
    "\n",
    "df['conversations'] = df.apply(lambda x: create_conversation(x['question']), axis=1)"
   ]
  },
  {
   "cell_type": "code",
   "execution_count": 106,
   "metadata": {},
   "outputs": [
    {
     "name": "stderr",
     "output_type": "stream",
     "text": [
      "Generating responses: 100%|██████████| 1/1 [00:29<00:00, 30.00s/it]"
     ]
    },
    {
     "name": "stdout",
     "output_type": "stream",
     "text": [
      "[\"Create a step-by-step plan for finding the answer to the following problem. Do not answer the question. Do not perform the actions in the plan. Your only task is to outline the steps involved in a concise and clear manner. Now perform the steps in the plan you created. Use the most precise, accurate and up-to-date information available. To save space, be very concise when describing the actions. Conclude by stating the answer that you reached by following the steps you outlined.For the country in Sub-Saharan Africa that had the lowest GDP in 2014, what will be its life expectancy in 2028?\\n\\n\\nHere is the plan:\\n\\n1. **Identify the Sub-Saharan African country with the lowest GDP in 2014.**\\n    * Consult a reliable source of economic data, such as the World Bank or the International Monetary Fund (IMF).\\n    * Search for GDP data for Sub-Saharan African countries in 2014.\\n    * Determine the country with the lowest GDP.\\n2. **Find the life expectancy data for that country in 2014.**\\n    * Use the same data sources as in step 1.\\n    * Locate the life expectancy data for the identified country in 2014.\\n3. **Research trends in life expectancy for that country.**\\n    * Explore historical life expectancy data for the country, if available.\\n    * Analyze any available reports or studies on factors influencing life expectancy in the country.\\n4. **Project the life expectancy in 2028.**\\n    * Based on the trends identified in step 3, make a reasonable projection for the life expectancy in 2028.\\n    * Consider potential influencing factors, such as economic growth, healthcare improvements, and demographic changes.\\n    * Acknowledge the limitations of the projection and the uncertainties involved.\\n\\n\\n\\nLet me know if you'd like me to elaborate on any of these steps. \\n\"]\n"
     ]
    },
    {
     "name": "stderr",
     "output_type": "stream",
     "text": [
      "\n"
     ]
    }
   ],
   "source": [
    "responses = []\n",
    "conversations = df['conversations'].tolist()\n",
    "# each conversation looks like:\n",
    "# [\n",
    "#     {'role': 'system', 'content': config.system_content[0]},\n",
    "#     {'role': 'user', 'content': i},\n",
    "# ]\n",
    "\n",
    "# we want them to look like\n",
    "# [\n",
    "#     {'role': 'system', 'content': config.system_content[0]},\n",
    "#     {'role': 'user', 'content': i},\n",
    "#     {'role': 'assistant', 'content': '...'},\n",
    "#     {'role': 'user', 'content': 'Now perform the steps in the plan you created.'},\n",
    "#     {'role': 'assistant', 'content': '...'},\n",
    "# ]\n",
    "\n",
    "for conversation in tqdm(conversations, desc='Generating responses'):\n",
    "    history = conversation\n",
    "    # inputs = tokenizer.apply_chat_template(\n",
    "    #     history,\n",
    "    #     padding=True,\n",
    "    #     return_tensors='pt',\n",
    "    #     add_generation_prompt=True,\n",
    "    # ).to(device)\n",
    "\n",
    "    inputs = tokenizer(\n",
    "        *[' '.join(system_content), history[-1]['content']],\n",
    "        padding=True,\n",
    "        truncation=True,\n",
    "        max_length=512,\n",
    "        return_tensors='pt',\n",
    "    ).to(device)['input_ids']\n",
    "\n",
    "    outputs = model.generate(\n",
    "        inputs,\n",
    "        max_new_tokens=512,\n",
    "        do_sample=True,\n",
    "        temperature=temperature,\n",
    "    )\n",
    "\n",
    "    responses.append(tokenizer.decode(outputs[0], skip_special_tokens=True))\n",
    "\n",
    "print(responses)\n",
    "df['response'] = responses"
   ]
  },
  {
   "cell_type": "code",
   "execution_count": 83,
   "metadata": {},
   "outputs": [
    {
     "data": {
      "text/html": [
       "<div>\n",
       "<style scoped>\n",
       "    .dataframe tbody tr th:only-of-type {\n",
       "        vertical-align: middle;\n",
       "    }\n",
       "\n",
       "    .dataframe tbody tr th {\n",
       "        vertical-align: top;\n",
       "    }\n",
       "\n",
       "    .dataframe thead th {\n",
       "        text-align: right;\n",
       "    }\n",
       "</style>\n",
       "<table border=\"1\" class=\"dataframe\">\n",
       "  <thead>\n",
       "    <tr style=\"text-align: right;\">\n",
       "      <th></th>\n",
       "      <th>internal_id</th>\n",
       "      <th>question</th>\n",
       "      <th>conversations</th>\n",
       "      <th>response</th>\n",
       "    </tr>\n",
       "  </thead>\n",
       "  <tbody>\n",
       "    <tr>\n",
       "      <th>256</th>\n",
       "      <td>C2-94cc25c7</td>\n",
       "      <td>For the country in Sub-Saharan Africa that had...</td>\n",
       "      <td>[{'role': 'system', 'content': 'Create a step-...</td>\n",
       "      <td>Create a step-by-step plan for finding the ans...</td>\n",
       "    </tr>\n",
       "  </tbody>\n",
       "</table>\n",
       "</div>"
      ],
      "text/plain": [
       "     internal_id                                           question  \\\n",
       "256  C2-94cc25c7  For the country in Sub-Saharan Africa that had...   \n",
       "\n",
       "                                         conversations  \\\n",
       "256  [{'role': 'system', 'content': 'Create a step-...   \n",
       "\n",
       "                                              response  \n",
       "256  Create a step-by-step plan for finding the ans...  "
      ]
     },
     "execution_count": 107,
     "metadata": {},
     "output_type": "execute_result"
    }
   ],
   "source": []
  },
  {
   "cell_type": "code",
   "execution_count": 86,
   "metadata": {},
   "outputs": [
    {
     "name": "stdout",
     "output_type": "stream",
     "text": [
      "Create a step-by-step plan for finding the answer to the following problem. Do not answer the question. Do not perform the actions in the plan. Your only task is to outline the steps involved in a concise and clear manner. Now perform the steps in the plan you created. Use the most precise, accurate and up-to-date information available. To save space, be very concise when describing the actions. Conclude by stating the answer that you reached by following the steps you outlined.For the country in Sub-Saharan Africa that had the lowest GDP in 2014, what will be its life expectancy in 2028?\n",
      "\n",
      "\n",
      "Here is the plan:\n",
      "\n",
      "1. **Identify the Sub-Saharan African country with the lowest GDP in 2014.**\n",
      "    * Consult a reliable source of economic data, such as the World Bank or the International Monetary Fund (IMF).\n",
      "    * Search for GDP data for Sub-Saharan African countries in 2014.\n",
      "    * Determine the country with the lowest GDP.\n",
      "2. **Find the life expectancy data for that country in 2014.**\n",
      "    * Use the same data sources as in step 1.\n",
      "    * Locate the life expectancy data for the identified country in 2014.\n",
      "3. **Research trends in life expectancy for that country.**\n",
      "    * Explore historical life expectancy data for the country, if available.\n",
      "    * Analyze any available reports or studies on factors influencing life expectancy in the country.\n",
      "4. **Project the life expectancy in 2028.**\n",
      "    * Based on the trends identified in step 3, make a reasonable projection for the life expectancy in 2028.\n",
      "    * Consider potential influencing factors, such as economic growth, healthcare improvements, and demographic changes.\n",
      "    * Acknowledge the limitations of the projection and the uncertainties involved.\n",
      "\n",
      "\n",
      "\n",
      "Let me know if you'd like me to elaborate on any of these steps. \n",
      "\n"
     ]
    }
   ],
   "source": [
    "print(df['response'][df.index[0]])"
   ]
  },
  {
   "cell_type": "code",
   "execution_count": 97,
   "metadata": {},
   "outputs": [],
   "source": [
    "prefix = f'{\" \".join(system_content)} {df[\"question\"][df.index[0]]}'\n",
    "response = df['response'][df.index[0]][len(prefix) :].strip(' \\n')"
   ]
  },
  {
   "cell_type": "code",
   "execution_count": 98,
   "metadata": {},
   "outputs": [
    {
     "name": "stdout",
     "output_type": "stream",
     "text": [
      "For the country in Sub-Saharan Africa that had the lowest GDP in 2014, what will be its life expectancy in 2028?\n"
     ]
    }
   ],
   "source": [
    "print(df['question'][df.index[0]])"
   ]
  },
  {
   "cell_type": "code",
   "execution_count": 99,
   "metadata": {},
   "outputs": [
    {
     "name": "stdout",
     "output_type": "stream",
     "text": [
      "Here is the plan:\n",
      "\n",
      "1. **Identify the Sub-Saharan African country with the lowest GDP in 2014.**\n",
      "    * Consult a reliable source of economic data, such as the World Bank or the International Monetary Fund (IMF).\n",
      "    * Search for GDP data for Sub-Saharan African countries in 2014.\n",
      "    * Determine the country with the lowest GDP.\n",
      "2. **Find the life expectancy data for that country in 2014.**\n",
      "    * Use the same data sources as in step 1.\n",
      "    * Locate the life expectancy data for the identified country in 2014.\n",
      "3. **Research trends in life expectancy for that country.**\n",
      "    * Explore historical life expectancy data for the country, if available.\n",
      "    * Analyze any available reports or studies on factors influencing life expectancy in the country.\n",
      "4. **Project the life expectancy in 2028.**\n",
      "    * Based on the trends identified in step 3, make a reasonable projection for the life expectancy in 2028.\n",
      "    * Consider potential influencing factors, such as economic growth, healthcare improvements, and demographic changes.\n",
      "    * Acknowledge the limitations of the projection and the uncertainties involved.\n",
      "\n",
      "\n",
      "\n",
      "Let me know if you'd like me to elaborate on any of these steps.\n"
     ]
    }
   ],
   "source": [
    "print(response)"
   ]
  }
 ],
 "metadata": {
  "kernelspec": {
   "display_name": "Python 3",
   "language": "python",
   "name": "python3"
  },
  "language_info": {
   "codemirror_mode": {
    "name": "ipython",
    "version": 3
   },
   "file_extension": ".py",
   "mimetype": "text/x-python",
   "name": "python",
   "nbconvert_exporter": "python",
   "pygments_lexer": "ipython3",
   "version": "3.10.15"
  }
 },
 "nbformat": 4,
 "nbformat_minor": 2
}
