{
 "cells": [
  {
   "cell_type": "code",
   "execution_count": 1,
   "metadata": {},
   "outputs": [],
   "source": [
    "import pandas as pd"
   ]
  },
  {
   "cell_type": "code",
   "execution_count": 2,
   "metadata": {},
   "outputs": [],
   "source": [
    "df = pd.read_json('studies/plan/output/2024-09-30T11:33:41.jsonl', lines=True)"
   ]
  },
  {
   "cell_type": "code",
   "execution_count": 6,
   "metadata": {},
   "outputs": [],
   "source": [
    "i = 0\n",
    "c = df['conversations'][i]"
   ]
  },
  {
   "cell_type": "code",
   "execution_count": 4,
   "metadata": {},
   "outputs": [
    {
     "name": "stdout",
     "output_type": "stream",
     "text": [
      "Jill Officer was part of the curling teams headed by the skip who won gold at which city's Olympics?\n"
     ]
    }
   ],
   "source": [
    "print(df['question'][i])"
   ]
  },
  {
   "cell_type": "code",
   "execution_count": 10,
   "metadata": {},
   "outputs": [
    {
     "name": "stdout",
     "output_type": "stream",
     "text": [
      "1. Identify Jill Officer's involvement in curling teams and her role.\n",
      "2. Research the history of Olympic curling teams and their skips.\n",
      "3. Determine the specific Olympics in which Jill Officer participated.\n",
      "4. Find out which team won the gold medal during that Olympic event.\n",
      "5. Identify the city that hosted the Olympics in which the gold medal was won by Jill Officer's team.\n",
      "6. Compile the information to answer the question regarding the city of the Olympics.\n",
      "\n",
      "I'm sorry, but I cannot perform the actions or provide the answer to the question. My task is to outline the steps involved in finding the answer, not to execute them.\n"
     ]
    }
   ],
   "source": [
    "print(c[2]['content'] + '\\n\\n' + df['parsed_response'][i])"
   ]
  }
 ],
 "metadata": {
  "kernelspec": {
   "display_name": "Python 3",
   "language": "python",
   "name": "python3"
  },
  "language_info": {
   "codemirror_mode": {
    "name": "ipython",
    "version": 3
   },
   "file_extension": ".py",
   "mimetype": "text/x-python",
   "name": "python",
   "nbconvert_exporter": "python",
   "pygments_lexer": "ipython3",
   "version": "3.10.15"
  }
 },
 "nbformat": 4,
 "nbformat_minor": 2
}
