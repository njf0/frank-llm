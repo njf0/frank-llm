{
 "cells": [
  {
   "cell_type": "code",
   "execution_count": 51,
   "metadata": {},
   "outputs": [],
   "source": [
    "from pathlib import Path\n",
    "\n",
    "import pandas as pd"
   ]
  },
  {
   "cell_type": "code",
   "execution_count": 52,
   "metadata": {},
   "outputs": [],
   "source": [
    "log_path = Path('studies/plan/output/log.jsonl')"
   ]
  },
  {
   "cell_type": "code",
   "execution_count": 53,
   "metadata": {},
   "outputs": [],
   "source": [
    "log = pd.read_json(log_path, lines=True)"
   ]
  },
  {
   "cell_type": "code",
   "execution_count": 54,
   "metadata": {},
   "outputs": [],
   "source": [
    "df = pd.read_json('studies/plan/output/2024-09-30T11:01:03.jsonl', lines=True)"
   ]
  },
  {
   "cell_type": "code",
   "execution_count": 55,
   "metadata": {},
   "outputs": [
    {
     "name": "stdout",
     "output_type": "stream",
     "text": [
      "[{'role': 'user', 'content': 'Create a step-by-step plan for finding the answer to the following problem. Do not answer the question. Do not perform the actions in the plan. Your only task is to outline the steps involved in a concise and clear manner. Which country will have the lower energy consumption in 2029: Guernsey or Latvia?'}, {'role': 'assistant', 'content': 'Create a step-by-step plan for finding the answer to the following problem. Do not answer the question. Do not perform the actions in the plan. Your only task is to outline the steps involved in a concise and clear manner. Which country will have the lower energy consumption in 2029: Guernsey or Latvia? 1. Research and gather data on the current energy consumption levels of Guernsey and Latvia.\\n2. Identify the sources of energy consumption data for both countries, ensuring the data is reliable and up-to-date.\\n3. Analyze the trends in energy consumption for both countries over the past years to understand their growth patterns.\\n4. Investigate any significant changes or developments in the energy sector of both countries that may impact future energy consumption.\\n5. Examine the energy policies and initiatives implemented by Guernsey and Latvia to promote energy efficiency and conservation.\\n6. Evaluate the potential impact of these policies and initiatives on future energy consumption in both countries.\\n7. Consider external factors that may influence energy consumption, such as economic growth, population changes, and technological advancements.\\n8. Project future energy consumption for Guernsey and Latvia based on the gathered data, trends, policies, and external factors.\\n9. Compare the projected energy consumption levels for both countries in 2029.\\n10. Determine which country is expected to have lower energy consumption in 2029 based on the comparison.\\n11. Document the findings and provide a clear conclusion on which country will have lower energy consumption in 2029.'}, {'role': 'user', 'content': 'Now perform the steps in the plan you created. Use the most precise, accurate and up-to-date information available. To save space, be concise when describing the actions. Conclude by stating the answer that you reached by following the steps you outlined.'}, {'role': 'assistant', 'content': 'Create a step-by-step plan for finding the answer to the following problem. Do not answer the question. Do not perform the actions in the plan. Your only task is to outline the steps involved in a concise and clear manner. Which country will have the lower energy consumption in 2029: Guernsey or Latvia? Create a step-by-step plan for finding the answer to the following problem. Do not answer the question. Do not perform the actions in the plan. Your only task is to outline the steps involved in a concise and clear manner. Which country will have the lower energy consumption in 2029: Guernsey or Latvia? 1. Research and gather data on the current energy consumption levels of Guernsey and Latvia.\\n2. Identify the sources of energy consumption data for both countries, ensuring the data is reliable and up-to-date.\\n3. Analyze the trends in energy consumption for both countries over the past years to understand their growth patterns.\\n4. Investigate any significant changes or developments in the energy sector of both countries that may impact future energy consumption.\\n5. Examine the energy policies and initiatives implemented by Guernsey and Latvia to promote energy efficiency and conservation.\\n6. Evaluate the potential impact of these policies and initiatives on future energy consumption in both countries.\\n7. Consider external factors that may influence energy consumption, such as economic growth, population changes, and technological advancements.\\n8. Project future energy consumption for Guernsey and Latvia based on the gathered data, trends, policies, and external factors.\\n9. Compare the projected energy consumption levels for both countries in 2029.\\n10. Determine which country is expected to have lower energy consumption in 2029 based on the comparison.\\n11. Document the findings and provide a clear conclusion on which country will have lower energy consumption in 2029. Now perform the steps in the plan you created. Use the most precise, accurate and up-to-date information available. To save space, be concise when describing the actions. Conclude by stating the answer that you reached by following the steps you outlined. 1. Researched and gathered data on current energy consumption levels of Guernsey and Latvia from sources like the International Energy Agency (IEA), World Bank, and respective national energy agencies.\\n2. Ensured data reliability and currency by cross-referencing multiple sources and focusing on the most recent years available.\\n3. Analyzed past trends in energy consumption for both countries using statistical tools and graphical representations.\\n4. Investigated significant changes/developments in the energy sector, such as renewable energy projects, energy efficiency initiatives, and shifts in energy sources.\\n5. Examined energy policies and initiatives in Guernsey and Latvia, including government reports, policy documents, and news articles.\\n6. Evaluated the potential impact of these policies and initiatives on future energy consumption, considering factors like implementation progress and public reception.\\n7. Considered external factors like economic growth rates, population changes, and technological advancements in energy efficiency and renewable energy.\\n8. Projected future energy consumption for Guernsey and Latvia using statistical models and considering the gathered data, trends, policies, and external factors.\\n9. Compared projected energy consumption levels for both countries in 2029, using a comparative analysis approach.\\n10. Determined that, based on the gathered data and analysis, Guernsey is expected to have lower energy consumption in 2029 compared to Latvia.\\n11. Concluded that Guernsey will have lower energy consumption in 2029, considering the current trends, policies, and external factors affecting both countries.\\n\\nAnswer: Guernsey is expected to have lower energy consumption in 2029 compared to Latvia.'}]\n"
     ]
    }
   ],
   "source": [
    "i = 0\n",
    "print(df['conversations'][i])"
   ]
  },
  {
   "cell_type": "code",
   "execution_count": 56,
   "metadata": {},
   "outputs": [
    {
     "name": "stdout",
     "output_type": "stream",
     "text": [
      "1. Researched and gathered data on current energy consumption levels of Guernsey and Latvia from sources like the International Energy Agency (IEA), World Bank, and respective national energy agencies.\n",
      "2. Ensured data reliability and currency by cross-referencing multiple sources and focusing on the most recent years available.\n",
      "3. Analyzed past trends in energy consumption for both countries using statistical tools and graphical representations.\n",
      "4. Investigated significant changes/developments in the energy sector, such as renewable energy projects, energy efficiency initiatives, and shifts in energy sources.\n",
      "5. Examined energy policies and initiatives in Guernsey and Latvia, including government reports, policy documents, and news articles.\n",
      "6. Evaluated the potential impact of these policies and initiatives on future energy consumption, considering factors like implementation progress and public reception.\n",
      "7. Considered external factors like economic growth rates, population changes, and technological advancements in energy efficiency and renewable energy.\n",
      "8. Projected future energy consumption for Guernsey and Latvia using statistical models and considering the gathered data, trends, policies, and external factors.\n",
      "9. Compared projected energy consumption levels for both countries in 2029, using a comparative analysis approach.\n",
      "10. Determined that, based on the gathered data and analysis, Guernsey is expected to have lower energy consumption in 2029 compared to Latvia.\n",
      "11. Concluded that Guernsey will have lower energy consumption in 2029, considering the current trends, policies, and external factors affecting both countries.\n",
      "\n",
      "Answer: Guernsey is expected to have lower energy consumption in 2029 compared to Latvia.\n"
     ]
    }
   ],
   "source": [
    "print(df['parsed_response'][i])"
   ]
  }
 ],
 "metadata": {
  "kernelspec": {
   "display_name": "Python 3",
   "language": "python",
   "name": "python3"
  },
  "language_info": {
   "codemirror_mode": {
    "name": "ipython",
    "version": 3
   },
   "file_extension": ".py",
   "mimetype": "text/x-python",
   "name": "python",
   "nbconvert_exporter": "python",
   "pygments_lexer": "ipython3",
   "version": "3.10.12"
  }
 },
 "nbformat": 4,
 "nbformat_minor": 2
}
