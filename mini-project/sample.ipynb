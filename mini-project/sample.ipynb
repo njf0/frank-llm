{
 "cells": [
  {
   "cell_type": "code",
   "execution_count": 3,
   "metadata": {},
   "outputs": [],
   "source": [
    "import pandas as pd"
   ]
  },
  {
   "cell_type": "code",
   "execution_count": 4,
   "metadata": {},
   "outputs": [],
   "source": [
    "df = pd.read_json('studies/plan/output/2024-10-01T15:20:39.jsonl', lines=True)"
   ]
  },
  {
   "cell_type": "code",
   "execution_count": 5,
   "metadata": {},
   "outputs": [],
   "source": [
    "i = 0\n",
    "c = df['conversations'][i]"
   ]
  },
  {
   "cell_type": "code",
   "execution_count": 6,
   "metadata": {},
   "outputs": [
    {
     "name": "stdout",
     "output_type": "stream",
     "text": [
      "Which country will have the lower energy consumption in 2029: Guernsey or Latvia?\n"
     ]
    }
   ],
   "source": [
    "print(df['question'][i])"
   ]
  },
  {
   "cell_type": "code",
   "execution_count": 8,
   "metadata": {},
   "outputs": [
    {
     "data": {
      "text/html": [
       "<div>\n",
       "<style scoped>\n",
       "    .dataframe tbody tr th:only-of-type {\n",
       "        vertical-align: middle;\n",
       "    }\n",
       "\n",
       "    .dataframe tbody tr th {\n",
       "        vertical-align: top;\n",
       "    }\n",
       "\n",
       "    .dataframe thead th {\n",
       "        text-align: right;\n",
       "    }\n",
       "</style>\n",
       "<table border=\"1\" class=\"dataframe\">\n",
       "  <thead>\n",
       "    <tr style=\"text-align: right;\">\n",
       "      <th></th>\n",
       "      <th>internal_id</th>\n",
       "      <th>question</th>\n",
       "      <th>conversations</th>\n",
       "      <th>response</th>\n",
       "      <th>history</th>\n",
       "      <th>parsed_response</th>\n",
       "    </tr>\n",
       "  </thead>\n",
       "  <tbody>\n",
       "    <tr>\n",
       "      <th>0</th>\n",
       "      <td>D2-ae8ce0a9</td>\n",
       "      <td>Which country will have the lower energy consu...</td>\n",
       "      <td>[{'role': 'system', 'content': 'Create a step-...</td>\n",
       "      <td>Create a step-by-step plan for finding the ans...</td>\n",
       "      <td>[{'role': 'system', 'content': 'Create a step-...</td>\n",
       "      <td></td>\n",
       "    </tr>\n",
       "    <tr>\n",
       "      <th>1</th>\n",
       "      <td>B2-0afb77b3</td>\n",
       "      <td>Which country in Northern Europe had the highe...</td>\n",
       "      <td>[{'role': 'system', 'content': 'Create a step-...</td>\n",
       "      <td>Create a step-by-step plan for finding the ans...</td>\n",
       "      <td>[{'role': 'system', 'content': 'Create a step-...</td>\n",
       "      <td></td>\n",
       "    </tr>\n",
       "    <tr>\n",
       "      <th>2</th>\n",
       "      <td>B2-265fe873</td>\n",
       "      <td>Which country in Eastern Asia had the highest ...</td>\n",
       "      <td>[{'role': 'system', 'content': 'Create a step-...</td>\n",
       "      <td>Create a step-by-step plan for finding the ans...</td>\n",
       "      <td>[{'role': 'system', 'content': 'Create a step-...</td>\n",
       "      <td></td>\n",
       "    </tr>\n",
       "    <tr>\n",
       "      <th>3</th>\n",
       "      <td>C2-a7dfe40d</td>\n",
       "      <td>For the country in Micronesia that had the low...</td>\n",
       "      <td>[{'role': 'system', 'content': 'Create a step-...</td>\n",
       "      <td>Create a step-by-step plan for finding the ans...</td>\n",
       "      <td>[{'role': 'system', 'content': 'Create a step-...</td>\n",
       "      <td></td>\n",
       "    </tr>\n",
       "  </tbody>\n",
       "</table>\n",
       "</div>"
      ],
      "text/plain": [
       "   internal_id                                           question  \\\n",
       "0  D2-ae8ce0a9  Which country will have the lower energy consu...   \n",
       "1  B2-0afb77b3  Which country in Northern Europe had the highe...   \n",
       "2  B2-265fe873  Which country in Eastern Asia had the highest ...   \n",
       "3  C2-a7dfe40d  For the country in Micronesia that had the low...   \n",
       "\n",
       "                                       conversations  \\\n",
       "0  [{'role': 'system', 'content': 'Create a step-...   \n",
       "1  [{'role': 'system', 'content': 'Create a step-...   \n",
       "2  [{'role': 'system', 'content': 'Create a step-...   \n",
       "3  [{'role': 'system', 'content': 'Create a step-...   \n",
       "\n",
       "                                            response  \\\n",
       "0  Create a step-by-step plan for finding the ans...   \n",
       "1  Create a step-by-step plan for finding the ans...   \n",
       "2  Create a step-by-step plan for finding the ans...   \n",
       "3  Create a step-by-step plan for finding the ans...   \n",
       "\n",
       "                                             history parsed_response  \n",
       "0  [{'role': 'system', 'content': 'Create a step-...                  \n",
       "1  [{'role': 'system', 'content': 'Create a step-...                  \n",
       "2  [{'role': 'system', 'content': 'Create a step-...                  \n",
       "3  [{'role': 'system', 'content': 'Create a step-...                  "
      ]
     },
     "execution_count": 8,
     "metadata": {},
     "output_type": "execute_result"
    }
   ],
   "source": [
    "df"
   ]
  }
 ],
 "metadata": {
  "kernelspec": {
   "display_name": "Python 3",
   "language": "python",
   "name": "python3"
  },
  "language_info": {
   "codemirror_mode": {
    "name": "ipython",
    "version": 3
   },
   "file_extension": ".py",
   "mimetype": "text/x-python",
   "name": "python",
   "nbconvert_exporter": "python",
   "pygments_lexer": "ipython3",
   "version": "3.10.12"
  }
 },
 "nbformat": 4,
 "nbformat_minor": 2
}
