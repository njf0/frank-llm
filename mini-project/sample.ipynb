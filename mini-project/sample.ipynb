{
 "cells": [
  {
   "cell_type": "code",
   "execution_count": 1,
   "metadata": {},
   "outputs": [],
   "source": [
    "from pathlib import Path\n",
    "\n",
    "import pandas as pd"
   ]
  },
  {
   "cell_type": "code",
   "execution_count": 2,
   "metadata": {},
   "outputs": [],
   "source": [
    "log_path = Path('studies/plan/output/log.jsonl')"
   ]
  },
  {
   "cell_type": "code",
   "execution_count": 3,
   "metadata": {},
   "outputs": [],
   "source": [
    "log = pd.read_json(log_path, lines=True)"
   ]
  },
  {
   "cell_type": "code",
   "execution_count": 4,
   "metadata": {},
   "outputs": [],
   "source": [
    "df = pd.read_json('studies/plan/output/2024-09-26T16:51:52.jsonl', lines=True)"
   ]
  },
  {
   "cell_type": "code",
   "execution_count": 15,
   "metadata": {},
   "outputs": [
    {
     "name": "stdout",
     "output_type": "stream",
     "text": [
      "asoning for future reference and validation. Now perform the steps in the plan you created. Use the most precise, accurate and up-to-date information available. To save space, be very concise when describing the actions. Conclude by stating the answer that you reached by following the steps you outlined. 1. Researched and compiled data on current energy consumption from reliable sources: World Bank, International Energy Agency (IEA), and national energy statistics.\n",
      "2. Data confirmed to be up-to-date as of 2023.\n",
      "3. Analyzed historical energy consumption trends for Guernsey and Latvia, noting steady growth in both countries.\n",
      "4. Factors influencing energy consumption: Guernsey's small population and economy, Latvia's larger population and industrial growth.\n",
      "5. Projected future trends: Guernsey's energy consumption expected to stabilize due to limited growth, Latvia's consumption likely to increase with economic expansion.\n",
      "6. Considered external factors: Global energy prices, climate change policies, and geopolitical events affecting energy markets.\n",
      "7. Compared projections: Guernsey's energy consumption lower than Latvia's in 2029.\n",
      "8. Evaluated reliability: Projections based on established trends and considered uncertainties.\n",
      "9. Conclusion: Guernsey is projected to have lower energy consumption in 2029 compared to Latvia.\n",
      "\n",
      "Answer: Guernsey is projected to have lower energy consumption in 2029 compared to Latvia.\n"
     ]
    }
   ],
   "source": [
    "i = 0\n",
    "response = df['response'][i]\n",
    "prefix = response[-3]['content'] + ' ' + response[-2]['content']\n",
    "print(response[-1]['content'][len(prefix) :])\n",
    "# print(df['response'][i][-1]['content'])"
   ]
  },
  {
   "cell_type": "code",
   "execution_count": 6,
   "metadata": {},
   "outputs": [
    {
     "name": "stdout",
     "output_type": "stream",
     "text": [
      "ine the factors influencing energy consumption in both countries, such as population growth, economic development, technological advancements, and energy policies.\n",
      "5. Project future energy consumption trends for Guernsey and Latvia based on the identified factors.\n",
      "6. Consider external factors that could impact energy consumption, such as global energy prices, climate change, and geopolitical events.\n",
      "7. Compare the projected energy consumption for Guernsey and Latvia in 2029.\n",
      "8. Evaluate the reliability of the projections and consider potential uncertainties or variables that could affect the outcome.\n",
      "9. Determine which country is projected to have lower energy consumption in 2029 based on the analysis.\n",
      "10. Document the findings and reasoning for future reference and validation. Now perform the steps in the plan you created. Use the most precise, accurate and up-to-date information available. To save space, be very concise when describing the actions. Conclude by stating the answer that you reached by following the steps you outlined. 1. Researched and compiled data on current energy consumption from reliable sources: World Bank, International Energy Agency (IEA), and national energy statistics.\n",
      "2. Data confirmed to be up-to-date as of 2023.\n",
      "3. Analyzed historical energy consumption trends for Guernsey and Latvia, noting steady growth in both countries.\n",
      "4. Factors influencing energy consumption: Guernsey's small population and economy, Latvia's larger population and industrial growth.\n",
      "5. Projected future trends: Guernsey's energy consumption expected to stabilize due to limited growth, Latvia's consumption likely to increase with economic expansion.\n",
      "6. Considered external factors: Global energy prices, climate change policies, and geopolitical events affecting energy markets.\n",
      "7. Compared projections: Guernsey's energy consumption lower than Latvia's in 2029.\n",
      "8. Evaluated reliability: Projections based on established trends and considered uncertainties.\n",
      "9. Conclusion: Guernsey is projected to have lower energy consumption in 2029 compared to Latvia.\n",
      "\n",
      "Answer: Guernsey is projected to have lower energy consumption in 2029 compared to Latvia.\n"
     ]
    }
   ],
   "source": [
    "print(df['parsed_response'][i])"
   ]
  }
 ],
 "metadata": {
  "kernelspec": {
   "display_name": "Python 3",
   "language": "python",
   "name": "python3"
  },
  "language_info": {
   "codemirror_mode": {
    "name": "ipython",
    "version": 3
   },
   "file_extension": ".py",
   "mimetype": "text/x-python",
   "name": "python",
   "nbconvert_exporter": "python",
   "pygments_lexer": "ipython3",
   "version": "3.10.12"
  }
 },
 "nbformat": 4,
 "nbformat_minor": 2
}
