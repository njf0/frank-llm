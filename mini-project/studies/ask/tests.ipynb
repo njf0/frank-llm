{
 "cells": [
  {
   "cell_type": "code",
   "execution_count": 21,
   "metadata": {},
   "outputs": [],
   "source": [
    "from pathlib import Path\n",
    "\n",
    "from markdown import markdown\n",
    "\n",
    "PWD = Path.cwd()"
   ]
  },
  {
   "cell_type": "code",
   "execution_count": 22,
   "metadata": {},
   "outputs": [],
   "source": [
    "agree = {\n",
    "    'internal_id': 'D2-b3d6ba5a',\n",
    "    'question': 'Which country will have the lower population density in 2030: Singapore or the Faroe Islands?',\n",
    "    'messages': [\n",
    "        {'role': 'system', 'content': 'Answer the following question.'},\n",
    "        {\n",
    "            'role': 'user',\n",
    "            'content': 'Which country will have the lower population density in 2030: Singapore or the Faroe Islands?',\n",
    "        },\n",
    "    ],\n",
    "    'response': 'system\\n\\nCutting Knowledge Date: December 2023\\nToday Date: 26 Jul 2024\\n\\nAnswer the following question.user\\n\\nWhich country will have the lower population density in 2030: Singapore or the Faroe Islands?assistant\\n\\nTo determine which country will have the lower population density in 2030, we need to compare the projected population and land area of both countries.\\n\\nThe Faroe Islands are a self-governing region within the Kingdom of Denmark, with a total area of approximately 1,399 km\\u00b2 (540 sq mi). \\n\\nSingapore has a total area of approximately 720 km\\u00b2 (278 sq mi).\\n\\nAccording to the United Nations Department of Economic and Social Affairs, the estimated population of the Faroe Islands in 2030 is around 53,000 people.\\n\\nThe estimated population of Singapore in 2030 is around 5.8 million people.\\n\\nUsing the estimated population and land area, we can calculate the population density for both countries in 2030:\\n\\nPopulation density of the Faroe Islands in 2030: 53,000 people \\\\/ 1,399 km\\u00b2 \\u2248 38 people\\\\/km\\u00b2\\nPopulation density of Singapore in 2030: 5,800,000 people \\\\/ 720 km\\u00b2 \\u2248 8,056 people\\\\/km\\u00b2\\n\\nBased on these calculations, the Faroe Islands will have a lower population density in 2030 compared to Singapore.',\n",
    "    'parsed_response': 'To determine which country will have the lower population density in 2030, we need to compare the projected population and land area of both countries.\\n\\nThe Faroe Islands are a self-governing region within the Kingdom of Denmark, with a total area of approximately 1,399 km\\u00b2 (540 sq mi). \\n\\nSingapore has a total area of approximately 720 km\\u00b2 (278 sq mi).\\n\\nAccording to the United Nations Department of Economic and Social Affairs, the estimated population of the Faroe Islands in 2030 is around 53,000 people.\\n\\nThe estimated population of Singapore in 2030 is around 5.8 million people.\\n\\nUsing the estimated population and land area, we can calculate the population density for both countries in 2030:\\n\\nPopulation density of the Faroe Islands in 2030: 53,000 people \\\\/ 1,399 km\\u00b2 \\u2248 38 people\\\\/km\\u00b2\\nPopulation density of Singapore in 2030: 5,800,000 people \\\\/ 720 km\\u00b2 \\u2248 8,056 people\\\\/km\\u00b2\\n\\nBased on these calculations, the Faroe Islands will have a lower population density in 2030 compared to Singapore.',\n",
    "}\n",
    "\n",
    "\n",
    "def insert_ac(df, parsed_responses, ac_text):\n",
    "    \"\"\"Insert attention check into a random position in sentences of row['parsed_response'].\"\"\"\n",
    "    sentences = parsed_responses.split('\\n')\n",
    "    random_index = random.randint(0, len(sentences) - 1)\n",
    "    sentences.insert(random_index, ac_text)\n",
    "    return '\\n'.join(sentences)\n",
    "\n",
    "\n",
    "def form(row):\n",
    "    row['html'] = markdown(row['parsed_response'])\n",
    "    return f'<p><em>{row[\"question\"]}</em></p><hr>{row[\"html\"]}'"
   ]
  },
  {
   "cell_type": "code",
   "execution_count": 25,
   "metadata": {},
   "outputs": [
    {
     "data": {
      "text/plain": [
       "'<p><em>Which country will have the lower population density in 2030: Singapore or the Faroe Islands?</em></p><hr><p>To determine which country will have the lower population density in 2030, we need to compare the projected population and land area of both countries.</p>\\n<p>The Faroe Islands are a self-governing region within the Kingdom of Denmark, with a total area of approximately 1,399 km² (540 sq mi). </p>\\n<p>Singapore has a total area of approximately 720 km² (278 sq mi).</p>\\n<p>According to the United Nations Department of Economic and Social Affairs, the estimated population of the Faroe Islands in 2030 is around 53,000 people.</p>\\n<p>The estimated population of Singapore in 2030 is around 5.8 million people.</p>\\n<p>Using the estimated population and land area, we can calculate the population density for both countries in 2030:</p>\\n<p>Population density of the Faroe Islands in 2030: 53,000 people \\\\/ 1,399 km² ≈ 38 people\\\\/km²\\nPopulation density of Singapore in 2030: 5,800,000 people \\\\/ 720 km² ≈ 8,056 people\\\\/km²</p>\\n<p>Based on these calculations, the Faroe Islands will have a lower population density in 2030 compared to Singapore.</p>'"
      ]
     },
     "execution_count": 25,
     "metadata": {},
     "output_type": "execute_result"
    }
   ],
   "source": [
    "form(agree)"
   ]
  },
  {
   "cell_type": "code",
   "execution_count": 26,
   "metadata": {},
   "outputs": [
    {
     "data": {
      "text/plain": [
       "'<p><em>The vending machine fails to drop a snack when it’s purchased one in six times. One in ten times, it will accidentally drop two snacks. The rest of the time, it drops the purchased snack. If thirty people have used the vending machine once each to purchase a snack, how many snacks has the vending machine dropped?</em></p><hr><h2>Step 1: Calculate the number of times the vending machine fails to drop a snack</h2>\\n<p>The vending machine fails to drop a snack one in six times. So, out of 30 people, it will fail to drop a snack 30 \\\\/ 6 = 5 times.</p>\\n<h2>Step 2: Calculate the number of times the vending machine drops two snacks</h2>\\n<p>The vending machine will drop two snacks one in ten times. So, out of 30 people, it will drop two snacks 30 \\\\/ 10 = 3 times.</p>\\n<h2>Step 3: Calculate the number of times the vending machine drops one snack</h2>\\n<p>The vending machine will drop one snack for the remaining times, which is 30 - (5 + 3) = 22 times.</p>\\n<h2>Step 4: Calculate the total number of snacks dropped by the vending machine</h2>\\n<p>The vending machine will drop 2 snacks 3 times, so it will drop 2 * 3 = 6 snacks. It will drop 1 snack 22 times, so it will drop 1 * 22 = 22 snacks. The total number of snacks dropped is 6 + 22 = 28.</p>\\n<p>The final answer is: $\\\\boxed{28}$</p>'"
      ]
     },
     "execution_count": 26,
     "metadata": {},
     "output_type": "execute_result"
    }
   ],
   "source": [
    "disagree = {\n",
    "    'question': 'The vending machine fails to drop a snack when it\\u2019s purchased one in six times. One in ten times, it will accidentally drop two snacks. The rest of the time, it drops the purchased snack. If thirty people have used the vending machine once each to purchase a snack, how many snacks has the vending machine dropped?',\n",
    "    'messages': [\n",
    "        {'role': 'system', 'content': 'Answer the following question.'},\n",
    "        {\n",
    "            'role': 'user',\n",
    "            'content': 'The vending machine fails to drop a snack when it\\u2019s purchased one in six times. One in ten times, it will accidentally drop two snacks. The rest of the time, it drops the purchased snack. If thirty people have used the vending machine once each to purchase a snack, how many snacks has the vending machine dropped?',\n",
    "        },\n",
    "    ],\n",
    "    'response': 'system\\n\\nCutting Knowledge Date: December 2023\\nToday Date: 26 Jul 2024\\n\\nAnswer the following question.user\\n\\nThe vending machine fails to drop a snack when it\\u2019s purchased one in six times. One in ten times, it will accidentally drop two snacks. The rest of the time, it drops the purchased snack. If thirty people have used the vending machine once each to purchase a snack, how many snacks has the vending machine dropped?assistant\\n\\n## Step 1: Calculate the number of times the vending machine fails to drop a snack\\nThe vending machine fails to drop a snack one in six times. So, out of 30 people, it will fail to drop a snack 30 \\\\/ 6 = 5 times.\\n\\n## Step 2: Calculate the number of times the vending machine drops two snacks\\nThe vending machine will drop two snacks one in ten times. So, out of 30 people, it will drop two snacks 30 \\\\/ 10 = 3 times.\\n\\n## Step 3: Calculate the number of times the vending machine drops one snack\\nThe vending machine will drop one snack for the remaining times, which is 30 - (5 + 3) = 22 times.\\n\\n## Step 4: Calculate the total number of snacks dropped by the vending machine\\nThe vending machine will drop 2 snacks 3 times, so it will drop 2 * 3 = 6 snacks. It will drop 1 snack 22 times, so it will drop 1 * 22 = 22 snacks. The total number of snacks dropped is 6 + 22 = 28.\\n\\nThe final answer is: $\\\\boxed{28}$',\n",
    "    'parsed_response': '## Step 1: Calculate the number of times the vending machine fails to drop a snack\\nThe vending machine fails to drop a snack one in six times. So, out of 30 people, it will fail to drop a snack 30 \\\\/ 6 = 5 times.\\n\\n## Step 2: Calculate the number of times the vending machine drops two snacks\\nThe vending machine will drop two snacks one in ten times. So, out of 30 people, it will drop two snacks 30 \\\\/ 10 = 3 times.\\n\\n## Step 3: Calculate the number of times the vending machine drops one snack\\nThe vending machine will drop one snack for the remaining times, which is 30 - (5 + 3) = 22 times.\\n\\n## Step 4: Calculate the total number of snacks dropped by the vending machine\\nThe vending machine will drop 2 snacks 3 times, so it will drop 2 * 3 = 6 snacks. It will drop 1 snack 22 times, so it will drop 1 * 22 = 22 snacks. The total number of snacks dropped is 6 + 22 = 28.\\n\\nThe final answer is: $\\\\boxed{28}$',\n",
    "}\n",
    "\n",
    "form(disagree)"
   ]
  },
  {
   "cell_type": "code",
   "execution_count": 40,
   "metadata": {},
   "outputs": [
    {
     "name": "stdout",
     "output_type": "stream",
     "text": [
      "The JSON file has been cleaned and saved as 'LLM_Answer_Evaluation_cleaned.json'.\n"
     ]
    }
   ],
   "source": [
    "import json\n",
    "import re\n",
    "\n",
    "\n",
    "def clean_text(text):\n",
    "    text = re.sub(r'\\\\text\\{([^}]*)\\}', r'\\1', text)  # Replace \\text{...} with ...\n",
    "    text = re.sub(r'\\\\boxed\\{([^}]*)\\}', r'\\1', text)  # Replace \\boxed{...} with ...\n",
    "    text = re.sub(r'\\\\frac\\{([^}]*)\\}\\{([^}]*)\\}', r'\\1/\\2', text)  # Replace \\frac{a}{b} with a/b\n",
    "    text = re.sub(r'\\\\times', 'x', text)  # Replace \\times with x\n",
    "    text = re.sub(r'\\\\\\[|\\\\\\]', '', text)  # Remove \\[ and \\]\n",
    "    text = re.sub(r'\\\\\\(|\\\\\\)', '', text)  # Remove \\( and \\)\n",
    "    return text\n",
    "\n",
    "\n",
    "def clean_json(data):\n",
    "    if isinstance(data, dict):\n",
    "        return {key: clean_json(value) for key, value in data.items()}\n",
    "    elif isinstance(data, list):\n",
    "        return [clean_json(element) for element in data]\n",
    "    elif isinstance(data, str):\n",
    "        return clean_text(data)\n",
    "    else:\n",
    "        return data\n",
    "\n",
    "\n",
    "# Read the JSON file content\n",
    "with open('/app/plan/survey/LLM_Answer_Evaluation.json', encoding='utf-8') as file:\n",
    "    json_content = json.load(file)\n",
    "\n",
    "# Apply regex transformations to the JSON content\n",
    "cleaned_content = clean_json(json_content)\n",
    "\n",
    "# Write the modified content back to the JSON file\n",
    "with open('LLM_Answer_Evaluation_cleaned.json', 'w', encoding='utf-8') as file:\n",
    "    json.dump(cleaned_content, file, ensure_ascii=False, indent=4)\n",
    "\n",
    "print(\"The JSON file has been cleaned and saved as 'LLM_Answer_Evaluation_cleaned.json'.\")"
   ]
  }
 ],
 "metadata": {
  "kernelspec": {
   "display_name": "Python 3",
   "language": "python",
   "name": "python3"
  },
  "language_info": {
   "codemirror_mode": {
    "name": "ipython",
    "version": 3
   },
   "file_extension": ".py",
   "mimetype": "text/x-python",
   "name": "python",
   "nbconvert_exporter": "python",
   "pygments_lexer": "ipython3",
   "version": "3.10.12"
  }
 },
 "nbformat": 4,
 "nbformat_minor": 2
}
