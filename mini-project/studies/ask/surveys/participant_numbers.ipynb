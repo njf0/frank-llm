{
 "cells": [
  {
   "cell_type": "markdown",
   "metadata": {},
   "source": [
    "# Pilot"
   ]
  },
  {
   "cell_type": "code",
   "execution_count": 4,
   "metadata": {},
   "outputs": [
    {
     "name": "stdout",
     "output_type": "stream",
     "text": [
      "4 models, 4 datasets = 16 model-dataset combinations\n",
      "4 questions per model-dataset combination = 64 examples\n",
      "32 participants, 16 examples per participant = 512 evaluations\n",
      "8 evaluations per example\n",
      "15 minutes per evaluation, £2.86 per evaluation = £91.52 participant payments\n",
      "Fees + VAT = £128.13 total cost\n"
     ]
    }
   ],
   "source": [
    "models = 4\n",
    "datasets = 4\n",
    "modeldatasetcombos = models * datasets\n",
    "questionspercombo = 4\n",
    "examples = modeldatasetcombos * questionspercombo\n",
    "\n",
    "participants = 32\n",
    "examplesperparticipant = 16\n",
    "totalevaluations = participants * examplesperparticipant\n",
    "evaluationsperexample = totalevaluations // examples\n",
    "\n",
    "time = 15\n",
    "payment = 2.86\n",
    "participantpayments = participants * payment\n",
    "fees = round(participantpayments / 3, 2)\n",
    "vat = round(0.2 * fees, 2)\n",
    "totalcost = participantpayments + fees + vat\n",
    "\n",
    "print(f'{models} models, {datasets} datasets = {modeldatasetcombos} model-dataset combinations')\n",
    "print(f'{questionspercombo} questions per model-dataset combination = {examples} examples')\n",
    "print(f'{participants} participants, {examplesperparticipant} examples per participant = {totalevaluations} evaluations')\n",
    "print(f'{evaluationsperexample} evaluations per example')\n",
    "print(f'{time} minutes per evaluation, £{payment} per evaluation = £{participantpayments} participant payments')\n",
    "print(f'Fees + VAT = £{totalcost} total cost')"
   ]
  },
  {
   "cell_type": "markdown",
   "metadata": {},
   "source": [
    "# Full study"
   ]
  },
  {
   "cell_type": "code",
   "execution_count": 5,
   "metadata": {},
   "outputs": [
    {
     "name": "stdout",
     "output_type": "stream",
     "text": [
      "4 models, 4 datasets = 16 model-dataset combinations\n",
      "64 questions per dataset = 1024 examples\n",
      "256 participants, 16 examples per participant = 4096 evaluations\n",
      "4 evaluations per example\n",
      "£3.81 per evaluation (256 participants, £11.44 per hour, 20 mins) = £975.36 participant payments\n",
      "Fees + VAT = £1365.5 total cost\n"
     ]
    }
   ],
   "source": [
    "models = 4\n",
    "datasets = 4\n",
    "modeldatasetcombos = models * datasets\n",
    "dataset_sample = 64\n",
    "examples = models * datasets * dataset_sample\n",
    "\n",
    "participants = 256\n",
    "examplesperparticipant = 16\n",
    "totalevaluations = participants * examplesperparticipant\n",
    "evaluationsperexample = totalevaluations // examples\n",
    "\n",
    "time = 20\n",
    "hourly_rate = 11.44\n",
    "payment = round(time / 60 * hourly_rate, 2)\n",
    "participantpayments = participants * payment\n",
    "fees = round(participantpayments / 3, 2)\n",
    "vat = round(0.2 * fees, 2)\n",
    "totalcost = participantpayments + fees + vat\n",
    "\n",
    "print(f'{models} models, {datasets} datasets = {modeldatasetcombos} model-dataset combinations')\n",
    "print(f'{dataset_sample} questions per dataset = {examples} examples')\n",
    "print(f'{participants} participants, {examplesperparticipant} examples per participant = {totalevaluations} evaluations')\n",
    "print(f'{evaluationsperexample} evaluations per example')\n",
    "print(\n",
    "    f'£{payment} per evaluation ({participants} participants, £{hourly_rate} per hour, {time} mins) = £{participantpayments} participant payments'\n",
    ")\n",
    "print(f'Fees + VAT = £{totalcost} total cost')"
   ]
  },
  {
   "cell_type": "code",
   "execution_count": null,
   "metadata": {},
   "outputs": [],
   "source": []
  }
 ],
 "metadata": {
  "kernelspec": {
   "display_name": ".env",
   "language": "python",
   "name": "python3"
  },
  "language_info": {
   "codemirror_mode": {
    "name": "ipython",
    "version": 3
   },
   "file_extension": ".py",
   "mimetype": "text/x-python",
   "name": "python",
   "nbconvert_exporter": "python",
   "pygments_lexer": "ipython3",
   "version": "3.10.12"
  }
 },
 "nbformat": 4,
 "nbformat_minor": 2
}
