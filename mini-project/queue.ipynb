{
 "cells": [
  {
   "cell_type": "code",
   "execution_count": 4,
   "metadata": {},
   "outputs": [],
   "source": [
    "import itertools\n",
    "\n",
    "import pandas as pd\n",
    "from conversation import ConversationConfig"
   ]
  },
  {
   "cell_type": "code",
   "execution_count": 5,
   "metadata": {},
   "outputs": [],
   "source": [
    "source = [\n",
    "    'Franklin/full_study.jsonl',\n",
    "    'GSM8k/test.jsonl',\n",
    "    'HotpotQA/hotpot_test_fullwiki_v1.jsonl',\n",
    "    'StrategyQA/dev_decomp_3_plus.jsonl',\n",
    "]\n",
    "models = [\n",
    "    'google/gemma-2-9b-it',\n",
    "    'meta-llama/Meta-Llama-3.1-8B-Instruct',\n",
    "    'microsoft/Phi-3.5-mini-instruct',\n",
    "    'openai/gpt-4o-mini',\n",
    "]\n",
    "description = 'attention_check_candidates'\n",
    "save = True\n",
    "batch_size = 8\n",
    "examples = 8\n",
    "random_seed = 12\n",
    "temperature = 0.2\n",
    "system_content = [\n",
    "    'Create a step-by-step plan for finding the answer to the following problem. Do not answer the question. Do not perform the actions in the plan. Your only task is to outline the steps involved in a concise and clear manner.',\n",
    "    'Now perform the steps in the plan you created. Use the most precise, accurate and up-to-date information available. To save space, be concise when describing the actions. Conclude by stating the answer that you reached by following the steps you outlined.',\n",
    "]\n"
   ]
  },
  {
   "cell_type": "code",
   "execution_count": 6,
   "metadata": {},
   "outputs": [],
   "source": [
    "# list of dicts of generation configurations\n",
    "configs = []\n",
    "for s, m in itertools.product(source, models):\n",
    "    config = ConversationConfig(\n",
    "        source=s,\n",
    "        model=m,\n",
    "        description=description,\n",
    "        save=save,\n",
    "        batch_size=batch_size,\n",
    "        random_seed=random_seed,\n",
    "        examples=examples,\n",
    "        temperature=temperature,\n",
    "        system_content=system_content,\n",
    "    )\n",
    "    configs.append(config)\n",
    "\n",
    "# save the configurations\n",
    "pd.DataFrame([config.__dict__ for config in configs]).to_json('queue.jsonl', orient='records', lines=True)"
   ]
  }
 ],
 "metadata": {
  "kernelspec": {
   "display_name": "Python 3",
   "language": "python",
   "name": "python3"
  },
  "language_info": {
   "codemirror_mode": {
    "name": "ipython",
    "version": 3
   },
   "file_extension": ".py",
   "mimetype": "text/x-python",
   "name": "python",
   "nbconvert_exporter": "python",
   "pygments_lexer": "ipython3",
   "version": "3.10.12"
  }
 },
 "nbformat": 4,
 "nbformat_minor": 2
}
