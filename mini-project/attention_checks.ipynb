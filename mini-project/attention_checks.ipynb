{
 "cells": [
  {
   "cell_type": "code",
   "execution_count": 171,
   "metadata": {},
   "outputs": [],
   "source": [
    "import pandas as pd\n",
    "from markdown import markdown"
   ]
  },
  {
   "cell_type": "code",
   "execution_count": 172,
   "metadata": {},
   "outputs": [],
   "source": [
    "log = pd.read_json('studies/plan/output/log.jsonl', lines=True, orient='records')\n",
    "survey = pd.read_json('studies/plan/surveys/final.jsonl', lines=True, orient='records')"
   ]
  },
  {
   "cell_type": "code",
   "execution_count": 173,
   "metadata": {},
   "outputs": [
    {
     "data": {
      "text/html": [
       "<div>\n",
       "<style scoped>\n",
       "    .dataframe tbody tr th:only-of-type {\n",
       "        vertical-align: middle;\n",
       "    }\n",
       "\n",
       "    .dataframe tbody tr th {\n",
       "        vertical-align: top;\n",
       "    }\n",
       "\n",
       "    .dataframe thead th {\n",
       "        text-align: right;\n",
       "    }\n",
       "</style>\n",
       "<table border=\"1\" class=\"dataframe\">\n",
       "  <thead>\n",
       "    <tr style=\"text-align: right;\">\n",
       "      <th></th>\n",
       "      <th>uuid</th>\n",
       "      <th>is_attention_check</th>\n",
       "      <th>dataset</th>\n",
       "      <th>model</th>\n",
       "      <th>question</th>\n",
       "      <th>parsed_response</th>\n",
       "      <th>html</th>\n",
       "    </tr>\n",
       "  </thead>\n",
       "  <tbody>\n",
       "    <tr>\n",
       "      <th>0</th>\n",
       "      <td>36b1a3da-bc2b-4a9f-b0b5-31887af03c91</td>\n",
       "      <td>False</td>\n",
       "      <td>Franklin</td>\n",
       "      <td>google/gemma-2-9b-it</td>\n",
       "      <td>Which country will have the lower energy consu...</td>\n",
       "      <td>## Step-by-Step Plan:\\n\\n1. **Identify Data So...</td>\n",
       "      <td>&lt;p&gt;&lt;em&gt;Which country will have the lower energ...</td>\n",
       "    </tr>\n",
       "    <tr>\n",
       "      <th>1</th>\n",
       "      <td>424e96e0-5051-426d-9d57-0ccc5fa352db</td>\n",
       "      <td>False</td>\n",
       "      <td>Franklin</td>\n",
       "      <td>google/gemma-2-9b-it</td>\n",
       "      <td>Which country in Northern Europe had the highe...</td>\n",
       "      <td>Here is the plan:\\n\\n1. **Define Northern Euro...</td>\n",
       "      <td>&lt;p&gt;&lt;em&gt;Which country in Northern Europe had th...</td>\n",
       "    </tr>\n",
       "    <tr>\n",
       "      <th>2</th>\n",
       "      <td>c4b1e32f-1886-440a-9f9f-66a4d71eabdb</td>\n",
       "      <td>False</td>\n",
       "      <td>Franklin</td>\n",
       "      <td>google/gemma-2-9b-it</td>\n",
       "      <td>Which country in Eastern Asia had the highest ...</td>\n",
       "      <td>## Plan:\\n\\n1. **Define \"Eastern Asia\":** Cons...</td>\n",
       "      <td>&lt;p&gt;&lt;em&gt;Which country in Eastern Asia had the h...</td>\n",
       "    </tr>\n",
       "    <tr>\n",
       "      <th>3</th>\n",
       "      <td>b8d5fa16-e8fa-459c-93f7-3edc6b82b152</td>\n",
       "      <td>False</td>\n",
       "      <td>Franklin</td>\n",
       "      <td>google/gemma-2-9b-it</td>\n",
       "      <td>For the country in Micronesia that had the low...</td>\n",
       "      <td>## Plan:\\n\\n1. **Identify the country in Micro...</td>\n",
       "      <td>&lt;p&gt;&lt;em&gt;For the country in Micronesia that had ...</td>\n",
       "    </tr>\n",
       "    <tr>\n",
       "      <th>4</th>\n",
       "      <td>5d5b6078-7e8e-4511-862b-3f2ecbccf019</td>\n",
       "      <td>False</td>\n",
       "      <td>Franklin</td>\n",
       "      <td>google/gemma-2-9b-it</td>\n",
       "      <td>Which country will have the higher life expect...</td>\n",
       "      <td>Here is the plan:\\n\\n1. **Identify reliable so...</td>\n",
       "      <td>&lt;p&gt;&lt;em&gt;Which country will have the higher life...</td>\n",
       "    </tr>\n",
       "  </tbody>\n",
       "</table>\n",
       "</div>"
      ],
      "text/plain": [
       "                                   uuid  is_attention_check   dataset  \\\n",
       "0  36b1a3da-bc2b-4a9f-b0b5-31887af03c91               False  Franklin   \n",
       "1  424e96e0-5051-426d-9d57-0ccc5fa352db               False  Franklin   \n",
       "2  c4b1e32f-1886-440a-9f9f-66a4d71eabdb               False  Franklin   \n",
       "3  b8d5fa16-e8fa-459c-93f7-3edc6b82b152               False  Franklin   \n",
       "4  5d5b6078-7e8e-4511-862b-3f2ecbccf019               False  Franklin   \n",
       "\n",
       "                  model                                           question  \\\n",
       "0  google/gemma-2-9b-it  Which country will have the lower energy consu...   \n",
       "1  google/gemma-2-9b-it  Which country in Northern Europe had the highe...   \n",
       "2  google/gemma-2-9b-it  Which country in Eastern Asia had the highest ...   \n",
       "3  google/gemma-2-9b-it  For the country in Micronesia that had the low...   \n",
       "4  google/gemma-2-9b-it  Which country will have the higher life expect...   \n",
       "\n",
       "                                     parsed_response  \\\n",
       "0  ## Step-by-Step Plan:\\n\\n1. **Identify Data So...   \n",
       "1  Here is the plan:\\n\\n1. **Define Northern Euro...   \n",
       "2  ## Plan:\\n\\n1. **Define \"Eastern Asia\":** Cons...   \n",
       "3  ## Plan:\\n\\n1. **Identify the country in Micro...   \n",
       "4  Here is the plan:\\n\\n1. **Identify reliable so...   \n",
       "\n",
       "                                                html  \n",
       "0  <p><em>Which country will have the lower energ...  \n",
       "1  <p><em>Which country in Northern Europe had th...  \n",
       "2  <p><em>Which country in Eastern Asia had the h...  \n",
       "3  <p><em>For the country in Micronesia that had ...  \n",
       "4  <p><em>Which country will have the higher life...  "
      ]
     },
     "execution_count": 173,
     "metadata": {},
     "output_type": "execute_result"
    }
   ],
   "source": [
    "survey.head()"
   ]
  },
  {
   "cell_type": "code",
   "execution_count": 174,
   "metadata": {},
   "outputs": [],
   "source": [
    "description = 'attention_check_candidates'\n",
    "# get all rows where 'description' column contains 'attention_check_candidates' and 'model' column contains 'openai/gpt-4o-mini'\n",
    "attention_check_candidates = log[(log['description'].str.contains(description)) & (log['model'] == 'openai/gpt-4o-mini')]\n",
    "attention_check_candidates = attention_check_candidates['filename'].tolist()\n",
    "# open each file and concatenate the contents\n",
    "attention_check_candidates = pd.concat(\n",
    "    [pd.read_json(f'studies/plan/output/{filename}', lines=True, orient='records') for filename in attention_check_candidates],\n",
    "    ignore_index=True,\n",
    ")\n",
    "# remove rows from attention_check_candidates where attention_check_candidates['question'] is in survey['question']\n",
    "attention_check_candidates = attention_check_candidates[~attention_check_candidates['question'].isin(survey['question'])]\n",
    "# sort by length of 'parsed_response' column\n",
    "# attention_check_candidates = attention_check_candidates.sort_values(by='parsed_response', key=lambda x: x.str.len())"
   ]
  },
  {
   "cell_type": "code",
   "execution_count": 175,
   "metadata": {},
   "outputs": [],
   "source": [
    "# get random row from attention_check_candidates\n",
    "r = attention_check_candidates.sample(1)"
   ]
  },
  {
   "cell_type": "code",
   "execution_count": 176,
   "metadata": {},
   "outputs": [
    {
     "data": {
      "text/html": [
       "<div>\n",
       "<style scoped>\n",
       "    .dataframe tbody tr th:only-of-type {\n",
       "        vertical-align: middle;\n",
       "    }\n",
       "\n",
       "    .dataframe tbody tr th {\n",
       "        vertical-align: top;\n",
       "    }\n",
       "\n",
       "    .dataframe thead th {\n",
       "        text-align: right;\n",
       "    }\n",
       "</style>\n",
       "<table border=\"1\" class=\"dataframe\">\n",
       "  <thead>\n",
       "    <tr style=\"text-align: right;\">\n",
       "      <th></th>\n",
       "      <th>internal_id</th>\n",
       "      <th>question</th>\n",
       "      <th>conversations</th>\n",
       "      <th>conversation</th>\n",
       "      <th>parsed_response</th>\n",
       "      <th>_id</th>\n",
       "      <th>qid</th>\n",
       "    </tr>\n",
       "  </thead>\n",
       "  <tbody>\n",
       "    <tr>\n",
       "      <th>31</th>\n",
       "      <td>NaN</td>\n",
       "      <td>Could a nymph tick pass through a standard hol...</td>\n",
       "      <td>[{'role': 'system', 'content': 'Create a step-...</td>\n",
       "      <td>[{'role': 'system', 'content': 'Create a step-...</td>\n",
       "      <td>1. **Define Key Terms**: Clarify what is meant...</td>\n",
       "      <td>NaN</td>\n",
       "      <td>44ec5bab0ba6b687d60e</td>\n",
       "    </tr>\n",
       "  </tbody>\n",
       "</table>\n",
       "</div>"
      ],
      "text/plain": [
       "   internal_id                                           question  \\\n",
       "31         NaN  Could a nymph tick pass through a standard hol...   \n",
       "\n",
       "                                        conversations  \\\n",
       "31  [{'role': 'system', 'content': 'Create a step-...   \n",
       "\n",
       "                                         conversation  \\\n",
       "31  [{'role': 'system', 'content': 'Create a step-...   \n",
       "\n",
       "                                      parsed_response  _id  \\\n",
       "31  1. **Define Key Terms**: Clarify what is meant...  NaN   \n",
       "\n",
       "                     qid  \n",
       "31  44ec5bab0ba6b687d60e  "
      ]
     },
     "execution_count": 176,
     "metadata": {},
     "output_type": "execute_result"
    }
   ],
   "source": [
    "r"
   ]
  },
  {
   "cell_type": "code",
   "execution_count": 177,
   "metadata": {},
   "outputs": [
    {
     "name": "stdout",
     "output_type": "stream",
     "text": [
      "<p><em>Could a nymph tick pass through a standard hole punch?</em></p><hr><ol>\n",
      "<li>\n",
      "<p><strong>Define Key Terms</strong>: Clarify what is meant by \"nymph tick\" and \"standard hole punch.\" Research the size and characteristics of nymph ticks and the dimensions of a standard hole punch hole.</p>\n",
      "</li>\n",
      "<li>\n",
      "<p><strong>Research Nymph Tick Sizes</strong>: Look up the average size of nymph ticks, including their width and height, to understand their physical dimensions.</p>\n",
      "</li>\n",
      "<li>\n",
      "<p><strong>Research Hole Punch Specifications</strong>: Find out the diameter of the hole created by a standard hole punch. This information is typically available from office supply manufacturers or product specifications.</p>\n",
      "</li>\n",
      "<li>\n",
      "<p><strong>Compare Sizes</strong>: Compare the dimensions of the nymph tick to the diameter of the hole punch hole. Determine if the tick's size is smaller, larger, or equal to the hole size.</p>\n",
      "</li>\n",
      "<li>\n",
      "<p><strong>Consider Tick Flexibility</strong>: Investigate whether nymph ticks can compress or change shape when passing through small openings. This may involve looking into their anatomy and behavior.</p>\n",
      "</li>\n",
      "<li>\n",
      "<p><strong>Analyze Findings</strong>: Based on the size comparison and flexibility analysis, draw conclusions about whether a nymph tick could pass through a standard hole punch.</p>\n",
      "</li>\n",
      "<li>\n",
      "<p><strong>Formulate a Conclusion</strong>: Summarize the findings and provide a clear answer to the original question based on the research conducted.</p>\n",
      "</li>\n",
      "</ol>\n",
      "<p>I'm sorry, but I cannot perform the actions in the plan or provide an answer to the question. My role is to assist with outlining steps or providing guidance, but not to conduct research or provide conclusions. If you have any other questions or need further assistance, feel free to ask!</p>\n"
     ]
    }
   ],
   "source": [
    "q = r['question'].to_numpy()[0]\n",
    "e = r['parsed_response'].to_numpy()[0]\n",
    "print(f'<p><em>{q}</em></p><hr>{markdown(e)}')"
   ]
  }
 ],
 "metadata": {
  "kernelspec": {
   "display_name": "Python 3",
   "language": "python",
   "name": "python3"
  },
  "language_info": {
   "codemirror_mode": {
    "name": "ipython",
    "version": 3
   },
   "file_extension": ".py",
   "mimetype": "text/x-python",
   "name": "python",
   "nbconvert_exporter": "python",
   "pygments_lexer": "ipython3",
   "version": "3.10.12"
  }
 },
 "nbformat": 4,
 "nbformat_minor": 2
}
