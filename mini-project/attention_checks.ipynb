{
 "cells": [
  {
   "cell_type": "code",
   "execution_count": 327,
   "metadata": {},
   "outputs": [],
   "source": [
    "import pandas as pd\n",
    "from markdown import markdown"
   ]
  },
  {
   "cell_type": "code",
   "execution_count": 328,
   "metadata": {},
   "outputs": [],
   "source": [
    "log = pd.read_json('studies/plan/output/log.jsonl', lines=True, orient='records')\n",
    "survey = pd.read_json('studies/plan/surveys/final.jsonl', lines=True, orient='records')"
   ]
  },
  {
   "cell_type": "code",
   "execution_count": 329,
   "metadata": {},
   "outputs": [
    {
     "data": {
      "text/html": [
       "<div>\n",
       "<style scoped>\n",
       "    .dataframe tbody tr th:only-of-type {\n",
       "        vertical-align: middle;\n",
       "    }\n",
       "\n",
       "    .dataframe tbody tr th {\n",
       "        vertical-align: top;\n",
       "    }\n",
       "\n",
       "    .dataframe thead th {\n",
       "        text-align: right;\n",
       "    }\n",
       "</style>\n",
       "<table border=\"1\" class=\"dataframe\">\n",
       "  <thead>\n",
       "    <tr style=\"text-align: right;\">\n",
       "      <th></th>\n",
       "      <th>uuid</th>\n",
       "      <th>is_attention_check</th>\n",
       "      <th>dataset</th>\n",
       "      <th>model</th>\n",
       "      <th>question</th>\n",
       "      <th>parsed_response</th>\n",
       "      <th>html</th>\n",
       "    </tr>\n",
       "  </thead>\n",
       "  <tbody>\n",
       "    <tr>\n",
       "      <th>0</th>\n",
       "      <td>36b1a3da-bc2b-4a9f-b0b5-31887af03c91</td>\n",
       "      <td>False</td>\n",
       "      <td>Franklin</td>\n",
       "      <td>google/gemma-2-9b-it</td>\n",
       "      <td>Which country will have the lower energy consu...</td>\n",
       "      <td>## Step-by-Step Plan:\\n\\n1. **Identify Data So...</td>\n",
       "      <td>&lt;p&gt;&lt;em&gt;Which country will have the lower energ...</td>\n",
       "    </tr>\n",
       "    <tr>\n",
       "      <th>1</th>\n",
       "      <td>424e96e0-5051-426d-9d57-0ccc5fa352db</td>\n",
       "      <td>False</td>\n",
       "      <td>Franklin</td>\n",
       "      <td>google/gemma-2-9b-it</td>\n",
       "      <td>Which country in Northern Europe had the highe...</td>\n",
       "      <td>Here is the plan:\\n\\n1. **Define Northern Euro...</td>\n",
       "      <td>&lt;p&gt;&lt;em&gt;Which country in Northern Europe had th...</td>\n",
       "    </tr>\n",
       "    <tr>\n",
       "      <th>2</th>\n",
       "      <td>c4b1e32f-1886-440a-9f9f-66a4d71eabdb</td>\n",
       "      <td>False</td>\n",
       "      <td>Franklin</td>\n",
       "      <td>google/gemma-2-9b-it</td>\n",
       "      <td>Which country in Eastern Asia had the highest ...</td>\n",
       "      <td>## Plan:\\n\\n1. **Define \"Eastern Asia\":** Cons...</td>\n",
       "      <td>&lt;p&gt;&lt;em&gt;Which country in Eastern Asia had the h...</td>\n",
       "    </tr>\n",
       "    <tr>\n",
       "      <th>3</th>\n",
       "      <td>b8d5fa16-e8fa-459c-93f7-3edc6b82b152</td>\n",
       "      <td>False</td>\n",
       "      <td>Franklin</td>\n",
       "      <td>google/gemma-2-9b-it</td>\n",
       "      <td>For the country in Micronesia that had the low...</td>\n",
       "      <td>## Plan:\\n\\n1. **Identify the country in Micro...</td>\n",
       "      <td>&lt;p&gt;&lt;em&gt;For the country in Micronesia that had ...</td>\n",
       "    </tr>\n",
       "    <tr>\n",
       "      <th>4</th>\n",
       "      <td>5d5b6078-7e8e-4511-862b-3f2ecbccf019</td>\n",
       "      <td>False</td>\n",
       "      <td>Franklin</td>\n",
       "      <td>google/gemma-2-9b-it</td>\n",
       "      <td>Which country will have the higher life expect...</td>\n",
       "      <td>Here is the plan:\\n\\n1. **Identify reliable so...</td>\n",
       "      <td>&lt;p&gt;&lt;em&gt;Which country will have the higher life...</td>\n",
       "    </tr>\n",
       "  </tbody>\n",
       "</table>\n",
       "</div>"
      ],
      "text/plain": [
       "                                   uuid  is_attention_check   dataset  \\\n",
       "0  36b1a3da-bc2b-4a9f-b0b5-31887af03c91               False  Franklin   \n",
       "1  424e96e0-5051-426d-9d57-0ccc5fa352db               False  Franklin   \n",
       "2  c4b1e32f-1886-440a-9f9f-66a4d71eabdb               False  Franklin   \n",
       "3  b8d5fa16-e8fa-459c-93f7-3edc6b82b152               False  Franklin   \n",
       "4  5d5b6078-7e8e-4511-862b-3f2ecbccf019               False  Franklin   \n",
       "\n",
       "                  model                                           question  \\\n",
       "0  google/gemma-2-9b-it  Which country will have the lower energy consu...   \n",
       "1  google/gemma-2-9b-it  Which country in Northern Europe had the highe...   \n",
       "2  google/gemma-2-9b-it  Which country in Eastern Asia had the highest ...   \n",
       "3  google/gemma-2-9b-it  For the country in Micronesia that had the low...   \n",
       "4  google/gemma-2-9b-it  Which country will have the higher life expect...   \n",
       "\n",
       "                                     parsed_response  \\\n",
       "0  ## Step-by-Step Plan:\\n\\n1. **Identify Data So...   \n",
       "1  Here is the plan:\\n\\n1. **Define Northern Euro...   \n",
       "2  ## Plan:\\n\\n1. **Define \"Eastern Asia\":** Cons...   \n",
       "3  ## Plan:\\n\\n1. **Identify the country in Micro...   \n",
       "4  Here is the plan:\\n\\n1. **Identify reliable so...   \n",
       "\n",
       "                                                html  \n",
       "0  <p><em>Which country will have the lower energ...  \n",
       "1  <p><em>Which country in Northern Europe had th...  \n",
       "2  <p><em>Which country in Eastern Asia had the h...  \n",
       "3  <p><em>For the country in Micronesia that had ...  \n",
       "4  <p><em>Which country will have the higher life...  "
      ]
     },
     "execution_count": 329,
     "metadata": {},
     "output_type": "execute_result"
    }
   ],
   "source": [
    "survey.head()"
   ]
  },
  {
   "cell_type": "code",
   "execution_count": 330,
   "metadata": {},
   "outputs": [],
   "source": [
    "description = 'attention_check_candidates'\n",
    "# get all rows where 'description' column contains 'attention_check_candidates' and 'model' column contains 'openai/gpt-4o-mini'\n",
    "attention_check_candidates = log[(log['description'].str.contains(description)) & (log['model'] == 'openai/gpt-4o-mini')]\n",
    "attention_check_candidates = attention_check_candidates['filename'].tolist()\n",
    "# open each file and concatenate the contents\n",
    "attention_check_candidates = pd.concat([pd.read_json(f'studies/plan/output/{filename}', lines=True, orient='records') for filename in attention_check_candidates], ignore_index=True)\n",
    "# remove rows from attention_check_candidates where attention_check_candidates['question'] is in survey['question']\n",
    "attention_check_candidates = attention_check_candidates[~attention_check_candidates['question'].isin(survey['question'])]\n",
    "# sort by length of 'parsed_response' column\n",
    "attention_check_candidates = attention_check_candidates.sort_values(by='parsed_response', key=lambda x: x.str.len())"
   ]
  },
  {
   "cell_type": "code",
   "execution_count": 331,
   "metadata": {},
   "outputs": [],
   "source": [
    "i = 0"
   ]
  },
  {
   "cell_type": "code",
   "execution_count": 332,
   "metadata": {},
   "outputs": [
    {
     "data": {
      "text/plain": [
       "internal_id                                                      NaN\n",
       "question           What partner of Richard Herring co-wrote Jerry...\n",
       "conversations      [{'role': 'system', 'content': 'Create a step-...\n",
       "conversation       [{'role': 'system', 'content': 'Create a step-...\n",
       "parsed_response    1. Identify Richard Herring's notable collabor...\n",
       "_id                                         5a84a3b75542997175ce1f04\n",
       "qid                                                              NaN\n",
       "Name: 22, dtype: object"
      ]
     },
     "execution_count": 332,
     "metadata": {},
     "output_type": "execute_result"
    }
   ],
   "source": [
    "attention_check_candidates.iloc[i]"
   ]
  },
  {
   "cell_type": "code",
   "execution_count": 333,
   "metadata": {},
   "outputs": [],
   "source": [
    "q = attention_check_candidates['question'].iloc[i]\n",
    "e = attention_check_candidates['parsed_response'].iloc[i]"
   ]
  },
  {
   "cell_type": "code",
   "execution_count": 334,
   "metadata": {},
   "outputs": [
    {
     "name": "stdout",
     "output_type": "stream",
     "text": [
      "<p><em>What partner of Richard Herring co-wrote Jerry Springer: The Opera?</em></p><hr><ol>\n",
      "<li>Identify Richard Herring's notable collaborations and partnerships in his career.</li>\n",
      "<li>Research the production of \"Jerry Springer: The Opera\" to find out who was involved in its creation.</li>\n",
      "<li>Look for information specifically about the co-writers of \"Jerry Springer: The Opera.\"</li>\n",
      "<li>Cross-reference the co-writers with Richard Herring's known collaborators to confirm the partnership.</li>\n",
      "<li>Compile the findings to determine the specific partner of Richard Herring who co-wrote the opera.</li>\n",
      "</ol>\n",
      "<p>I'm sorry, but I cannot perform the actions in the plan or provide the answer to the question.</p>\n"
     ]
    }
   ],
   "source": [
    "print(f'<p><em>{q}</em></p><hr>{markdown(e)}')"
   ]
  },
  {
   "cell_type": "code",
   "execution_count": null,
   "metadata": {},
   "outputs": [],
   "source": []
  }
 ],
 "metadata": {
  "kernelspec": {
   "display_name": "Python 3",
   "language": "python",
   "name": "python3"
  },
  "language_info": {
   "codemirror_mode": {
    "name": "ipython",
    "version": 3
   },
   "file_extension": ".py",
   "mimetype": "text/x-python",
   "name": "python",
   "nbconvert_exporter": "python",
   "pygments_lexer": "ipython3",
   "version": "3.10.12"
  }
 },
 "nbformat": 4,
 "nbformat_minor": 2
}
