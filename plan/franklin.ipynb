{
 "cells": [
  {
   "cell_type": "code",
   "execution_count": 1,
   "metadata": {},
   "outputs": [
    {
     "name": "stderr",
     "output_type": "stream",
     "text": [
      "/usr/local/lib/python3.10/dist-packages/tqdm/auto.py:21: TqdmWarning: IProgress not found. Please update jupyter and ipywidgets. See https://ipywidgets.readthedocs.io/en/stable/user_install.html\n",
      "  from .autonotebook import tqdm as notebook_tqdm\n"
     ]
    }
   ],
   "source": [
    "import datetime\n",
    "import logging\n",
    "import random\n",
    "from pathlib import Path\n",
    "\n",
    "import franklin\n",
    "import pandas as pd\n",
    "\n",
    "logging.getLogger('transformers').setLevel(logging.ERROR)"
   ]
  },
  {
   "cell_type": "code",
   "execution_count": 2,
   "metadata": {},
   "outputs": [],
   "source": [
    "models = [\n",
    "    '/nfs/public/hf/models/meta-llama/Meta-Llama-3.1-8B-Instruct',\n",
    "    'mistralai/Mistral-7B-Instruct-v0.3',\n",
    "]"
   ]
  },
  {
   "cell_type": "code",
   "execution_count": 3,
   "metadata": {},
   "outputs": [],
   "source": [
    "config = {\n",
    "    'examples': 16,\n",
    "    'model': 'mistralai/Mistral-7B-Instruct-v0.3',\n",
    "    'temperature': 0.2,\n",
    "    'batch_size': 16,\n",
    "    'source': '/app/resources/data/full_study.json',\n",
    "    'system_content': 'Answer the following question.',\n",
    "}"
   ]
  },
  {
   "cell_type": "code",
   "execution_count": 4,
   "metadata": {},
   "outputs": [
    {
     "name": "stderr",
     "output_type": "stream",
     "text": [
      "Loading checkpoint shards: 100%|██████████| 3/3 [00:02<00:00,  1.42it/s]\n",
      "Assembling messages: 100%|██████████| 16/16 [00:00<00:00, 159783.01it/s]\n",
      "Generating batch responses: 100%|██████████| 1/1 [00:21<00:00, 21.80s/it]\n",
      "Parsing outputs: 16it [00:00, 162885.59it/s]\n"
     ]
    }
   ],
   "source": [
    "out = franklin.Mistral(config).run()"
   ]
  },
  {
   "cell_type": "code",
   "execution_count": 5,
   "metadata": {},
   "outputs": [],
   "source": [
    "example = random.choice(out)\n",
    "q, a = example[0], example[1]"
   ]
  },
  {
   "cell_type": "code",
   "execution_count": 6,
   "metadata": {},
   "outputs": [
    {
     "name": "stdout",
     "output_type": "stream",
     "text": [
      "Which country will have the lower birth rate in 2027: Grenada or Saint Kitts and Nevis?\n",
      "---\n",
      "Answer the following question. Which country will have the lower birth rate in 2027: Grenada or Saint Kitts and Nevis? Based on current trends, Saint Kitts and Nevis is expected to have a lower birth rate in 2027 compared to Grenada. As of 2021, the crude birth rate (CBR) for Saint Kitts and Nevis is 12.4 births per 1,000 population, while for Grenada it is 16.4 births per 1,000 population. This means that Saint Kitts and Nevis has a lower fertility rate, which is likely to continue into the future. However, it's important to note that these rates can change due to various factors, so it's always a good idea to check the most recent data.\n"
     ]
    }
   ],
   "source": [
    "print(q)\n",
    "print('---')\n",
    "print(a)"
   ]
  }
 ],
 "metadata": {
  "kernelspec": {
   "display_name": "Python 3",
   "language": "python",
   "name": "python3"
  },
  "language_info": {
   "codemirror_mode": {
    "name": "ipython",
    "version": 3
   },
   "file_extension": ".py",
   "mimetype": "text/x-python",
   "name": "python",
   "nbconvert_exporter": "python",
   "pygments_lexer": "ipython3",
   "version": "3.10.12"
  }
 },
 "nbformat": 4,
 "nbformat_minor": 2
}
