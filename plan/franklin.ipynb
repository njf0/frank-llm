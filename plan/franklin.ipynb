{
 "cells": [
  {
   "cell_type": "code",
   "execution_count": 1,
   "metadata": {},
   "outputs": [
    {
     "name": "stderr",
     "output_type": "stream",
     "text": [
      "/usr/local/lib/python3.10/dist-packages/tqdm/auto.py:21: TqdmWarning: IProgress not found. Please update jupyter and ipywidgets. See https://ipywidgets.readthedocs.io/en/stable/user_install.html\n",
      "  from .autonotebook import tqdm as notebook_tqdm\n"
     ]
    }
   ],
   "source": [
    "from pathlib import Path\n",
    "\n",
    "import franklin"
   ]
  },
  {
   "cell_type": "code",
   "execution_count": 2,
   "metadata": {},
   "outputs": [],
   "source": [
    "config = {\n",
    "    \"model\": \"/nfs/public/hf/models/meta-llama/Meta-Llama-3-8B-Instruct\",\n",
    "    \"temperature\": 3,\n",
    "    \"batch_size\": 20,\n",
    "    \"source\": \"/app/resources/data/full_study.json\",\n",
    "    \"system_content\": \"How would you answer the following question?\",\n",
    "}"
   ]
  },
  {
   "cell_type": "code",
   "execution_count": 3,
   "metadata": {},
   "outputs": [
    {
     "name": "stderr",
     "output_type": "stream",
     "text": [
      "Loading checkpoint shards: 100%|██████████| 4/4 [02:30<00:00, 37.73s/it]\n",
      "Assembling messages: 100%|██████████| 400/400 [00:00<00:00, 1267161.33it/s]\n",
      "Generating batch responses: 100%|██████████| 20/20 [02:47<00:00,  8.36s/it]\n"
     ]
    }
   ],
   "source": [
    "out = franklin.LlamaTest(config).run()"
   ]
  },
  {
   "cell_type": "code",
   "execution_count": 5,
   "metadata": {},
   "outputs": [],
   "source": [
    "pairs = [(i, o) for i, o in zip(out[\"inputs\"], out[\"outputs\"])]"
   ]
  },
  {
   "cell_type": "code",
   "execution_count": 8,
   "metadata": {},
   "outputs": [
    {
     "name": "stdout",
     "output_type": "stream",
     "text": [
      "A question that requires a bit of crystal ball gazing!\n",
      "\n",
      "While it's challenging to predict energy consumption with certainty, I can provide some insights based on current trends and available data.\n",
      "\n",
      "Dominica, a small island nation in the Caribbean, has been working to increase its use of renewable energy sources and reduce its carbon footprint. In 2020, the country set a goal to generate 25% of its electricity from renewable sources by 2025.\n",
      "\n",
      "To estimate Dominica's energy consumption in 2029, let's look at some relevant factors:\n",
      "\n",
      "1. **Renewable energy growth**: Dominica has been increasing its renewable energy production, with a focus on wind and solar power. This trend is likely to continue, and the country may reach its 2025 goal ahead of schedule.\n",
      "2. **Energy efficiency**: Dominica has implemented various energy-efficient initiatives, such as energy-efficient lighting and appliances. These efforts will help reduce energy consumption over time.\n",
      "3. **Economic growth**: Dominica's economy is expected to grow, which may lead to increased energy consumption. However, the country can strive to balance this growth with sustainable energy practices.\n",
      "\n",
      "Using these factors, I'll make an educated estimate:\n",
      "\n",
      "By 2029, Dominica's energy consumption is likely to be\n"
     ]
    }
   ],
   "source": [
    "print(pairs[0][1])"
   ]
  }
 ],
 "metadata": {
  "kernelspec": {
   "display_name": "Python 3",
   "language": "python",
   "name": "python3"
  },
  "language_info": {
   "codemirror_mode": {
    "name": "ipython",
    "version": 3
   },
   "file_extension": ".py",
   "mimetype": "text/x-python",
   "name": "python",
   "nbconvert_exporter": "python",
   "pygments_lexer": "ipython3",
   "version": "3.10.12"
  }
 },
 "nbformat": 4,
 "nbformat_minor": 2
}
