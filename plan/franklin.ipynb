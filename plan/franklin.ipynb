{
 "cells": [
  {
   "cell_type": "code",
   "execution_count": 1,
   "metadata": {},
   "outputs": [
    {
     "name": "stderr",
     "output_type": "stream",
     "text": [
      "/usr/local/lib/python3.10/dist-packages/tqdm/auto.py:21: TqdmWarning: IProgress not found. Please update jupyter and ipywidgets. See https://ipywidgets.readthedocs.io/en/stable/user_install.html\n",
      "  from .autonotebook import tqdm as notebook_tqdm\n"
     ]
    }
   ],
   "source": [
    "import datetime\n",
    "import logging\n",
    "import random\n",
    "from pathlib import Path\n",
    "\n",
    "import franklin\n",
    "import pandas as pd\n",
    "\n",
    "logging.getLogger(\"transformers\").setLevel(logging.ERROR)"
   ]
  },
  {
   "cell_type": "code",
   "execution_count": 2,
   "metadata": {},
   "outputs": [],
   "source": [
    "config = {\n",
    "    \"examples\": 16,\n",
    "    \"model\": \"/nfs/public/hf/models/meta-llama/Meta-Llama-3-8B-Instruct\",\n",
    "    \"temperature\": 0.2,\n",
    "    \"batch_size\": 16,\n",
    "    \"source\": \"/app/resources/data/full_study.json\",\n",
    "    \"system_content\": \"Create a plan, in the form of a list of steps, for answering the following question. Then, execute the steps in that plan to provide an answer.\",\n",
    "}"
   ]
  },
  {
   "cell_type": "code",
   "execution_count": 3,
   "metadata": {},
   "outputs": [
    {
     "name": "stderr",
     "output_type": "stream",
     "text": [
      "Loading checkpoint shards: 100%|██████████| 4/4 [00:02<00:00,  1.54it/s]\n",
      "Assembling messages: 100%|██████████| 32/32 [00:00<00:00, 318806.95it/s]\n",
      "Generating batch responses: 100%|██████████| 2/2 [00:51<00:00, 25.71s/it]\n",
      "Parsing outputs: 100%|██████████| 32/32 [00:00<00:00, 197669.70it/s]\n"
     ]
    }
   ],
   "source": [
    "out = franklin.LlamaTest(config).run()"
   ]
  },
  {
   "cell_type": "code",
   "execution_count": 15,
   "metadata": {},
   "outputs": [],
   "source": [
    "example = random.choice(out)\n",
    "q, a = example[0], example[1]"
   ]
  },
  {
   "cell_type": "code",
   "execution_count": 16,
   "metadata": {},
   "outputs": [
    {
     "data": {
      "text/plain": [
       "['Here is a plan to answer the question:',\n",
       " '**Step 1: Identify the country with the lowest population in Northern America in 2019**',\n",
       " '* Research the population of each country in Northern America (Canada, United States, Mexico) in 2019',\n",
       " '* Determine which country had the lowest population in 2019',\n",
       " '**Step 2: Find the energy consumption data for the country in 2019**',\n",
       " '* Research the energy consumption data for the country with the lowest population in 2019',\n",
       " '* Find the total energy consumption in terawatt-hours (TWh) for the country in 2019',\n",
       " '**Step 3: Estimate the energy consumption in 2029**',\n",
       " '* Use a growth rate to estimate the population of the country in 2029',\n",
       " '* Use the estimated population and the energy consumption per capita to estimate the total energy consumption in 2029',\n",
       " '**Step 4: Provide the answer**',\n",
       " '* Combine the estimated population and energy consumption in 2029 to provide the answer',\n",
       " \"Here's the execution of the plan:\",\n",
       " '**Step 1: Identify the country with the lowest population in Northern America in 2019**',\n",
       " 'According to the United Nations, the population of Canada in 2019 was approximately 37.7 million, the United States had a population of around 331 million, and Mexico had a population of approximately 127 million. Therefore, Canada had the lowest population in Northern America in 2019.',\n",
       " '**Step 2: Find the energy consumption data for Canada in 2019**',\n",
       " \"According to the International Energy Agency (IEA), Canada's total energy consumption in 2019 was approximately 1,444 TWh.\",\n",
       " '**Step 3: Estimate the energy consumption in 2029**',\n",
       " 'Using a growth rate of 0.5% per year (a moderate growth rate), we can estimate the population of Canada in 2029 to be around 40.5 million. Assuming the energy consumption per capita remains constant, we can estimate the total energy consumption in 2029 to be around 1,544 TWh (1,444 TWh + 0.5% growth per year for 10 years).',\n",
       " '**Step 4: Provide the answer**',\n",
       " 'Therefore, the estimated energy consumption of Canada in 2029 is approximately 1,544 TWh.']"
      ]
     },
     "execution_count": 16,
     "metadata": {},
     "output_type": "execute_result"
    }
   ],
   "source": [
    "[i for i in a.splitlines() if i]"
   ]
  }
 ],
 "metadata": {
  "kernelspec": {
   "display_name": "Python 3",
   "language": "python",
   "name": "python3"
  },
  "language_info": {
   "codemirror_mode": {
    "name": "ipython",
    "version": 3
   },
   "file_extension": ".py",
   "mimetype": "text/x-python",
   "name": "python",
   "nbconvert_exporter": "python",
   "pygments_lexer": "ipython3",
   "version": "3.10.12"
  }
 },
 "nbformat": 4,
 "nbformat_minor": 2
}
