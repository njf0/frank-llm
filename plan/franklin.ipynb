{
 "cells": [
  {
   "cell_type": "code",
   "execution_count": 8,
   "metadata": {},
   "outputs": [],
   "source": [
    "import datetime\n",
    "import logging\n",
    "import franklin\n",
    "\n",
    "import pandas as pd\n",
    "from pathlib import Path\n",
    "\n",
    "logging.getLogger(\"transformers\").setLevel(logging.ERROR)\n"
   ]
  },
  {
   "cell_type": "code",
   "execution_count": 9,
   "metadata": {},
   "outputs": [],
   "source": [
    "config = {\n",
    "    \"examples\": 16,\n",
    "    \"model\": \"/nfs/public/hf/models/meta-llama/Meta-Llama-3-8B-Instruct\",\n",
    "    \"temperature\": 0.2,\n",
    "    \"batch_size\": 16,\n",
    "    \"source\": \"/app/resources/data/full_study.json\",\n",
    "    \"system_content\": \"Create a plan, in the form of a list of steps, for answering the following question.\",\n",
    "}"
   ]
  },
  {
   "cell_type": "code",
   "execution_count": 10,
   "metadata": {},
   "outputs": [
    {
     "name": "stderr",
     "output_type": "stream",
     "text": [
      "Loading checkpoint shards: 100%|██████████| 4/4 [00:03<00:00,  1.10it/s]\n",
      "Assembling messages: 100%|██████████| 16/16 [00:00<00:00, 165700.90it/s]\n",
      "Generating batch responses: 100%|██████████| 1/1 [00:12<00:00, 12.52s/it]\n",
      "Parsing outputs: 100%|██████████| 16/16 [00:00<00:00, 133949.83it/s]\n"
     ]
    }
   ],
   "source": [
    "out = franklin.LlamaTest(config).run()"
   ]
  },
  {
   "cell_type": "code",
   "execution_count": 11,
   "metadata": {},
   "outputs": [],
   "source": [
    "pairs = [(i, o) for i, o in zip(out[\"inputs\"], out[\"outputs\"])]"
   ]
  },
  {
   "cell_type": "code",
   "execution_count": 12,
   "metadata": {},
   "outputs": [
    {
     "name": "stdout",
     "output_type": "stream",
     "text": [
      "Here's a plan to estimate Dominica's energy consumption in 2029:\n",
      "\n",
      "**Step 1: Gather Data**\n",
      "\n",
      "* Collect historical energy consumption data for Dominica from 2019 to 2022 from reputable sources such as the International Energy Agency (IEA), the World Bank, or the Dominica government.\n",
      "* Identify the main energy sources in Dominica, such as oil, gas, hydro, wind, solar, and geothermal.\n",
      "\n",
      "**Step 2: Analyze Trends**\n",
      "\n",
      "* Analyze the historical data to identify trends in energy consumption in Dominica. Look for patterns, such as:\n",
      "\t+ Growth rates\n",
      "\t+ Seasonal fluctuations\n",
      "\t+ Impact of economic factors (e.g., GDP, population growth)\n",
      "\t+ Impact of policy changes (e.g., renewable energy targets, energy efficiency initiatives)\n",
      "\n",
      "**Step 3: Estimate Future Energy Consumption**\n",
      "\n",
      "* Use the analyzed trends to make predictions about future energy consumption in Dominica. Consider factors such as:\n",
      "\t+ Population growth and urbanization\n",
      "\t+ Economic development and industrialization\n",
      "\t+ Energy efficiency improvements\n",
      "\t+ Renewable energy adoption\n",
      "* Estimate the total energy consumption in Dominica in 2029, using a combination of historical data and projected trends.\n",
      "\n",
      "**Step 4: Break Down\n"
     ]
    }
   ],
   "source": [
    "print(pairs[0][1])"
   ]
  },
  {
   "cell_type": "code",
   "execution_count": 13,
   "metadata": {},
   "outputs": [],
   "source": [
    "with Path(\"/app/plan/outputs/log.csv\").open(\"r\") as f:\n",
    "    df = pd.read_csv(f, index_col=0)"
   ]
  },
  {
   "cell_type": "code",
   "execution_count": 14,
   "metadata": {},
   "outputs": [
    {
     "data": {
      "text/html": [
       "<div>\n",
       "<style scoped>\n",
       "    .dataframe tbody tr th:only-of-type {\n",
       "        vertical-align: middle;\n",
       "    }\n",
       "\n",
       "    .dataframe tbody tr th {\n",
       "        vertical-align: top;\n",
       "    }\n",
       "\n",
       "    .dataframe thead th {\n",
       "        text-align: right;\n",
       "    }\n",
       "</style>\n",
       "<table border=\"1\" class=\"dataframe\">\n",
       "  <thead>\n",
       "    <tr style=\"text-align: right;\">\n",
       "      <th></th>\n",
       "      <th>examples</th>\n",
       "      <th>model</th>\n",
       "      <th>temperature</th>\n",
       "      <th>batch_size</th>\n",
       "      <th>source</th>\n",
       "      <th>system_content</th>\n",
       "    </tr>\n",
       "  </thead>\n",
       "  <tbody>\n",
       "    <tr>\n",
       "      <th>2024-07-03T16:55:04.703444</th>\n",
       "      <td>16</td>\n",
       "      <td>/nfs/public/hf/models/meta-llama/Meta-Llama-3-...</td>\n",
       "      <td>0.2</td>\n",
       "      <td>16</td>\n",
       "      <td>/app/resources/data/full_study.json</td>\n",
       "      <td>Answer the following question.</td>\n",
       "    </tr>\n",
       "    <tr>\n",
       "      <th>2024-07-03T16:56:30.364929</th>\n",
       "      <td>16</td>\n",
       "      <td>/nfs/public/hf/models/meta-llama/Meta-Llama-3-...</td>\n",
       "      <td>0.2</td>\n",
       "      <td>16</td>\n",
       "      <td>/app/resources/data/full_study.json</td>\n",
       "      <td>Answer the following question.</td>\n",
       "    </tr>\n",
       "    <tr>\n",
       "      <th>2024-08-01T09:31:32.099676</th>\n",
       "      <td>16</td>\n",
       "      <td>/nfs/public/hf/models/meta-llama/Meta-Llama-3-...</td>\n",
       "      <td>0.2</td>\n",
       "      <td>16</td>\n",
       "      <td>/app/resources/data/full_study.json</td>\n",
       "      <td>Answer the following question.</td>\n",
       "    </tr>\n",
       "    <tr>\n",
       "      <th>2024-08-01T09:36:22.035113</th>\n",
       "      <td>16</td>\n",
       "      <td>/nfs/public/hf/models/meta-llama/Meta-Llama-3-...</td>\n",
       "      <td>0.2</td>\n",
       "      <td>16</td>\n",
       "      <td>/app/resources/data/full_study.json</td>\n",
       "      <td>Create a plan, in the form of a list of steps,...</td>\n",
       "    </tr>\n",
       "  </tbody>\n",
       "</table>\n",
       "</div>"
      ],
      "text/plain": [
       "                            examples  \\\n",
       "2024-07-03T16:55:04.703444        16   \n",
       "2024-07-03T16:56:30.364929        16   \n",
       "2024-08-01T09:31:32.099676        16   \n",
       "2024-08-01T09:36:22.035113        16   \n",
       "\n",
       "                                                                        model  \\\n",
       "2024-07-03T16:55:04.703444  /nfs/public/hf/models/meta-llama/Meta-Llama-3-...   \n",
       "2024-07-03T16:56:30.364929  /nfs/public/hf/models/meta-llama/Meta-Llama-3-...   \n",
       "2024-08-01T09:31:32.099676  /nfs/public/hf/models/meta-llama/Meta-Llama-3-...   \n",
       "2024-08-01T09:36:22.035113  /nfs/public/hf/models/meta-llama/Meta-Llama-3-...   \n",
       "\n",
       "                            temperature  batch_size  \\\n",
       "2024-07-03T16:55:04.703444          0.2          16   \n",
       "2024-07-03T16:56:30.364929          0.2          16   \n",
       "2024-08-01T09:31:32.099676          0.2          16   \n",
       "2024-08-01T09:36:22.035113          0.2          16   \n",
       "\n",
       "                                                         source  \\\n",
       "2024-07-03T16:55:04.703444  /app/resources/data/full_study.json   \n",
       "2024-07-03T16:56:30.364929  /app/resources/data/full_study.json   \n",
       "2024-08-01T09:31:32.099676  /app/resources/data/full_study.json   \n",
       "2024-08-01T09:36:22.035113  /app/resources/data/full_study.json   \n",
       "\n",
       "                                                               system_content  \n",
       "2024-07-03T16:55:04.703444                     Answer the following question.  \n",
       "2024-07-03T16:56:30.364929                     Answer the following question.  \n",
       "2024-08-01T09:31:32.099676                     Answer the following question.  \n",
       "2024-08-01T09:36:22.035113  Create a plan, in the form of a list of steps,...  "
      ]
     },
     "execution_count": 14,
     "metadata": {},
     "output_type": "execute_result"
    }
   ],
   "source": [
    "df"
   ]
  }
 ],
 "metadata": {
  "kernelspec": {
   "display_name": "Python 3",
   "language": "python",
   "name": "python3"
  },
  "language_info": {
   "codemirror_mode": {
    "name": "ipython",
    "version": 3
   },
   "file_extension": ".py",
   "mimetype": "text/x-python",
   "name": "python",
   "nbconvert_exporter": "python",
   "pygments_lexer": "ipython3",
   "version": "3.10.12"
  }
 },
 "nbformat": 4,
 "nbformat_minor": 2
}
