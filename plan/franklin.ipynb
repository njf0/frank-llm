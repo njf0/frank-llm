{
 "cells": [
  {
   "cell_type": "code",
   "execution_count": 1,
   "metadata": {},
   "outputs": [
    {
     "name": "stderr",
     "output_type": "stream",
     "text": [
      "/usr/local/lib/python3.10/dist-packages/tqdm/auto.py:21: TqdmWarning: IProgress not found. Please update jupyter and ipywidgets. See https://ipywidgets.readthedocs.io/en/stable/user_install.html\n",
      "  from .autonotebook import tqdm as notebook_tqdm\n"
     ]
    }
   ],
   "source": [
    "import datetime\n",
    "import logging\n",
    "import random\n",
    "from pathlib import Path\n",
    "\n",
    "import franklin\n",
    "import pandas as pd\n",
    "\n",
    "logging.getLogger(\"transformers\").setLevel(logging.ERROR)"
   ]
  },
  {
   "cell_type": "code",
   "execution_count": 2,
   "metadata": {},
   "outputs": [],
   "source": [
    "config = {\n",
    "    \"examples\": 16,\n",
    "    \"model\": \"/nfs/public/hf/models/meta-llama/Meta-Llama-3.1-8B-Instruct\",\n",
    "    \"temperature\": 0.2,\n",
    "    \"batch_size\": 16,\n",
    "    \"source\": \"/app/resources/data/full_study.json\",\n",
    "    \"system_content\": \"Create a plan, in the form of a list of steps, for answering the following question. Then, execute the steps in that plan to provide an answer.\",\n",
    "}"
   ]
  },
  {
   "cell_type": "code",
   "execution_count": 3,
   "metadata": {},
   "outputs": [
    {
     "name": "stderr",
     "output_type": "stream",
     "text": [
      "Loading checkpoint shards: 100%|██████████| 4/4 [04:51<00:00, 72.89s/it]\n",
      "Assembling messages: 100%|██████████| 16/16 [00:00<00:00, 161319.38it/s]\n",
      "Generating batch responses: 100%|██████████| 1/1 [00:24<00:00, 24.75s/it]\n",
      "Parsing outputs: 100%|██████████| 16/16 [00:00<00:00, 128561.04it/s]\n"
     ]
    }
   ],
   "source": [
    "out = franklin.LlamaTest(config).run()"
   ]
  },
  {
   "cell_type": "code",
   "execution_count": 6,
   "metadata": {},
   "outputs": [],
   "source": [
    "example = random.choice(out)\n",
    "q, a = example[0], example[1]"
   ]
  },
  {
   "cell_type": "code",
   "execution_count": 7,
   "metadata": {},
   "outputs": [
    {
     "name": "stdout",
     "output_type": "stream",
     "text": [
      "For the country in Northern America that had the highest GDP in 2013, what will be its urban population in 2029?\n",
      "---\n",
      "Here's a plan to answer the question:\n",
      "\n",
      "1.  Identify the country with the highest GDP in 2013 in Northern America.\n",
      "2.  Determine the urban population of that country in 2013.\n",
      "3.  Find the projected urban population of that country in 2029.\n",
      "\n",
      "Here's the execution of the plan:\n",
      "\n",
      "**Step 1: Identify the country with the highest GDP in 2013 in Northern America.**\n",
      "\n",
      "According to the World Bank, the countries in Northern America are the United States, Canada, and Mexico. The GDP (nominal) of these countries in 2013 was:\n",
      "\n",
      "- United States: $16.768 trillion\n",
      "- Canada: $1.826 trillion\n",
      "- Mexico: $1.138 trillion\n",
      "\n",
      "The United States had the highest GDP in 2013 in Northern America.\n",
      "\n",
      "**Step 2: Determine the urban population of the United States in 2013.**\n",
      "\n",
      "According to the United Nations, the urban population of the United States in 2013 was approximately 83.1% of the total population. The total population of the United States in 2013 was approximately 313.9 million. Therefore, the urban population of the United States in 2013 was approximately 260.5 million.\n",
      "\n",
      "**Step 3: Find the projected urban population of the United States in 2029.**\n",
      "\n",
      "According to the United Nations, the urban population of the United States is projected to be approximately 93.5% of the total population in 2029. The total population of the United States in 2029 is projected to be approximately 373.4 million. Therefore, the urban population of the United States in 2029 is projected to be approximately 348.7 million.\n",
      "\n",
      "So, the urban population of the country with the highest GDP in Northern America (the United States) in 2029 is projected to be approximately 348.7 million.\n"
     ]
    }
   ],
   "source": [
    "print(q)\n",
    "print('---')\n",
    "print(a)"
   ]
  }
 ],
 "metadata": {
  "kernelspec": {
   "display_name": "Python 3",
   "language": "python",
   "name": "python3"
  },
  "language_info": {
   "codemirror_mode": {
    "name": "ipython",
    "version": 3
   },
   "file_extension": ".py",
   "mimetype": "text/x-python",
   "name": "python",
   "nbconvert_exporter": "python",
   "pygments_lexer": "ipython3",
   "version": "3.10.12"
  }
 },
 "nbformat": 4,
 "nbformat_minor": 2
}
