{
 "cells": [
  {
   "cell_type": "code",
   "execution_count": 1,
   "metadata": {},
   "outputs": [
    {
     "name": "stderr",
     "output_type": "stream",
     "text": [
      "/usr/local/lib/python3.10/dist-packages/tqdm/auto.py:21: TqdmWarning: IProgress not found. Please update jupyter and ipywidgets. See https://ipywidgets.readthedocs.io/en/stable/user_install.html\n",
      "  from .autonotebook import tqdm as notebook_tqdm\n"
     ]
    }
   ],
   "source": [
    "import datetime\n",
    "import logging\n",
    "import franklin\n",
    "\n",
    "import pandas as pd\n",
    "from pathlib import Path\n",
    "\n",
    "logging.getLogger(\"transformers\").setLevel(logging.ERROR)\n"
   ]
  },
  {
   "cell_type": "code",
   "execution_count": 2,
   "metadata": {},
   "outputs": [],
   "source": [
    "config = {\n",
    "    \"examples\": 16,\n",
    "    \"model\": \"/nfs/public/hf/models/meta-llama/Meta-Llama-3-8B-Instruct\",\n",
    "    \"temperature\": 0.2,\n",
    "    \"batch_size\": 16,\n",
    "    \"source\": \"/app/resources/data/full_study.json\",\n",
    "    \"system_content\": \"Answer the following question.\",\n",
    "}"
   ]
  },
  {
   "cell_type": "code",
   "execution_count": 3,
   "metadata": {},
   "outputs": [
    {
     "name": "stderr",
     "output_type": "stream",
     "text": [
      "Loading checkpoint shards: 100%|██████████| 4/4 [00:02<00:00,  1.84it/s]\n",
      "Assembling messages: 100%|██████████| 16/16 [00:00<00:00, 296941.88it/s]\n",
      "Generating batch responses: 100%|██████████| 1/1 [00:09<00:00,  9.43s/it]\n",
      "Parsing outputs: 100%|██████████| 16/16 [00:00<00:00, 246723.76it/s]\n"
     ]
    }
   ],
   "source": [
    "out = franklin.LlamaTest(config).run()"
   ]
  },
  {
   "cell_type": "code",
   "execution_count": 4,
   "metadata": {},
   "outputs": [],
   "source": [
    "pairs = [(i, o) for i, o in zip(out[\"inputs\"], out[\"outputs\"])]"
   ]
  },
  {
   "cell_type": "code",
   "execution_count": 5,
   "metadata": {},
   "outputs": [
    {
     "name": "stdout",
     "output_type": "stream",
     "text": [
      "I'm happy to help! However, I must clarify that predicting energy consumption for a specific year, especially one as far ahead as 2029, is a complex task that requires a deep understanding of various factors such as economic trends, technological advancements, and demographic changes.\n",
      "\n",
      "That being said, I can provide some context and insights based on historical trends and available data. Dominica, a small island nation in the Caribbean, has been working to increase its energy efficiency and diversify its energy mix. In 2020, the country had a total energy consumption of around 1.3 TWh (terawatt-hours).\n",
      "\n",
      "To make an educated estimate for 2029, let's consider some factors that might influence energy consumption:\n",
      "\n",
      "1. Renewable energy growth: Dominica has set a goal to reach 100% renewable energy by 2025. If this target is met, it could lead to a significant reduction in fossil fuel consumption and an increase in renewable energy sources like solar, wind, and hydro power.\n",
      "2. Economic growth: Dominica's economy is expected to grow at a moderate pace, which could lead to an increase in energy demand for industries like tourism, manufacturing, and services.\n",
      "3. Energy efficiency improvements: The country has implemented various energy-efficient initiatives, such\n"
     ]
    }
   ],
   "source": [
    "print(pairs[0][1])"
   ]
  },
  {
   "cell_type": "code",
   "execution_count": 6,
   "metadata": {},
   "outputs": [],
   "source": [
    "with Path(\"/app/plan/outputs/log.csv\").open(\"r\") as f:\n",
    "    df = pd.read_csv(f, index_col=0)"
   ]
  },
  {
   "cell_type": "code",
   "execution_count": 7,
   "metadata": {},
   "outputs": [
    {
     "data": {
      "text/html": [
       "<div>\n",
       "<style scoped>\n",
       "    .dataframe tbody tr th:only-of-type {\n",
       "        vertical-align: middle;\n",
       "    }\n",
       "\n",
       "    .dataframe tbody tr th {\n",
       "        vertical-align: top;\n",
       "    }\n",
       "\n",
       "    .dataframe thead th {\n",
       "        text-align: right;\n",
       "    }\n",
       "</style>\n",
       "<table border=\"1\" class=\"dataframe\">\n",
       "  <thead>\n",
       "    <tr style=\"text-align: right;\">\n",
       "      <th></th>\n",
       "      <th>examples</th>\n",
       "      <th>model</th>\n",
       "      <th>temperature</th>\n",
       "      <th>batch_size</th>\n",
       "      <th>source</th>\n",
       "      <th>system_content</th>\n",
       "    </tr>\n",
       "  </thead>\n",
       "  <tbody>\n",
       "    <tr>\n",
       "      <th>2024-07-03T16:55:04.703444</th>\n",
       "      <td>16</td>\n",
       "      <td>/nfs/public/hf/models/meta-llama/Meta-Llama-3-...</td>\n",
       "      <td>0.2</td>\n",
       "      <td>16</td>\n",
       "      <td>/app/resources/data/full_study.json</td>\n",
       "      <td>Answer the following question.</td>\n",
       "    </tr>\n",
       "    <tr>\n",
       "      <th>2024-07-03T16:56:30.364929</th>\n",
       "      <td>16</td>\n",
       "      <td>/nfs/public/hf/models/meta-llama/Meta-Llama-3-...</td>\n",
       "      <td>0.2</td>\n",
       "      <td>16</td>\n",
       "      <td>/app/resources/data/full_study.json</td>\n",
       "      <td>Answer the following question.</td>\n",
       "    </tr>\n",
       "  </tbody>\n",
       "</table>\n",
       "</div>"
      ],
      "text/plain": [
       "                            examples  \\\n",
       "2024-07-03T16:55:04.703444        16   \n",
       "2024-07-03T16:56:30.364929        16   \n",
       "\n",
       "                                                                        model  \\\n",
       "2024-07-03T16:55:04.703444  /nfs/public/hf/models/meta-llama/Meta-Llama-3-...   \n",
       "2024-07-03T16:56:30.364929  /nfs/public/hf/models/meta-llama/Meta-Llama-3-...   \n",
       "\n",
       "                            temperature  batch_size  \\\n",
       "2024-07-03T16:55:04.703444          0.2          16   \n",
       "2024-07-03T16:56:30.364929          0.2          16   \n",
       "\n",
       "                                                         source  \\\n",
       "2024-07-03T16:55:04.703444  /app/resources/data/full_study.json   \n",
       "2024-07-03T16:56:30.364929  /app/resources/data/full_study.json   \n",
       "\n",
       "                                            system_content  \n",
       "2024-07-03T16:55:04.703444  Answer the following question.  \n",
       "2024-07-03T16:56:30.364929  Answer the following question.  "
      ]
     },
     "execution_count": 7,
     "metadata": {},
     "output_type": "execute_result"
    }
   ],
   "source": [
    "df"
   ]
  }
 ],
 "metadata": {
  "kernelspec": {
   "display_name": "Python 3",
   "language": "python",
   "name": "python3"
  },
  "language_info": {
   "codemirror_mode": {
    "name": "ipython",
    "version": 3
   },
   "file_extension": ".py",
   "mimetype": "text/x-python",
   "name": "python",
   "nbconvert_exporter": "python",
   "pygments_lexer": "ipython3",
   "version": "3.10.12"
  }
 },
 "nbformat": 4,
 "nbformat_minor": 2
}
