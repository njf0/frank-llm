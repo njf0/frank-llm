{
 "cells": [
  {
   "cell_type": "code",
   "execution_count": 16,
   "metadata": {},
   "outputs": [],
   "source": [
    "import datetime\n",
    "import logging\n",
    "import random\n",
    "from pathlib import Path\n",
    "\n",
    "import franklin\n",
    "import pandas as pd\n",
    "\n",
    "logging.getLogger(\"transformers\").setLevel(logging.ERROR)"
   ]
  },
  {
   "cell_type": "code",
   "execution_count": 17,
   "metadata": {},
   "outputs": [],
   "source": [
    "config = {\n",
    "    \"examples\": 16,\n",
    "    \"model\": \"/nfs/public/hf/models/meta-llama/Meta-Llama-3.1-8B-Instruct\",\n",
    "    \"temperature\": 0.2,\n",
    "    \"batch_size\": 16,\n",
    "    \"source\": \"/app/resources/data/full_study.json\",\n",
    "    \"system_content\": \"Answer the following question.\",\n",
    "}"
   ]
  },
  {
   "cell_type": "code",
   "execution_count": 18,
   "metadata": {},
   "outputs": [
    {
     "name": "stderr",
     "output_type": "stream",
     "text": [
      "Loading checkpoint shards: 100%|██████████| 4/4 [00:03<00:00,  1.29it/s]\n",
      "Assembling messages: 100%|██████████| 16/16 [00:00<00:00, 201528.12it/s]\n",
      "Generating batch responses: 100%|██████████| 1/1 [00:15<00:00, 15.71s/it]\n",
      "Parsing outputs: 100%|██████████| 16/16 [00:00<00:00, 135300.13it/s]\n"
     ]
    }
   ],
   "source": [
    "out = franklin.LlamaTest(config).run()"
   ]
  },
  {
   "cell_type": "code",
   "execution_count": 19,
   "metadata": {},
   "outputs": [],
   "source": [
    "example = random.choice(out)\n",
    "q, a = example[0], example[1]"
   ]
  },
  {
   "cell_type": "code",
   "execution_count": 20,
   "metadata": {},
   "outputs": [
    {
     "name": "stdout",
     "output_type": "stream",
     "text": [
      "Which country will have the higher energy consumption in 2028: Saint Kitts and Nevis or Philippines?\n",
      "---\n",
      "I don't have the most current data on energy consumption for 2028.\n"
     ]
    }
   ],
   "source": [
    "print(q)\n",
    "print('---')\n",
    "print(a)"
   ]
  }
 ],
 "metadata": {
  "kernelspec": {
   "display_name": "Python 3",
   "language": "python",
   "name": "python3"
  },
  "language_info": {
   "codemirror_mode": {
    "name": "ipython",
    "version": 3
   },
   "file_extension": ".py",
   "mimetype": "text/x-python",
   "name": "python",
   "nbconvert_exporter": "python",
   "pygments_lexer": "ipython3",
   "version": "3.10.12"
  }
 },
 "nbformat": 4,
 "nbformat_minor": 2
}
