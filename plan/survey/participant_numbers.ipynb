{
 "cells": [
  {
   "cell_type": "markdown",
   "metadata": {},
   "source": [
    "# Pilot"
   ]
  },
  {
   "cell_type": "code",
   "execution_count": 11,
   "metadata": {},
   "outputs": [
    {
     "name": "stdout",
     "output_type": "stream",
     "text": [
      "4 models, 4 datasets = 16 model-dataset combinations\n",
      "4 questions per model-dataset combination = 64 examples\n",
      "32 participants, 16 examples per participant = 512 evaluations\n",
      "8 evaluations per example\n",
      "15 minutes per evaluation, £2.86 per evaluation = £91.52 participant payments\n",
      "Fees + VAT = £128.13 total cost\n"
     ]
    }
   ],
   "source": [
    "MODELS = 4\n",
    "DATASETS = 4\n",
    "MODELDATASETCOMBOS = MODELS * DATASETS\n",
    "QUESTIONSPERCOMBO = 4\n",
    "EXAMPLES = MODELDATASETCOMBOS * QUESTIONSPERCOMBO\n",
    "\n",
    "PARTICIPANTS = 32\n",
    "EXAMPLESPERPARTICIPANT = 16\n",
    "TOTALEVALUATIONS = PARTICIPANTS * EXAMPLESPERPARTICIPANT\n",
    "EVALUATIONSPEREXAMPLE = TOTALEVALUATIONS // EXAMPLES\n",
    "\n",
    "TIME = 15\n",
    "PAYMENT = 2.86\n",
    "PARTICIPANTPAYMENTS = PARTICIPANTS * PAYMENT\n",
    "FEES = round(PARTICIPANTPAYMENTS / 3, 2)\n",
    "VAT = round(0.2 * FEES, 2)\n",
    "TOTALCOST = PARTICIPANTPAYMENTS + FEES + VAT\n",
    "\n",
    "print(f'{MODELS} models, {DATASETS} datasets = {MODELDATASETCOMBOS} model-dataset combinations')\n",
    "print(f'{QUESTIONSPERCOMBO} questions per model-dataset combination = {EXAMPLES} examples')\n",
    "print(f'{PARTICIPANTS} participants, {EXAMPLESPERPARTICIPANT} examples per participant = {TOTALEVALUATIONS} evaluations')\n",
    "print(f'{EVALUATIONSPEREXAMPLE} evaluations per example')\n",
    "print(f'{TIME} minutes per evaluation, £{PAYMENT} per evaluation = £{PARTICIPANTPAYMENTS} participant payments')\n",
    "print(f'Fees + VAT = £{TOTALCOST} total cost')"
   ]
  },
  {
   "cell_type": "markdown",
   "metadata": {},
   "source": [
    "# Full study"
   ]
  },
  {
   "cell_type": "code",
   "execution_count": 12,
   "metadata": {},
   "outputs": [
    {
     "name": "stdout",
     "output_type": "stream",
     "text": [
      "4 models, 4 datasets = 16 model-dataset combinations\n",
      "64 questions per dataset = 1024 examples\n",
      "256 participants, 16 examples per participant = 4096 evaluations\n",
      "4 evaluations per example\n",
      "£3.81 per evaluation (256 participants, £11.44 per hour, 20 mins) = £975.36 participant payments\n",
      "Fees + VAT = £1365.5 total cost\n"
     ]
    }
   ],
   "source": [
    "MODELS = 4\n",
    "DATASETS = 4\n",
    "MODELDATASETCOMBOS = MODELS * DATASETS\n",
    "DATASET_SAMPLE = 64\n",
    "EXAMPLES = MODELS * DATASETS * DATASET_SAMPLE\n",
    "\n",
    "PARTICIPANTS = 256\n",
    "EXAMPLESPERPARTICIPANT = 16\n",
    "TOTALEVALUATIONS = PARTICIPANTS * EXAMPLESPERPARTICIPANT\n",
    "EVALUATIONSPEREXAMPLE = TOTALEVALUATIONS // EXAMPLES\n",
    "\n",
    "TIME = 20\n",
    "HOURLY_RATE = 11.44\n",
    "PAYMENT = round(TIME / 60 * HOURLY_RATE, 2)\n",
    "PARTICIPANTPAYMENTS = PARTICIPANTS * PAYMENT\n",
    "FEES = round(PARTICIPANTPAYMENTS / 3, 2)\n",
    "VAT = round(0.2 * FEES, 2)\n",
    "TOTALCOST = PARTICIPANTPAYMENTS + FEES + VAT\n",
    "\n",
    "print(f'{MODELS} models, {DATASETS} datasets = {MODELDATASETCOMBOS} model-dataset combinations')\n",
    "print(f'{DATASET_SAMPLE} questions per dataset = {EXAMPLES} examples')\n",
    "print(f'{PARTICIPANTS} participants, {EXAMPLESPERPARTICIPANT} examples per participant = {TOTALEVALUATIONS} evaluations')\n",
    "print(f'{EVALUATIONSPEREXAMPLE} evaluations per example')\n",
    "print(\n",
    "    f'£{PAYMENT} per evaluation ({PARTICIPANTS} participants, £{HOURLY_RATE} per hour, {TIME} mins) = £{PARTICIPANTPAYMENTS} participant payments'\n",
    ")\n",
    "print(f'Fees + VAT = £{TOTALCOST} total cost')"
   ]
  },
  {
   "cell_type": "code",
   "execution_count": null,
   "metadata": {},
   "outputs": [],
   "source": []
  }
 ],
 "metadata": {
  "kernelspec": {
   "display_name": ".env",
   "language": "python",
   "name": "python3"
  },
  "language_info": {
   "codemirror_mode": {
    "name": "ipython",
    "version": 3
   },
   "file_extension": ".py",
   "mimetype": "text/x-python",
   "name": "python",
   "nbconvert_exporter": "python",
   "pygments_lexer": "ipython3",
   "version": "3.10.15"
  }
 },
 "nbformat": 4,
 "nbformat_minor": 2
}
