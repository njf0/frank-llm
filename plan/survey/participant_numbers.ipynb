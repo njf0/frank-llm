{
 "cells": [
  {
   "cell_type": "markdown",
   "metadata": {},
   "source": [
    "# Pilot"
   ]
  },
  {
   "cell_type": "code",
   "execution_count": 42,
   "metadata": {},
   "outputs": [
    {
     "name": "stdout",
     "output_type": "stream",
     "text": [
      "4 models, 4 datasets = 16 model-dataset combinations\n",
      "4 questions per model-dataset combination = 64 examples\n",
      "32 participants, 16 examples per participant = 512 evaluations\n",
      "8 evaluations per example\n",
      "15 minutes per evaluation, £2.86 per evaluation = £91.52 participant payments\n",
      "Fees + VAT = £128.13 total cost\n"
     ]
    }
   ],
   "source": [
    "MODELS = 4\n",
    "DATASETS = 4\n",
    "MODELDATASETCOMBOS = MODELS * DATASETS\n",
    "QUESTIONSPERCOMBO = 4\n",
    "EXAMPLES = MODELDATASETCOMBOS * QUESTIONSPERCOMBO\n",
    "\n",
    "PARTICIPANTS = 32\n",
    "EXAMPLESPERPARTICIPANT = 16\n",
    "TOTALEVALUATIONS = PARTICIPANTS * EXAMPLESPERPARTICIPANT\n",
    "EVALUATIONSPEREXAMPLE = TOTALEVALUATIONS // EXAMPLES\n",
    "\n",
    "TIME = 15\n",
    "PAYMENT = 2.86\n",
    "PARTICIPANTPAYMENTS = PARTICIPANTS * PAYMENT\n",
    "FEES = round(PARTICIPANTPAYMENTS / 3, 2)\n",
    "VAT = round(0.2 * FEES, 2)\n",
    "TOTALCOST = PARTICIPANTPAYMENTS + FEES + VAT\n",
    "\n",
    "print(f'{MODELS} models, {DATASETS} datasets = {MODELDATASETCOMBOS} model-dataset combinations')\n",
    "print(f'{QUESTIONSPERCOMBO} questions per model-dataset combination = {EXAMPLES} examples')\n",
    "print(f'{PARTICIPANTS} participants, {EXAMPLESPERPARTICIPANT} examples per participant = {TOTALEVALUATIONS} evaluations')\n",
    "print(f'{EVALUATIONSPEREXAMPLE} evaluations per example')\n",
    "print(f'{TIME} minutes per evaluation, £{PAYMENT} per evaluation = £{PARTICIPANTPAYMENTS} participant payments')\n",
    "print(f'Fees + VAT = £{TOTALCOST} total cost')"
   ]
  },
  {
   "cell_type": "markdown",
   "metadata": {},
   "source": [
    "# Full study"
   ]
  },
  {
   "cell_type": "code",
   "execution_count": 3,
   "metadata": {},
   "outputs": [
    {
     "name": "stdout",
     "output_type": "stream",
     "text": [
      "4 models, 4 datasets = 16 model-dataset combinations\n",
      "64 questions per model-dataset combination = 1024 examples\n",
      "128 participants, 16 examples per participant = 2048 evaluations\n",
      "2 evaluations per example\n",
      "15 minutes per evaluation, £2.86 per evaluation = £366.08 participant payments\n",
      "Fees + VAT = £512.52 total cost\n"
     ]
    }
   ],
   "source": [
    "MODELS = 4\n",
    "DATASETS = 4\n",
    "MODELDATASETCOMBOS = MODELS * DATASETS\n",
    "QUESTIONSPERCOMBO = 64\n",
    "EXAMPLES = MODELDATASETCOMBOS * QUESTIONSPERCOMBO\n",
    "\n",
    "PARTICIPANTS = 128\n",
    "EXAMPLESPERPARTICIPANT = 16\n",
    "TOTALEVALUATIONS = PARTICIPANTS * EXAMPLESPERPARTICIPANT\n",
    "EVALUATIONSPEREXAMPLE = TOTALEVALUATIONS // EXAMPLES\n",
    "\n",
    "TIME = 15\n",
    "PAYMENT = 2.86\n",
    "PARTICIPANTPAYMENTS = PARTICIPANTS * PAYMENT\n",
    "FEES = round(PARTICIPANTPAYMENTS / 3, 2)\n",
    "VAT = round(0.2 * FEES, 2)\n",
    "TOTALCOST = PARTICIPANTPAYMENTS + FEES + VAT\n",
    "\n",
    "print(f'{MODELS} models, {DATASETS} datasets = {MODELDATASETCOMBOS} model-dataset combinations')\n",
    "print(f'{QUESTIONSPERCOMBO} questions per model-dataset combination = {EXAMPLES} examples')\n",
    "print(f'{PARTICIPANTS} participants, {EXAMPLESPERPARTICIPANT} examples per participant = {TOTALEVALUATIONS} evaluations')\n",
    "print(f'{EVALUATIONSPEREXAMPLE} evaluations per example')\n",
    "print(f'{TIME} minutes per evaluation, £{PAYMENT} per evaluation = £{PARTICIPANTPAYMENTS} participant payments')\n",
    "print(f'Fees + VAT = £{TOTALCOST} total cost')"
   ]
  }
 ],
 "metadata": {
  "kernelspec": {
   "display_name": ".env",
   "language": "python",
   "name": "python3"
  },
  "language_info": {
   "codemirror_mode": {
    "name": "ipython",
    "version": 3
   },
   "file_extension": ".py",
   "mimetype": "text/x-python",
   "name": "python",
   "nbconvert_exporter": "python",
   "pygments_lexer": "ipython3",
   "version": "3.10.14"
  }
 },
 "nbformat": 4,
 "nbformat_minor": 2
}
