{
 "cells": [
  {
   "cell_type": "code",
   "execution_count": 53,
   "metadata": {},
   "outputs": [],
   "source": [
    "import pandas as pd\n",
    "from markdown import markdown"
   ]
  },
  {
   "cell_type": "code",
   "execution_count": 54,
   "metadata": {},
   "outputs": [],
   "source": [
    "survey = pd.read_json('survey.jsonl', lines=True)\n",
    "all_responses = pd.read_json('../outputs/2024-09-16T15:31:22.jsonl', lines=True)\n",
    "\n",
    "# get rows from all_responses where all_responses['question'] is not in survey['question']\n",
    "df = all_responses[~all_responses['question'].isin(survey['question'])]"
   ]
  },
  {
   "cell_type": "code",
   "execution_count": 55,
   "metadata": {},
   "outputs": [],
   "source": [
    "# sort df['parsed_response'] by length\n",
    "s = df['parsed_response'].sort_values(key=lambda x: x.str.len())"
   ]
  },
  {
   "cell_type": "code",
   "execution_count": 57,
   "metadata": {},
   "outputs": [
    {
     "name": "stdout",
     "output_type": "stream",
     "text": [
      "What will be Argentina's energy consumption in 2027?\n",
      "<p>I don't have the most current data on Eritrea's birth rate for 2026.</p>\n"
     ]
    }
   ],
   "source": [
    "print(df.loc[27]['question'])\n",
    "print(markdown(s[28]))"
   ]
  }
 ],
 "metadata": {
  "kernelspec": {
   "display_name": "Python 3",
   "language": "python",
   "name": "python3"
  },
  "language_info": {
   "codemirror_mode": {
    "name": "ipython",
    "version": 3
   },
   "file_extension": ".py",
   "mimetype": "text/x-python",
   "name": "python",
   "nbconvert_exporter": "python",
   "pygments_lexer": "ipython3",
   "version": "3.10.15"
  }
 },
 "nbformat": 4,
 "nbformat_minor": 2
}
