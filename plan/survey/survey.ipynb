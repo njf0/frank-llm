{
 "cells": [
  {
   "cell_type": "code",
   "execution_count": 45,
   "metadata": {},
   "outputs": [],
   "source": [
    "import pandas as pd"
   ]
  },
  {
   "cell_type": "code",
   "execution_count": 46,
   "metadata": {},
   "outputs": [],
   "source": [
    "survey = pd.read_json('survey.jsonl', lines=True)\n",
    "all_responses = pd.read_json('../outputs/2024-09-16T15:31:22.jsonl', lines=True)\n",
    "\n",
    "# get rows from all_responses where all_responses['question'] is not in survey['question']\n",
    "df = all_responses[~all_responses['question'].isin(survey['question'])]"
   ]
  },
  {
   "cell_type": "code",
   "execution_count": 47,
   "metadata": {},
   "outputs": [],
   "source": [
    "# sort df['parsed_response'] by length\n",
    "s = df['parsed_response'].sort_values(key=lambda x: x.str.len())"
   ]
  },
  {
   "cell_type": "code",
   "execution_count": 58,
   "metadata": {},
   "outputs": [
    {
     "name": "stdout",
     "output_type": "stream",
     "text": [
      "I don't have the most current data, but I can tell you that Bhutan and Cook Islands are both small countries with relatively small populations. However, according to the United Nations, Bhutan's population is approximately 771,608 (2020 estimate) and Cook Islands' population is approximately 18,700 (2020 estimate).\n",
      "\n",
      "Bhutan is a landlocked country in the Himalayas, while Cook Islands is an island nation in the South Pacific Ocean. Bhutan has a larger population and a more urbanized population compared to Cook Islands.\n",
      "\n",
      "Based on the available data, it is likely that Bhutan will have a higher urban population in 2028.\n"
     ]
    }
   ],
   "source": [
    "print(s[s.index[-11]])"
   ]
  }
 ],
 "metadata": {
  "kernelspec": {
   "display_name": "Python 3",
   "language": "python",
   "name": "python3"
  },
  "language_info": {
   "codemirror_mode": {
    "name": "ipython",
    "version": 3
   },
   "file_extension": ".py",
   "mimetype": "text/x-python",
   "name": "python",
   "nbconvert_exporter": "python",
   "pygments_lexer": "ipython3",
   "version": "3.10.12"
  }
 },
 "nbformat": 4,
 "nbformat_minor": 2
}
