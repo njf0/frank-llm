{
 "cells": [
  {
   "cell_type": "code",
   "execution_count": 64,
   "metadata": {},
   "outputs": [],
   "source": [
    "import pandas as pd\n",
    "from markdown import markdown"
   ]
  },
  {
   "cell_type": "code",
   "execution_count": 65,
   "metadata": {},
   "outputs": [],
   "source": [
    "survey = pd.read_json('survey.jsonl', lines=True)\n",
    "all_responses = pd.read_json('../outputs/2024-09-16T16:39:02.jsonl', lines=True)\n",
    "\n",
    "# get rows from all_responses where all_responses['question'] is not in survey['question']\n",
    "df = all_responses[~all_responses['question'].isin(survey['question'])]"
   ]
  },
  {
   "cell_type": "code",
   "execution_count": 66,
   "metadata": {},
   "outputs": [],
   "source": [
    "# sort df['parsed_response'] by length\n",
    "s = df['parsed_response'].sort_values(key=lambda x: x.str.len())"
   ]
  },
  {
   "cell_type": "code",
   "execution_count": 67,
   "metadata": {},
   "outputs": [
    {
     "data": {
      "text/plain": [
       "Index([264, 261, 102, 390, 393, 166, 292, 290, 346, 285, 303,   3, 356, 328,\n",
       "       134, 352, 315, 329, 350, 248,  10, 238, 305, 288, 298, 146, 310, 138,\n",
       "       239, 258, 198, 168, 369, 233, 338, 184, 117, 348, 399,  88, 149, 115,\n",
       "       171, 206, 112, 182, 365, 175, 341, 189],\n",
       "      dtype='int64')"
      ]
     },
     "execution_count": 67,
     "metadata": {},
     "output_type": "execute_result"
    }
   ],
   "source": [
    "s.index[50:100]"
   ]
  },
  {
   "cell_type": "code",
   "execution_count": 68,
   "metadata": {},
   "outputs": [
    {
     "name": "stdout",
     "output_type": "stream",
     "text": [
      "For the country in South-eastern Asia that had the lowest urban population in 2018, what will be its urban population in 2028?\n",
      "<p>I do not have access to real-time information, including demographic data like urban populations. To find the answer to your question, I recommend checking reliable sources such as:</p>\n",
      "<ul>\n",
      "<li><strong>The World Bank:</strong> https://data.worldbank.org/</li>\n",
      "<li><strong>United Nations Population Division:</strong> https://population.un.org/wpp/</li>\n",
      "<li><strong>National statistical offices</strong> of South-eastern Asian countries. </li>\n",
      "</ul>\n",
      "<p>These sources provide up-to-date and accurate demographic information.</p>\n"
     ]
    }
   ],
   "source": [
    "i = 233\n",
    "print(df.loc[i]['question'])\n",
    "print(markdown(df.loc[i]['parsed_response']))"
   ]
  }
 ],
 "metadata": {
  "kernelspec": {
   "display_name": "Python 3",
   "language": "python",
   "name": "python3"
  },
  "language_info": {
   "codemirror_mode": {
    "name": "ipython",
    "version": 3
   },
   "file_extension": ".py",
   "mimetype": "text/x-python",
   "name": "python",
   "nbconvert_exporter": "python",
   "pygments_lexer": "ipython3",
   "version": "3.10.12"
  }
 },
 "nbformat": 4,
 "nbformat_minor": 2
}
