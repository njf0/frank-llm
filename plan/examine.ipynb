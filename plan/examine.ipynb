{
 "cells": [
  {
   "cell_type": "code",
   "execution_count": 14,
   "metadata": {},
   "outputs": [],
   "source": [
    "import csv\n",
    "import random\n",
    "from pathlib import Path\n",
    "import pandas as pd"
   ]
  },
  {
   "cell_type": "code",
   "execution_count": 15,
   "metadata": {},
   "outputs": [],
   "source": [
    "file = Path(\"/app/plan/outputs/2024-08-06T15:43:37.521213.csv\")\n",
    "log = Path(\"/app/plan/outputs/log.csv\")\n",
    "\n",
    "with open(file, 'r', encoding='utf-8') as f:\n",
    "    # skip first row\n",
    "    f.readline()\n",
    "    reader = csv.reader(f)\n",
    "    row = random.choice(list(reader))\n",
    "\n",
    "with open(log, 'r', encoding='utf-8') as f:\n",
    "    df = pd.read_csv(f, index_col=0)\n",
    "\n",
    "q, a = row[0], row[1]"
   ]
  },
  {
   "cell_type": "code",
   "execution_count": 20,
   "metadata": {},
   "outputs": [
    {
     "data": {
      "text/html": [
       "<div>\n",
       "<style scoped>\n",
       "    .dataframe tbody tr th:only-of-type {\n",
       "        vertical-align: middle;\n",
       "    }\n",
       "\n",
       "    .dataframe tbody tr th {\n",
       "        vertical-align: top;\n",
       "    }\n",
       "\n",
       "    .dataframe thead th {\n",
       "        text-align: right;\n",
       "    }\n",
       "</style>\n",
       "<table border=\"1\" class=\"dataframe\">\n",
       "  <thead>\n",
       "    <tr style=\"text-align: right;\">\n",
       "      <th></th>\n",
       "      <th>examples</th>\n",
       "      <th>model</th>\n",
       "      <th>temperature</th>\n",
       "      <th>batch_size</th>\n",
       "      <th>source</th>\n",
       "      <th>system_content</th>\n",
       "      <th>description</th>\n",
       "    </tr>\n",
       "  </thead>\n",
       "  <tbody>\n",
       "    <tr>\n",
       "      <th>2024-08-13T15:27:37.416279</th>\n",
       "      <td>16</td>\n",
       "      <td>mistralai/Mistral-7B-Instruct-v0.3</td>\n",
       "      <td>0.2</td>\n",
       "      <td>16</td>\n",
       "      <td>/app/resources/data/full_study.json</td>\n",
       "      <td>Answer the following question.</td>\n",
       "      <td>Test addition of description column.</td>\n",
       "    </tr>\n",
       "    <tr>\n",
       "      <th>2024-08-13T11:15:04.249118</th>\n",
       "      <td>16</td>\n",
       "      <td>mistralai/Mistral-7B-Instruct-v0.3</td>\n",
       "      <td>0.2</td>\n",
       "      <td>16</td>\n",
       "      <td>/app/resources/data/full_study.json</td>\n",
       "      <td>Answer the following question.</td>\n",
       "      <td>NaN</td>\n",
       "    </tr>\n",
       "    <tr>\n",
       "      <th>2024-08-13T11:06:05.442769</th>\n",
       "      <td>16</td>\n",
       "      <td>mistralai/Mistral-7B-Instruct-v0.3</td>\n",
       "      <td>0.2</td>\n",
       "      <td>16</td>\n",
       "      <td>/app/resources/data/full_study.json</td>\n",
       "      <td>Answer the following question.</td>\n",
       "      <td>NaN</td>\n",
       "    </tr>\n",
       "    <tr>\n",
       "      <th>2024-08-06T16:25:18.401457</th>\n",
       "      <td>16</td>\n",
       "      <td>/nfs/public/hf/models/meta-llama/Meta-Llama-3....</td>\n",
       "      <td>0.2</td>\n",
       "      <td>16</td>\n",
       "      <td>/app/resources/data/full_study.json</td>\n",
       "      <td>Answer the following question.</td>\n",
       "      <td>NaN</td>\n",
       "    </tr>\n",
       "    <tr>\n",
       "      <th>2024-08-06T15:43:37.521213</th>\n",
       "      <td>16</td>\n",
       "      <td>/nfs/public/hf/models/meta-llama/Meta-Llama-3....</td>\n",
       "      <td>0.2</td>\n",
       "      <td>16</td>\n",
       "      <td>/app/resources/data/full_study.json</td>\n",
       "      <td>Create a plan, in the form of a list of steps,...</td>\n",
       "      <td>NaN</td>\n",
       "    </tr>\n",
       "  </tbody>\n",
       "</table>\n",
       "</div>"
      ],
      "text/plain": [
       "                            examples  \\\n",
       "2024-08-13T15:27:37.416279        16   \n",
       "2024-08-13T11:15:04.249118        16   \n",
       "2024-08-13T11:06:05.442769        16   \n",
       "2024-08-06T16:25:18.401457        16   \n",
       "2024-08-06T15:43:37.521213        16   \n",
       "\n",
       "                                                                        model  \\\n",
       "2024-08-13T15:27:37.416279                 mistralai/Mistral-7B-Instruct-v0.3   \n",
       "2024-08-13T11:15:04.249118                 mistralai/Mistral-7B-Instruct-v0.3   \n",
       "2024-08-13T11:06:05.442769                 mistralai/Mistral-7B-Instruct-v0.3   \n",
       "2024-08-06T16:25:18.401457  /nfs/public/hf/models/meta-llama/Meta-Llama-3....   \n",
       "2024-08-06T15:43:37.521213  /nfs/public/hf/models/meta-llama/Meta-Llama-3....   \n",
       "\n",
       "                            temperature  batch_size  \\\n",
       "2024-08-13T15:27:37.416279          0.2          16   \n",
       "2024-08-13T11:15:04.249118          0.2          16   \n",
       "2024-08-13T11:06:05.442769          0.2          16   \n",
       "2024-08-06T16:25:18.401457          0.2          16   \n",
       "2024-08-06T15:43:37.521213          0.2          16   \n",
       "\n",
       "                                                         source  \\\n",
       "2024-08-13T15:27:37.416279  /app/resources/data/full_study.json   \n",
       "2024-08-13T11:15:04.249118  /app/resources/data/full_study.json   \n",
       "2024-08-13T11:06:05.442769  /app/resources/data/full_study.json   \n",
       "2024-08-06T16:25:18.401457  /app/resources/data/full_study.json   \n",
       "2024-08-06T15:43:37.521213  /app/resources/data/full_study.json   \n",
       "\n",
       "                                                               system_content  \\\n",
       "2024-08-13T15:27:37.416279                     Answer the following question.   \n",
       "2024-08-13T11:15:04.249118                     Answer the following question.   \n",
       "2024-08-13T11:06:05.442769                     Answer the following question.   \n",
       "2024-08-06T16:25:18.401457                     Answer the following question.   \n",
       "2024-08-06T15:43:37.521213  Create a plan, in the form of a list of steps,...   \n",
       "\n",
       "                                                     description  \n",
       "2024-08-13T15:27:37.416279  Test addition of description column.  \n",
       "2024-08-13T11:15:04.249118                                   NaN  \n",
       "2024-08-13T11:06:05.442769                                   NaN  \n",
       "2024-08-06T16:25:18.401457                                   NaN  \n",
       "2024-08-06T15:43:37.521213                                   NaN  "
      ]
     },
     "execution_count": 20,
     "metadata": {},
     "output_type": "execute_result"
    }
   ],
   "source": [
    "df[::-1].head()"
   ]
  },
  {
   "cell_type": "code",
   "execution_count": 24,
   "metadata": {},
   "outputs": [
    {
     "data": {
      "text/plain": [
       "examples                                                         16\n",
       "model             /nfs/public/hf/models/meta-llama/Meta-Llama-3....\n",
       "temperature                                                     0.2\n",
       "batch_size                                                       16\n",
       "source                          /app/resources/data/full_study.json\n",
       "system_content    Create a plan, in the form of a list of steps,...\n",
       "description                                                     NaN\n",
       "Name: 2024-08-06T15:43:37.521213, dtype: object"
      ]
     },
     "execution_count": 24,
     "metadata": {},
     "output_type": "execute_result"
    }
   ],
   "source": [
    "df.loc[file.stem]"
   ]
  },
  {
   "cell_type": "code",
   "execution_count": 19,
   "metadata": {},
   "outputs": [
    {
     "name": "stdout",
     "output_type": "stream",
     "text": [
      "For the country in South-eastern Asia that had the highest GDP in 2015, what will be its energy consumption in 2029?\n",
      "---\n",
      "To answer this question, we need to follow these steps:\n",
      "\n",
      "1. **Identify the country with the highest GDP in 2015 in South-eastern Asia**:\n",
      "   - Research the GDP of countries in South-eastern Asia for the year 2015.\n",
      "   - Compare the GDP values to determine the country with the highest GDP.\n",
      "\n",
      "2. **Determine the country's current energy consumption**:\n",
      "   - Research the current energy consumption of the identified country.\n",
      "   - This can be done by looking at recent data from reliable sources such as the International Energy Agency (IEA) or the World Bank.\n",
      "\n",
      "3. **Determine the growth rate of energy consumption**:\n",
      "   - Research the historical growth rate of energy consumption in the identified country.\n",
      "   - This can be done by analyzing data from the past few years to identify a trend.\n",
      "\n",
      "4. **Estimate the energy consumption in 2029**:\n",
      "   - Use the current energy consumption and the growth rate to estimate the energy consumption in 2029.\n",
      "   - This can be done by applying the growth rate to the current energy consumption over the number of years between the current year and 2029.\n",
      "\n",
      "5. **Consider any external factors that may affect energy consumption**:\n",
      "   - Research any external factors that may affect energy consumption, such as changes in government policies, economic growth, or technological advancements.\n",
      "   - Consider how these factors may impact the estimated energy consumption in 2029.\n",
      "\n",
      "6. **Provide the estimated energy consumption in 2029**:\n",
      "   - Based on the previous steps, provide an estimate of the energy consumption in 2029 for the country with the highest GDP in South-eastern Asia in 2015.\n",
      "\n",
      "Please note that this is a hypothetical plan and actual data may not be available for all the steps.\n"
     ]
    }
   ],
   "source": [
    "print(q)\n",
    "print('---')\n",
    "print(a)"
   ]
  }
 ],
 "metadata": {
  "kernelspec": {
   "display_name": "Python 3",
   "language": "python",
   "name": "python3"
  },
  "language_info": {
   "codemirror_mode": {
    "name": "ipython",
    "version": 3
   },
   "file_extension": ".py",
   "mimetype": "text/x-python",
   "name": "python",
   "nbconvert_exporter": "python",
   "pygments_lexer": "ipython3",
   "version": "3.10.12"
  }
 },
 "nbformat": 4,
 "nbformat_minor": 2
}
