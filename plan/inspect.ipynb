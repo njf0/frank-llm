{
 "cells": [
  {
   "cell_type": "code",
   "execution_count": 46,
   "metadata": {},
   "outputs": [],
   "source": [
    "import csv\n",
    "import random\n",
    "from pathlib import Path\n",
    "import pandas as pd"
   ]
  },
  {
   "cell_type": "code",
   "execution_count": 47,
   "metadata": {},
   "outputs": [],
   "source": [
    "file = Path(\"/app/plan/outputs/2024-08-06T16:25:18.401457.csv\")\n",
    "log = Path(\"/app/plan/outputs/log.csv\")\n",
    "\n",
    "with open(file, 'r', encoding='utf-8') as f:\n",
    "    # skip first row\n",
    "    f.readline()\n",
    "    reader = csv.reader(f)\n",
    "    row = random.choice(list(reader))\n",
    "\n",
    "with open(log, 'r', encoding='utf-8') as f:\n",
    "    df = pd.read_csv(f, index_col=0)\n",
    "\n",
    "q, a = row[0], row[1]"
   ]
  },
  {
   "cell_type": "code",
   "execution_count": 48,
   "metadata": {},
   "outputs": [
    {
     "data": {
      "text/plain": [
       "'Answer the following question.'"
      ]
     },
     "execution_count": 48,
     "metadata": {},
     "output_type": "execute_result"
    }
   ],
   "source": [
    "df.loc[file.stem]['system_content']"
   ]
  },
  {
   "cell_type": "code",
   "execution_count": 49,
   "metadata": {},
   "outputs": [
    {
     "name": "stdout",
     "output_type": "stream",
     "text": [
      "For the country in South-eastern Asia that had the highest GDP in 2015, what will be its energy consumption in 2029?\n",
      "---\n",
      "I can't provide you with the exact energy consumption of a country in 2029. However, I can give you some information about the country with the highest GDP in South-eastern Asia in 2015 and its current energy consumption.\n",
      "\n",
      "According to the World Bank, the country with the highest GDP in South-eastern Asia in 2015 was Singapore. However, if we consider the countries in the Association of Southeast Asian Nations (ASEAN), the country with the highest GDP in 2015 was Indonesia.\n",
      "\n",
      "According to the International Energy Agency (IEA), Indonesia's energy consumption in 2020 was approximately 1,314 million tonnes of oil equivalent (Mtoe). \n",
      "\n",
      "To estimate Indonesia's energy consumption in 2029, we can look at the historical growth rate of energy consumption in Indonesia. According to the IEA, Indonesia's energy consumption grew at an average annual rate of 4.3% from 2010 to 2020.\n",
      "\n",
      "Using this growth rate, we can estimate Indonesia's energy consumption in 2029 as follows:\n",
      "\n",
      "Energy consumption in 2020: 1,314 Mtoe\n",
      "Growth rate: 4.3% per annum\n",
      "Number of years: 9 years (from 2020 to 2029)\n",
      "\n",
      "Energy consumption in 2029 = 1,314 Mtoe x (1 + 0.043)^9\n",
      "Energy consumption in 2029 ≈ 2,341 Mtoe\n",
      "\n",
      "Please note that this is a rough estimate and actual energy consumption may vary based on various factors such as changes in economic growth, energy efficiency, and government policies.\n"
     ]
    }
   ],
   "source": [
    "print(q)\n",
    "print('---')\n",
    "print(a)"
   ]
  }
 ],
 "metadata": {
  "kernelspec": {
   "display_name": "Python 3",
   "language": "python",
   "name": "python3"
  },
  "language_info": {
   "codemirror_mode": {
    "name": "ipython",
    "version": 3
   },
   "file_extension": ".py",
   "mimetype": "text/x-python",
   "name": "python",
   "nbconvert_exporter": "python",
   "pygments_lexer": "ipython3",
   "version": "3.10.12"
  }
 },
 "nbformat": 4,
 "nbformat_minor": 2
}
