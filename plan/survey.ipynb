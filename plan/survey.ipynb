{
 "cells": [
  {
   "cell_type": "code",
   "execution_count": 9,
   "metadata": {},
   "outputs": [],
   "source": [
    "import pandas as pd\n",
    "from survey import generate_outputs"
   ]
  },
  {
   "cell_type": "code",
   "execution_count": 10,
   "metadata": {},
   "outputs": [],
   "source": [
    "df = generate_outputs(\"/app/plan/outputs/2024-08-29T11:55:54.jsonl\")"
   ]
  },
  {
   "cell_type": "code",
   "execution_count": 11,
   "metadata": {},
   "outputs": [
    {
     "data": {
      "text/plain": [
       "0     Will the Albany in Georgia reach a hundred tho...\n",
       "1     Is the language used in Saint Vincent and the ...\n",
       "2     Is greed the most prevalent of the Seven Deadl...\n",
       "3     Would the top of Mount Fuji stick out of the S...\n",
       "4     Was Lil Jon's top ranked Billboard song a coll...\n",
       "5           Is Miami a city on the American West Coast?\n",
       "6     Can the Swiss Guard fill the Virginia General ...\n",
       "7     Did any country in Portuguese Colonial War sha...\n",
       "8              Would a Pict be confused by Old English?\n",
       "9     Could Lil Wayne legally operate a vehicle on h...\n",
       "10        Are you likely to find a crucifix in Karachi?\n",
       "11    Was a person sold a Creative Commons License f...\n",
       "12    Could ten gallons of seawater crush a six year...\n",
       "13    Do more anchovy live in colder temperature wat...\n",
       "14              Is 3D printing able to make adenovirus?\n",
       "15                    Would George Fox support stoning?\n",
       "Name: question, dtype: object"
      ]
     },
     "execution_count": 11,
     "metadata": {},
     "output_type": "execute_result"
    }
   ],
   "source": [
    "df[\"question\"]"
   ]
  },
  {
   "cell_type": "code",
   "execution_count": null,
   "metadata": {},
   "outputs": [],
   "source": []
  },
  {
   "cell_type": "code",
   "execution_count": 16,
   "metadata": {},
   "outputs": [
    {
     "name": "stdout",
     "output_type": "stream",
     "text": [
      "Question: Will the Albany in Georgia reach a hundred thousand occupants before the one in New York?<br><br>This is a tricky question! Here's why it's difficult to answer and what factors we'd need to consider:<br><br>* <strong>Population Growth Rates:</strong> We'd need to know the current populations of both Albany cities and their projected growth rates.  Some cities grow faster than others due to factors like job opportunities, housing costs, and local development.<br>* <strong>Economic Factors:</strong>  A strong economy with job creation is a major driver of population growth. We'd need to compare the economic health of the Albany regions in Georgia and New York.<br>* <strong>Migration Patterns:</strong>  People move for various reasons (jobs, family, lifestyle). Understanding migration trends to and from both Albany cities would be important.<br>* <strong>Development Plans:</strong>  Local governments may have plans for expansion or redevelopment that could influence population growth.<br><br><strong>Where to Find Information:</strong><br><br>* <strong>U.S. Census Bureau:</strong> Provides population data and projections.<br>* <strong>Local Government Websites:</strong> Often have information on economic development and city plans.<br>* <strong>Real Estate Market Data:</strong> Can give insights into population trends and housing demand.<br><br><br>Let me know if you want to explore this further with specific data points!\n"
     ]
    }
   ],
   "source": [
    "print(df[\"html\"][0])"
   ]
  },
  {
   "cell_type": "code",
   "execution_count": null,
   "metadata": {},
   "outputs": [],
   "source": []
  }
 ],
 "metadata": {
  "kernelspec": {
   "display_name": "Python 3",
   "language": "python",
   "name": "python3"
  },
  "language_info": {
   "codemirror_mode": {
    "name": "ipython",
    "version": 3
   },
   "file_extension": ".py",
   "mimetype": "text/x-python",
   "name": "python",
   "nbconvert_exporter": "python",
   "pygments_lexer": "ipython3",
   "version": "3.10.12"
  }
 },
 "nbformat": 4,
 "nbformat_minor": 2
}
