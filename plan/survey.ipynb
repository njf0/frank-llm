{
 "cells": [
  {
   "cell_type": "code",
   "execution_count": 1,
   "metadata": {},
   "outputs": [],
   "source": [
    "import pandas as pd\n",
    "from survey import generate_outputs, markdown_to_html"
   ]
  },
  {
   "cell_type": "code",
   "execution_count": 2,
   "metadata": {},
   "outputs": [],
   "source": [
    "df = generate_outputs(\"/app/plan/outputs/2024-08-29T17:08:30.jsonl\")"
   ]
  },
  {
   "cell_type": "code",
   "execution_count": 8,
   "metadata": {},
   "outputs": [
    {
     "data": {
      "text/plain": [
       "0     Was England directly involved in the Arab-Isra...\n",
       "1     Is the Gujarati script the same category of sc...\n",
       "2     Have rhinoceroses been killed to improve human...\n",
       "3     Can a computer be programmed entirely in Boole...\n",
       "4     Could one Amazon share ever buy twenty year Ne...\n",
       "                            ...                        \n",
       "95      Is Fiat Chrysler associated with Japanese cars?\n",
       "96    Could all the unemployed people due to 1933 Gr...\n",
       "97    Are the majority of Reddit users familiar with...\n",
       "98    Does a mongoose have natural camouflage for de...\n",
       "99    Can an art dealer buy Boeing 737-800 with a Da...\n",
       "Name: question, Length: 100, dtype: object"
      ]
     },
     "execution_count": 8,
     "metadata": {},
     "output_type": "execute_result"
    }
   ],
   "source": [
    "df[\"question\"]"
   ]
  },
  {
   "cell_type": "code",
   "execution_count": 9,
   "metadata": {},
   "outputs": [
    {
     "data": {
      "text/plain": [
       "0     England, as a sovereign nation, has not been d...\n",
       "1     No, the Gujarati script and Kanji are not in t...\n",
       "2     No, rhinoceroses have never been killed specif...\n",
       "3     Boolean algebra is a branch of algebra that de...\n",
       "4     No, an individual Amazon share cannot directly...\n",
       "                            ...                        \n",
       "95    No, Fiat Chrysler is not associated with Japan...\n",
       "96    The Great Depression, which began in 1929 and ...\n",
       "97    It's challenging to provide a definitive answe...\n",
       "98    Mongoose, as a small carnivorous mammal, does ...\n",
       "99    An art dealer cannot directly buy a Boeing 737...\n",
       "Name: html, Length: 100, dtype: object"
      ]
     },
     "execution_count": 9,
     "metadata": {},
     "output_type": "execute_result"
    }
   ],
   "source": [
    "df[\"html\"]"
   ]
  },
  {
   "cell_type": "code",
   "execution_count": null,
   "metadata": {},
   "outputs": [],
   "source": []
  }
 ],
 "metadata": {
  "kernelspec": {
   "display_name": "Python 3",
   "language": "python",
   "name": "python3"
  },
  "language_info": {
   "codemirror_mode": {
    "name": "ipython",
    "version": 3
   },
   "file_extension": ".py",
   "mimetype": "text/x-python",
   "name": "python",
   "nbconvert_exporter": "python",
   "pygments_lexer": "ipython3",
   "version": "3.10.12"
  }
 },
 "nbformat": 4,
 "nbformat_minor": 2
}
