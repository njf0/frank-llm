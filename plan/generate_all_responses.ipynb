{
 "cells": [
  {
   "cell_type": "code",
   "execution_count": 91,
   "metadata": {},
   "outputs": [],
   "source": [
    "from pathlib import Path\n",
    "\n",
    "import pandas as pd"
   ]
  },
  {
   "cell_type": "code",
   "execution_count": 92,
   "metadata": {},
   "outputs": [],
   "source": [
    "files = ['2024-08-16T10:07:11.423679',\n",
    "    '2024-08-16T10:12:46.991349',\n",
    "    '2024-08-16T10:27:20.736488',\n",
    "    '2024-08-16T10:42:49.015545',\n",
    "    '2024-08-16T14:25:47.390158'\n",
    "]\n",
    "\n",
    "log = pd.read_csv(Path('outputs', 'log.csv'), index_col=0)"
   ]
  },
  {
   "cell_type": "code",
   "execution_count": 93,
   "metadata": {},
   "outputs": [],
   "source": [
    "df = pd.DataFrame()\n",
    "\n",
    "for f in files:\n",
    "    p = Path('outputs', f'{f}.csv')\n",
    "    model = log.loc[f].model\n",
    "    # append output column to the dataframe1\n",
    "    new_col = pd.read_csv(p)\n",
    "    df = pd.concat([df, new_col['output']], axis=1)\n",
    "    # change column name to model name\n",
    "    df = df.rename(columns={'output': model})\n",
    "    # set index to the first column\n",
    "\n",
    "df = df.set_index(new_col['input'])\n"
   ]
  },
  {
   "cell_type": "code",
   "execution_count": null,
   "metadata": {},
   "outputs": [],
   "source": []
  }
 ],
 "metadata": {
  "kernelspec": {
   "display_name": "Python 3",
   "language": "python",
   "name": "python3"
  },
  "language_info": {
   "codemirror_mode": {
    "name": "ipython",
    "version": 3
   },
   "file_extension": ".py",
   "mimetype": "text/x-python",
   "name": "python",
   "nbconvert_exporter": "python",
   "pygments_lexer": "ipython3",
   "version": "3.10.12"
  }
 },
 "nbformat": 4,
 "nbformat_minor": 2
}
