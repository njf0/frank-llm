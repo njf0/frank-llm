{
 "cells": [
  {
   "cell_type": "code",
   "execution_count": 57,
   "metadata": {},
   "outputs": [
    {
     "name": "stdout",
     "output_type": "stream",
     "text": [
      "Franklin*google/gemma-2-9b-it\n",
      "Franklin*meta-llama/Meta-Llama-3.1-8B-Instruct\n",
      "Franklin*microsoft/Phi-3.5-mini-instruct\n",
      "Franklin*openai/gpt-4o-mini\n",
      "GSM8k*google/gemma-2-9b-it\n",
      "GSM8k*meta-llama/Meta-Llama-3.1-8B-Instruct\n",
      "GSM8k*microsoft/Phi-3.5-mini-instruct\n",
      "GSM8k*openai/gpt-4o-mini\n",
      "HotpotQA*google/gemma-2-9b-it\n",
      "HotpotQA*meta-llama/Meta-Llama-3.1-8B-Instruct\n",
      "HotpotQA*microsoft/Phi-3.5-mini-instruct\n",
      "HotpotQA*openai/gpt-4o-mini\n",
      "StrategyQA*google/gemma-2-9b-it\n",
      "StrategyQA*meta-llama/Meta-Llama-3.1-8B-Instruct\n",
      "StrategyQA*microsoft/Phi-3.5-mini-instruct\n",
      "StrategyQA*openai/gpt-4o-mini\n"
     ]
    }
   ],
   "source": [
    "datasets = ['Franklin', 'GSM8k', 'HotpotQA', 'StrategyQA']\n",
    "models = [\n",
    "    'google/gemma-2-9b-it',\n",
    "    'meta-llama/Meta-Llama-3.1-8B-Instruct',\n",
    "    'microsoft/Phi-3.5-mini-instruct',\n",
    "    'openai/gpt-4o-mini',\n",
    "]\n",
    "\n",
    "import itertools\n",
    "\n",
    "for dataset, model in itertools.product(datasets, models):\n",
    "    print(f'{dataset}*{model}')"
   ]
  },
  {
   "cell_type": "code",
   "execution_count": 58,
   "metadata": {},
   "outputs": [],
   "source": [
    "import pandas as pd\n",
    "\n",
    "# df = pd.read_json('outputs/2024-08-29T16:58:15.jsonl', lines=True)\n",
    "df = pd.read_json(path_or_buf='outputs/2024-08-29T16:48:04.jsonl', lines=True)\n",
    "survey = pd.read_json('survey/test.jsonl', lines=True)"
   ]
  },
  {
   "cell_type": "code",
   "execution_count": 59,
   "metadata": {},
   "outputs": [],
   "source": [
    "# get items in df['question'] that are not in survey['question']\n",
    "df = df[~df['question'].isin(survey['question'])]\n"
   ]
  },
  {
   "cell_type": "code",
   "execution_count": 60,
   "metadata": {},
   "outputs": [],
   "source": [
    "from markdown import markdown\n",
    "\n",
    "df['html'] = df.apply(lambda row: f'<p><em>{row[\"question\"]}</em></p><hr>{markdown(row[\"parsed_responses\"])}', axis=1)"
   ]
  },
  {
   "cell_type": "code",
   "execution_count": 61,
   "metadata": {},
   "outputs": [
    {
     "data": {
      "text/plain": [
       "0     I cannot provide a prediction for Saint Lucia'...\n",
       "1     Unfortunately, I cannot predict future populat...\n",
       "4     I cannot provide you with a precise population...\n",
       "5     I cannot provide a prediction for Afghanistan'...\n",
       "6     I cannot provide a prediction for Bahrain's GD...\n",
       "7     I do not have access to real-time information,...\n",
       "11    I cannot predict future events, including life...\n",
       "13    Unfortunately, I do not have access to real-ti...\n",
       "21    Unfortunately, I cannot predict future events ...\n",
       "25    I cannot predict future events, including birt...\n",
       "27    I cannot provide a prediction for Norfolk Isla...\n",
       "32    Unfortunately, I cannot predict future populat...\n",
       "33    Unfortunately, I cannot provide a precise pred...\n",
       "37    I cannot provide you with a specific predictio...\n",
       "41    I cannot provide a specific prediction for Aze...\n",
       "43    I cannot provide a prediction for Pakistan's p...\n",
       "45    I do not have access to real-time information,...\n",
       "46    I cannot provide a prediction for Cameroon's r...\n",
       "49    I cannot predict future economic outcomes like...\n",
       "51    I do not have access to real-time information,...\n",
       "55    I do not have access to real-time information,...\n",
       "59    Unfortunately, I cannot predict future events ...\n",
       "61    I cannot provide a specific prediction for Bos...\n",
       "67    I cannot predict future economic events, inclu...\n",
       "73    Please provide the context or data needed to a...\n",
       "79    Unfortunately, I cannot provide a prediction f...\n",
       "80    I cannot predict the future, including economi...\n",
       "81    I cannot provide a specific prediction for Tok...\n",
       "82    I cannot provide you with a specific populatio...\n",
       "85    I cannot provide a prediction for the populati...\n",
       "86    I cannot provide a specific prediction for Tuv...\n",
       "93    I cannot provide you with a precise prediction...\n",
       "94    I cannot provide a prediction for Norfolk Isla...\n",
       "95    I cannot provide a prediction for the populati...\n",
       "96    I cannot predict future events, including birt...\n",
       "99    I do not have access to real-time information,...\n",
       "Name: parsed_responses, dtype: object"
      ]
     },
     "execution_count": 61,
     "metadata": {},
     "output_type": "execute_result"
    }
   ],
   "source": [
    "df['parsed_responses']"
   ]
  },
  {
   "cell_type": "code",
   "execution_count": 63,
   "metadata": {},
   "outputs": [
    {
     "data": {
      "text/plain": [
       "\"<p><em>What will be Saint Lucia's population density in 2026?</em></p><hr><p>I cannot provide a prediction for Saint Lucia's population density in 2026. </p>\\n<p>Here's why:</p>\\n<ul>\\n<li><strong>Population forecasting is complex:</strong> It involves many factors like birth rates, death rates, migration patterns, economic conditions, and even environmental changes. These factors are constantly in flux and difficult to predict accurately over a long period.</li>\\n<li><strong>Data limitations:</strong> Reliable and up-to-date demographic data for smaller countries like Saint Lucia might not be readily available or consistently updated.</li>\\n</ul>\\n<p><strong>Where to find potential information:</strong></p>\\n<ul>\\n<li><strong>Saint Lucia's Statistical Office:</strong> They would be the primary source for official population data and any projections they might publish.</li>\\n<li><strong>International organizations:</strong> The United Nations (UN) and regional organizations often produce population estimates and projections, though these might be at a broader regional level rather than specific to Saint Lucia.</li>\\n</ul>\\n<p>Remember that any population projection is an estimate and should be treated with caution.</p>\""
      ]
     },
     "execution_count": 63,
     "metadata": {},
     "output_type": "execute_result"
    }
   ],
   "source": [
    "df['html'][0]"
   ]
  },
  {
   "cell_type": "code",
   "execution_count": null,
   "metadata": {},
   "outputs": [],
   "source": []
  }
 ],
 "metadata": {
  "kernelspec": {
   "display_name": "Python 3",
   "language": "python",
   "name": "python3"
  },
  "language_info": {
   "codemirror_mode": {
    "name": "ipython",
    "version": 3
   },
   "file_extension": ".py",
   "mimetype": "text/x-python",
   "name": "python",
   "nbconvert_exporter": "python",
   "pygments_lexer": "ipython3",
   "version": "3.10.14"
  }
 },
 "nbformat": 4,
 "nbformat_minor": 2
}
