{
 "cells": [
  {
   "cell_type": "code",
   "execution_count": 1,
   "metadata": {},
   "outputs": [
    {
     "name": "stdout",
     "output_type": "stream",
     "text": [
      "Franklin*google/gemma-2-9b-it\n",
      "Franklin*meta-llama/Meta-Llama-3.1-8B-Instruct\n",
      "Franklin*microsoft/Phi-3.5-mini-instruct\n",
      "Franklin*openai/gpt-4o-mini\n",
      "GSM8k*google/gemma-2-9b-it\n",
      "GSM8k*meta-llama/Meta-Llama-3.1-8B-Instruct\n",
      "GSM8k*microsoft/Phi-3.5-mini-instruct\n",
      "GSM8k*openai/gpt-4o-mini\n",
      "HotpotQA*google/gemma-2-9b-it\n",
      "HotpotQA*meta-llama/Meta-Llama-3.1-8B-Instruct\n",
      "HotpotQA*microsoft/Phi-3.5-mini-instruct\n",
      "HotpotQA*openai/gpt-4o-mini\n",
      "StrategyQA*google/gemma-2-9b-it\n",
      "StrategyQA*meta-llama/Meta-Llama-3.1-8B-Instruct\n",
      "StrategyQA*microsoft/Phi-3.5-mini-instruct\n",
      "StrategyQA*openai/gpt-4o-mini\n"
     ]
    }
   ],
   "source": [
    "datasets = ['Franklin', 'GSM8k', 'HotpotQA', 'StrategyQA']\n",
    "models = [\n",
    "    'google/gemma-2-9b-it',\n",
    "    'meta-llama/Meta-Llama-3.1-8B-Instruct',\n",
    "    'microsoft/Phi-3.5-mini-instruct',\n",
    "    'openai/gpt-4o-mini',\n",
    "]\n",
    "\n",
    "import itertools\n",
    "\n",
    "for dataset, model in itertools.product(datasets, models):\n",
    "    print(f'{dataset}*{model}')"
   ]
  },
  {
   "cell_type": "code",
   "execution_count": null,
   "metadata": {},
   "outputs": [],
   "source": []
  }
 ],
 "metadata": {
  "kernelspec": {
   "display_name": "Python 3",
   "language": "python",
   "name": "python3"
  },
  "language_info": {
   "codemirror_mode": {
    "name": "ipython",
    "version": 3
   },
   "file_extension": ".py",
   "mimetype": "text/x-python",
   "name": "python",
   "nbconvert_exporter": "python",
   "pygments_lexer": "ipython3",
   "version": "3.10.14"
  }
 },
 "nbformat": 4,
 "nbformat_minor": 2
}
