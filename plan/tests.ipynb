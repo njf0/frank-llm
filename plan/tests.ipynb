{
 "cells": [
  {
   "cell_type": "code",
   "execution_count": 1,
   "metadata": {},
   "outputs": [],
   "source": [
    "import pandas as pd"
   ]
  },
  {
   "cell_type": "code",
   "execution_count": 3,
   "metadata": {},
   "outputs": [],
   "source": [
    "df = pd.read_json('outputs/log.jsonl', lines=True)"
   ]
  },
  {
   "cell_type": "code",
   "execution_count": 8,
   "metadata": {},
   "outputs": [
    {
     "data": {
      "text/plain": [
       "['2024-09-04T10:59:57.jsonl',\n",
       " '2024-09-04T11:02:03.jsonl',\n",
       " '2024-09-04T11:03:19.jsonl',\n",
       " '2024-09-04T11:05:32.jsonl',\n",
       " '2024-09-04T11:06:56.jsonl',\n",
       " '2024-09-04T11:07:51.jsonl',\n",
       " '2024-09-04T11:09:55.jsonl',\n",
       " '2024-09-04T11:12:11.jsonl',\n",
       " '2024-09-04T11:14:47.jsonl']"
      ]
     },
     "execution_count": 8,
     "metadata": {},
     "output_type": "execute_result"
    }
   ],
   "source": [
    "df[df['description'] == 'sample-50']['filename'].to_list()"
   ]
  }
 ],
 "metadata": {
  "kernelspec": {
   "display_name": "Python 3",
   "language": "python",
   "name": "python3"
  },
  "language_info": {
   "codemirror_mode": {
    "name": "ipython",
    "version": 3
   },
   "file_extension": ".py",
   "mimetype": "text/x-python",
   "name": "python",
   "nbconvert_exporter": "python",
   "pygments_lexer": "ipython3",
   "version": "3.10.12"
  }
 },
 "nbformat": 4,
 "nbformat_minor": 2
}
