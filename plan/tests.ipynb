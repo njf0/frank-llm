{
 "cells": [
  {
   "cell_type": "code",
   "execution_count": 8,
   "metadata": {},
   "outputs": [],
   "source": [
    "from pathlib import Path\n",
    "\n",
    "import pandas as pd\n",
    "\n",
    "PWD = Path.cwd()"
   ]
  },
  {
   "cell_type": "code",
   "execution_count": 10,
   "metadata": {},
   "outputs": [],
   "source": [
    "datasets = ['Franklin', 'GSM8k', 'HotpotQA', 'StrategyQA']\n",
    "sources = [\n",
    "    'Franklin/full_study.jsonl',\n",
    "    'GSM8k/test.jsonl',\n",
    "    'HotpotQA/hotpot_test_fullwiki_v1.jsonl',\n",
    "    'StrategyQA/dev_decomp_3_plus.jsonl',\n",
    "]\n",
    "models = [\n",
    "    'google/gemma-2-9b-it',\n",
    "    'meta-llama/Meta-Llama-3.1-8B-Instruct',\n",
    "    'microsoft/Phi-3.5-mini-instruct',\n",
    "    'openai/gpt-4o-mini',\n",
    "]\n",
    "\n",
    "description = 'sample-64-final'\n",
    "examples = 64\n",
    "\n",
    "# generate queue\n",
    "df = pd.read_json(Path(PWD, 'queue.jsonl'), lines=True)\n",
    "# add rows to queue df\n",
    "for model, source in zip(models, sources):\n",
    "    config = pd.Series({'model': model, 'source': source, 'description': description, 'examples': examples})\n",
    "    df = pd.concat([df, config], axis=1)\n",
    "\n",
    "df = df.T"
   ]
  },
  {
   "cell_type": "code",
   "execution_count": 12,
   "metadata": {},
   "outputs": [],
   "source": [
    "df.to_json(Path(PWD, 'queue.jsonl'), orient='records', lines=True)"
   ]
  }
 ],
 "metadata": {
  "kernelspec": {
   "display_name": "Python 3",
   "language": "python",
   "name": "python3"
  },
  "language_info": {
   "codemirror_mode": {
    "name": "ipython",
    "version": 3
   },
   "file_extension": ".py",
   "mimetype": "text/x-python",
   "name": "python",
   "nbconvert_exporter": "python",
   "pygments_lexer": "ipython3",
   "version": "3.10.12"
  }
 },
 "nbformat": 4,
 "nbformat_minor": 2
}
