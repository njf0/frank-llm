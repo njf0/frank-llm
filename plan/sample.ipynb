{
 "cells": [
  {
   "cell_type": "code",
   "execution_count": 20,
   "metadata": {},
   "outputs": [],
   "source": [
    "import json\n",
    "\n",
    "\n",
    "import pandas as pd"
   ]
  },
  {
   "cell_type": "code",
   "execution_count": 21,
   "metadata": {},
   "outputs": [],
   "source": [
    "log = pd.read_json(\"outputs/log.jsonl\", lines=True)"
   ]
  },
  {
   "cell_type": "code",
   "execution_count": 22,
   "metadata": {},
   "outputs": [
    {
     "data": {
      "text/html": [
       "<div>\n",
       "<style scoped>\n",
       "    .dataframe tbody tr th:only-of-type {\n",
       "        vertical-align: middle;\n",
       "    }\n",
       "\n",
       "    .dataframe tbody tr th {\n",
       "        vertical-align: top;\n",
       "    }\n",
       "\n",
       "    .dataframe thead th {\n",
       "        text-align: right;\n",
       "    }\n",
       "</style>\n",
       "<table border=\"1\" class=\"dataframe\">\n",
       "  <thead>\n",
       "    <tr style=\"text-align: right;\">\n",
       "      <th></th>\n",
       "      <th>filename</th>\n",
       "      <th>examples</th>\n",
       "      <th>model</th>\n",
       "      <th>temperature</th>\n",
       "      <th>batch_size</th>\n",
       "      <th>source</th>\n",
       "      <th>system_content</th>\n",
       "      <th>description</th>\n",
       "    </tr>\n",
       "  </thead>\n",
       "  <tbody>\n",
       "    <tr>\n",
       "      <th>31</th>\n",
       "      <td>2024-08-29T13:09:31.jsonl</td>\n",
       "      <td>-1</td>\n",
       "      <td>google/gemma-2-9b-it</td>\n",
       "      <td>0.2</td>\n",
       "      <td>16</td>\n",
       "      <td>Franklin/full_study.jsonl</td>\n",
       "      <td>Answer the following question.</td>\n",
       "      <td>Full dataset test</td>\n",
       "    </tr>\n",
       "    <tr>\n",
       "      <th>32</th>\n",
       "      <td>2024-08-29T13:37:18.jsonl</td>\n",
       "      <td>-1</td>\n",
       "      <td>google/gemma-2-9b-it</td>\n",
       "      <td>0.2</td>\n",
       "      <td>16</td>\n",
       "      <td>GSM8k/test.jsonl</td>\n",
       "      <td>Answer the following question.</td>\n",
       "      <td>Full dataset test</td>\n",
       "    </tr>\n",
       "  </tbody>\n",
       "</table>\n",
       "</div>"
      ],
      "text/plain": [
       "                     filename  examples                 model  temperature  \\\n",
       "31  2024-08-29T13:09:31.jsonl        -1  google/gemma-2-9b-it          0.2   \n",
       "32  2024-08-29T13:37:18.jsonl        -1  google/gemma-2-9b-it          0.2   \n",
       "\n",
       "    batch_size                     source                  system_content  \\\n",
       "31          16  Franklin/full_study.jsonl  Answer the following question.   \n",
       "32          16           GSM8k/test.jsonl  Answer the following question.   \n",
       "\n",
       "          description  \n",
       "31  Full dataset test  \n",
       "32  Full dataset test  "
      ]
     },
     "execution_count": 22,
     "metadata": {},
     "output_type": "execute_result"
    }
   ],
   "source": [
    "# get filename column for specific description column value\n",
    "log[log[\"description\"] == \"Full dataset test\"]"
   ]
  },
  {
   "cell_type": "code",
   "execution_count": null,
   "metadata": {},
   "outputs": [],
   "source": []
  }
 ],
 "metadata": {
  "kernelspec": {
   "display_name": "Python 3",
   "language": "python",
   "name": "python3"
  },
  "language_info": {
   "codemirror_mode": {
    "name": "ipython",
    "version": 3
   },
   "file_extension": ".py",
   "mimetype": "text/x-python",
   "name": "python",
   "nbconvert_exporter": "python",
   "pygments_lexer": "ipython3",
   "version": "3.10.12"
  }
 },
 "nbformat": 4,
 "nbformat_minor": 2
}
